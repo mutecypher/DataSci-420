{
 "cells": [
  {
   "cell_type": "markdown",
   "metadata": {},
   "source": [
    "# Milestone 3 Assignment - Capstone Project\n",
    "\n",
    "## Author - Mike Pearson"
   ]
  },
  {
   "cell_type": "markdown",
   "metadata": {},
   "source": [
    "<div id=\"reminder\" style=\"border-radius: 5px; background-color:ghostwhite; padding: 5px 5px; color: darkslategray; \" >\n",
    "Remove this cell before submitting this file.</div>\n",
    "### Capstone Project Instructions\n",
    "Select a problem and data sets of particular interest and apply the analytics process to find and report on a solution.\n",
    "\n",
    "Students will construct a simple dashboard to allow a non-technical user to explore their solution. The data should be read from a suitable persistent data storage, such as an Internet URL or a SQL data base.\n",
    "\n",
    "The process followed by the students and the grading criteria include:\n",
    "<ol style=\"list-style-type: lower-alpha;\">\n",
    "<li>Understand the business problem <span class=\"label\" style=\"border-radius: 3px; background-color: darkcyan; color: white;\">Milestone 1</span></li>\n",
    "<li>Evaluate and explore the available data <span class=\"label\" style=\"border-radius: 3px; background-color: darkcyan; color: white;\">Milestone 1</span></li>\n",
    "<li>Proper data preparation <span class=\"label\" style=\"border-radius: 3px; background-color: darkcyan; color: white;\">Milestone 1</span> <span class=\"label\" style=\"border-radius: 3px; background-color: royalblue; color: white;\">Milestone 2</span></li>\n",
    "<li>Exploration of data and understand relationships <span class=\"label\" style=\"border-radius: 3px; background-color: darkcyan; color: white;\">Milestone 1</span> <span class=\"label\" style=\"border-radius: 3px; background-color: royalblue; color: white;\">Milestone 2</span></li>\n",
    "<li>Perform basic analytics and machine learning, within the scope of the course, on the data.  <span class=\"label\" style=\"border-radius: 3px; background-color: royalblue; color: white;\">Milestone 2</span> <span class=\"label\" style=\"border-radius: 3px; background-color: slateblue; color: white;\">Milestone 3</span> <BR/>For example, classification to predict which employees are most likely to leave the company.</li>\n",
    "<li>Create a written and/or oral report on the results suitable for a non-technical audience. <span class=\"label\" style=\"border-radius: 3px; background-color: slateblue; color: white;\">Milestone 3</span></li>\n",
    "</ol>\n",
    "\n"
   ]
  },
  {
   "cell_type": "markdown",
   "metadata": {},
   "source": [
    "<div id=\"reminder\" style=\"border-radius: 5px; background-color:ghostwhite; padding: 5px 5px; color: darkslategray; \" >\n",
    "Remove this cell before submitting this file.</div>\n",
    "## Tasks\n",
    "\n",
    "In this project notebook, address the following:\n",
    "\n",
    "1). **Problem and Key Insight**: high-level question and answer from the modeling analysis\n",
    "* Describe the business problem and background\n",
    "* Summarize the key findings/conclusions (from after performing model evaluation)\n",
    "* Suggest next steps to take action or improve the models.\n",
    "\n",
    "2). **Data**: quick overview of the data including 1 or 2 visualizations\n",
    "* Report the source(s) of the data\n",
    "* Include profile report\n",
    "* Include 1 or 2 key visualizations\n",
    "* Summarize the data exploration and preparation \n",
    "\n",
    "3). **Features**: overview on feature selection and transformations\n",
    "* Describe the needed features\n",
    "* Perform the feature engineering\n",
    "\n",
    "4). **Model Building**: overview of algorithms and tools\n",
    "* Describe at least 2 models selected and provide justification for their selection\n",
    "* Split, Train, Run Models\n",
    "\n",
    "5). **Model Evaluation**: highlight key achievements and main metrics\n",
    "* Report on Accuracy and other key metrics (MSE, R^2, ROC/AUC, Precision, Recall?) for each model\n",
    "* Summarize model performance comparisons\n",
    "\n",
    "6). **Time on Task**: summary of time on each phase. (If you were going to bill the client for the work involved, report on the time per task.)\n",
    "* Data Preparation and Exploration\n",
    "* Feature Selection and Engineering\n",
    "* Data Modeling and Evaluation\n",
    "\n",
    "\n",
    "**Please use the section headings to ensure accurate grading.**"
   ]
  },
  {
   "cell_type": "markdown",
   "metadata": {},
   "source": [
    "## <font color=\"blue\">Problem and Key Insight</font>"
   ]
  },
  {
   "cell_type": "markdown",
   "metadata": {},
   "source": [
    "## Problem & Background\n",
    "\n",
    "### The goal of this project is to determine if adding stock market data will improve the predictability of house prices in King County. The thinking is that stock prices expand and contract the resources that buyers have and will have an effect on the prices that buyers are willing to pay for homes.\n",
    "\n",
    "### I chose the 5 largest employers in King County with publicly traded stock, and I also included the Dow Jones Industrial average."
   ]
  },
  {
   "cell_type": "markdown",
   "metadata": {},
   "source": [
    "## Conclusions\n",
    "\n",
    "### Adding the stock data did not improve the accuracy of the predictions, at least for the time period of the King County data set.\n"
   ]
  },
  {
   "cell_type": "markdown",
   "metadata": {},
   "source": [
    "### Next Steps\n"
   ]
  },
  {
   "cell_type": "markdown",
   "metadata": {},
   "source": [
    "## <font color=\"blue\">Data Exploration and Preparation</font>"
   ]
  },
  {
   "cell_type": "markdown",
   "metadata": {},
   "source": [
    "### Sources\n"
   ]
  },
  {
   "cell_type": "markdown",
   "metadata": {},
   "source": [
    "### Data sources:  the King County real estate data set from UW Course 410 in Data Science: url :\"https://library.startlearninglabs.uw.edu/DATASCI410/Datasets/kc_house_data.csv\"\n",
    "\n",
    "### Stock market data was downloaded from Yahoo finance for the same time period as the King County data.\n",
    "\n",
    "### The choice of the 5 companies was based on this article in TripSavvy https://www.tripsavvy.com/biggest-seattle-area-employers-2965051\n",
    "\n",
    "\n",
    "### That data was uploaded (in csv format) to my github deposity for this course\n",
    "\n",
    "### The Dow Jones Industrial closing value for the period May 2, 2014 to May 27, 2015\n",
    "\n",
    "URL2 = 'https://raw.githubusercontent.com/mutecypher/DataSci-420/master/DJI.csv'\n",
    "\n",
    "### Amazon's closing price for the period May 2, 2014 to May 27, 2015\n",
    "URL3 = 'https://raw.githubusercontent.com/mutecypher/DataSci-420/master/AMZN.csv'\n",
    "\n",
    "### Boeing's closing price for the period May 2, 2014 to May 27, 2015\n",
    "URL4 = 'https://raw.githubusercontent.com/mutecypher/DataSci-420/master/BA.csv'\n",
    "\n",
    "### Microsoft's closing price for the period May 2, 2014 to May 27, 2015\n",
    "\n",
    "URL5 = 'https://raw.githubusercontent.com/mutecypher/DataSci-420/master/MSFT.csv'\n",
    "\n",
    "\n",
    "### Starbucks' closing price for the period May 2, 2014 to May 27, 2015\n",
    "\n",
    "URL6 = 'https://raw.githubusercontent.com/mutecypher/DataSci-420/master/SBUX.csv'\n",
    "\n",
    "### Walmart's closing price for the period May 2, 2014 to May 27, 2015\n",
    "\n",
    "URL7 = 'https://raw.githubusercontent.com/mutecypher/DataSci-420/master/WMT.csv'\n",
    "\n"
   ]
  },
  {
   "cell_type": "code",
   "execution_count": 1,
   "metadata": {},
   "outputs": [
    {
     "name": "stdout",
     "output_type": "stream",
     "text": [
      "\n",
      " The tail of Keepers looks like\n",
      "\n",
      "          datetime  bedrooms  bathrooms  sqft_living  sqft_lot  floors  \\\n",
      "20986  2015-05-14         4       1.75         1980      5850     1.0   \n",
      "20987  2015-05-14         5       3.00         3223      6371     2.0   \n",
      "20988  2015-05-14         4       3.50         2630      3757     2.0   \n",
      "20989  2015-05-15         5       2.00         1870      7344     1.5   \n",
      "20990  2015-05-27         4       2.25         3750      5000     2.0   \n",
      "\n",
      "       waterfront  view  condition  grade    ...     day  price_normed  \\\n",
      "20986           0     1          4      8    ...      14      0.025855   \n",
      "20987           0     0          3      9    ...      14     -0.008453   \n",
      "20988           0     0          3     10    ...      14      0.029340   \n",
      "20989           0     0          3      7    ...      15     -0.012552   \n",
      "20990           0     0          5      8    ...      27      0.107558   \n",
      "\n",
      "       Amazon_normed  Boeing_normed  Microsoft_normed  Starbucks_normed  \\\n",
      "20986       0.918938       0.741056          0.915640          0.924927   \n",
      "20987       0.918938       0.741056          0.915640          0.924927   \n",
      "20988       0.918938       0.741056          0.915640          0.924927   \n",
      "20989       0.879229       0.714036          0.875829          0.939003   \n",
      "20990       0.913500       0.616963          0.810427          0.985337   \n",
      "\n",
      "       Walmart_normed  DJI_normed    scores    resids  \n",
      "20986        0.314069    0.983241  0.015529 -0.010326  \n",
      "20987        0.314069    0.983241  0.036532  0.044985  \n",
      "20988        0.314069    0.983241  0.040866  0.011526  \n",
      "20989        0.344425    0.992599 -0.025986 -0.013435  \n",
      "20990        0.107998    0.942138  0.063179 -0.044379  \n",
      "\n",
      "[5 rows x 24 columns]\n"
     ]
    }
   ],
   "source": [
    "###  The combined data set is at my github depository\n",
    "\n",
    "\n",
    "\n",
    "data_url = 'https://raw.githubusercontent.com/mutecypher/DataSci-420/master/Keepers.csv'\n",
    "\n",
    "# Import libraries\n",
    "import pandas as pd\n",
    "import matplotlib.pyplot as plt\n",
    "import numpy as np\n",
    "import datetime as dt\n",
    "import seaborn as sbn\n",
    "from dateutil.parser import parse\n",
    "\n",
    "\n",
    "Keepers = pd.read_csv(data_url)\n",
    "print(\"\\n The tail of Keepers looks like\")\n",
    "print(\"\\n\", Keepers.tail())\n"
   ]
  },
  {
   "cell_type": "markdown",
   "metadata": {},
   "source": [
    "### Data Exploration Summary\n"
   ]
  },
  {
   "cell_type": "markdown",
   "metadata": {},
   "source": [
    "## <font color=\"blue\">Feature Engineering and Selection</font>"
   ]
  },
  {
   "cell_type": "code",
   "execution_count": 4,
   "metadata": {},
   "outputs": [
    {
     "data": {
      "text/plain": [
       "<matplotlib.axes._subplots.AxesSubplot at 0x1a2254b080>"
      ]
     },
     "execution_count": 4,
     "metadata": {},
     "output_type": "execute_result"
    },
    {
     "data": {
      "image/png": "[encoded data removed]",
      "text/plain": [
       "<Figure size 792x648 with 2 Axes>"
      ]
     },
     "metadata": {
      "needs_background": "light"
     },
     "output_type": "display_data"
    }
   ],
   "source": [
    "## Select factors to exclude\n",
    "corr = Keepers.corr()\n",
    "mask = np.zeros_like(corr, dtype=np.bool)\n",
    "mask[np.triu_indices_from(mask)] = True\n",
    "\n",
    "# Set up the matplotlib figure\n",
    "f, ax = plt.subplots(figsize=(11, 9))\n",
    "\n",
    "\n",
    "# Generate a custom diverging colormap\n",
    "cmap = sbn.diverging_palette(220, 10, as_cmap=True)\n",
    "\n",
    "# Draw the heatmap with the mask and correct aspect ratio\n",
    "sbn.heatmap(corr, mask=mask, cmap=cmap, vmax=.3, center=0,\n",
    "            square=True, linewidths=.5, cbar_kws={\"shrink\": .5})"
   ]
  },
  {
   "cell_type": "code",
   "execution_count": null,
   "metadata": {},
   "outputs": [],
   "source": []
  },
  {
   "cell_type": "code",
   "execution_count": null,
   "metadata": {},
   "outputs": [],
   "source": []
  },
  {
   "cell_type": "markdown",
   "metadata": {},
   "source": [
    "## <font color=\"blue\">Data Models</font>"
   ]
  },
  {
   "cell_type": "code",
   "execution_count": null,
   "metadata": {},
   "outputs": [],
   "source": []
  },
  {
   "cell_type": "code",
   "execution_count": null,
   "metadata": {},
   "outputs": [],
   "source": []
  },
  {
   "cell_type": "code",
   "execution_count": null,
   "metadata": {},
   "outputs": [],
   "source": []
  },
  {
   "cell_type": "markdown",
   "metadata": {},
   "source": [
    "## <font color=\"blue\">Model Evaluations</font>"
   ]
  },
  {
   "cell_type": "code",
   "execution_count": null,
   "metadata": {},
   "outputs": [],
   "source": []
  },
  {
   "cell_type": "code",
   "execution_count": null,
   "metadata": {},
   "outputs": [],
   "source": []
  },
  {
   "cell_type": "code",
   "execution_count": null,
   "metadata": {},
   "outputs": [],
   "source": []
  },
  {
   "cell_type": "markdown",
   "metadata": {},
   "source": [
    "## <font color=\"blue\">Time on Tasks</font>"
   ]
  },
  {
   "cell_type": "code",
   "execution_count": null,
   "metadata": {},
   "outputs": [],
   "source": []
  },
  {
   "cell_type": "markdown",
   "metadata": {},
   "source": [
    "\n",
    "| Task | Time | \n",
    "| :--- | ---: | \n",
    "| Data Retrieval |  xx |\n",
    "| Data Preparation & Exploration |  xx |\n",
    "| Feature Selection & Engineering |  xx |\n",
    "| Data Modeling & Evaluation |  xx |\n",
    "| Deriving Insight |  xx |"
   ]
  }
 ],
 "metadata": {
  "kernelspec": {
   "display_name": "Python 3",
   "language": "python",
   "name": "python3"
  },
  "language_info": {
   "codemirror_mode": {
    "name": "ipython",
    "version": 3
   },
   "file_extension": ".py",
   "mimetype": "text/x-python",
   "name": "python",
   "nbconvert_exporter": "python",
   "pygments_lexer": "ipython3",
   "version": "3.6.8"
  }
 },
 "nbformat": 4,
 "nbformat_minor": 2
}

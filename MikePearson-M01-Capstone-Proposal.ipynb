{
 "cells": [
  {
   "cell_type": "markdown",
   "metadata": {},
   "source": [
    "# Milestone 1 Assignment - Capstone Proposal\n",
    "\n",
    "## Author - Studentname"
   ]
  },
  {
   "cell_type": "markdown",
   "metadata": {},
   "source": [
    "### Capstone Project Instructions\n",
    "Select a problem and data sets of particular interest and apply the analytics process to find and report on a solution.\n",
    "\n",
    "Students will construct a simple dashboard to allow a non-technical user to explore their solution. The data should be read from a suitable persistent data storage, such as an Internet URL or a SQL data base.\n",
    "\n",
    "The process followed by the students and the grading criteria include:\n",
    "<ol style=\"list-style-type: lower-alpha;\">\n",
    "<li>Understand the business problem <span class=\"label\" style=\"border-radius: 3px; background-color: darkcyan; color: white;\">Milestone 1</span></li>\n",
    "<li>Evaluate and explore the available data <span class=\"label\" style=\"border-radius: 3px; background-color: darkcyan; color: white;\">Milestone 1</span></li>\n",
    "<li>Proper data preparation <span class=\"label\" style=\"border-radius: 3px; background-color: darkcyan; color: white;\">Milestone 1</span> <span class=\"label\" style=\"border-radius: 3px; background-color: royalblue; color: white;\">Milestone 2</span></li>\n",
    "<li>Exploration of data and understand relationships <span class=\"label\" style=\"border-radius: 3px; background-color: darkcyan; color: white;\">Milestone 1</span> <span class=\"label\" style=\"border-radius: 3px; background-color: royalblue; color: white;\">Milestone 2</span></li>\n",
    "<li>Perform basic analytics and machine learning, within the scope of the course, on the data.  <span class=\"label\" style=\"border-radius: 3px; background-color: royalblue; color: white;\">Milestone 2</span> <span class=\"label\" style=\"border-radius: 3px; background-color: slateblue; color: white;\">Milestone 3</span> <BR/>For example, classification to predict which employees are most likely to leave the company.</li>\n",
    "<li>Create a written and/or oral report on the results suitable for a non-technical audience. <span class=\"label\" style=\"border-radius: 3px; background-color: slateblue; color: white;\">Milestone 3</span></li>\n",
    "</ol>\n",
    "\n",
    "\n"
   ]
  },
  {
   "cell_type": "markdown",
   "metadata": {},
   "source": [
    "## Tasks\n",
    "For this proposal, you are to:\n",
    "1. Generate or describe a solvable business problem and outline the flow of data needed to address the problem.\n",
    "2. Identify 2 or more available data sets\n",
    "3. Report on the statistics of each data set to include: type, unique values, missing values, quantile statistics, descriptive statistics, most frequent values, and histogram. Include analysis statements based on results.\n",
    "4. Perform data preparation based on analysis of the quality of the available data include concatenation method, imputation method(s), dealing with outliers, and binning/scaling transformation.\n",
    "5. Output the resulting data into a new data file\n",
    "6. Identify potential machine learning model(s)\n"
   ]
  },
  {
   "cell_type": "markdown",
   "metadata": {},
   "source": [
    "## Problem Definition\n",
    "\n"
   ]
  },
  {
   "cell_type": "code",
   "execution_count": null,
   "metadata": {},
   "outputs": [],
   "source": []
  },
  {
   "cell_type": "code",
   "execution_count": null,
   "metadata": {},
   "outputs": [],
   "source": []
  },
  {
   "cell_type": "markdown",
   "metadata": {},
   "source": [
    "## Data Sets"
   ]
  },
  {
   "cell_type": "code",
   "execution_count": null,
   "metadata": {},
   "outputs": [],
   "source": [
    "# Datasets location\n"
   ]
  },
  {
   "cell_type": "markdown",
   "metadata": {},
   "source": [
    "## Profile Reports & Analysis Statements"
   ]
  },
  {
   "cell_type": "code",
   "execution_count": null,
   "metadata": {},
   "outputs": [],
   "source": [
    "# Import libraries\n"
   ]
  },
  {
   "cell_type": "code",
   "execution_count": null,
   "metadata": {},
   "outputs": [],
   "source": []
  },
  {
   "cell_type": "markdown",
   "metadata": {},
   "source": [
    "## Data Preparation\n",
    "\n"
   ]
  },
  {
   "cell_type": "code",
   "execution_count": null,
   "metadata": {},
   "outputs": [],
   "source": []
  },
  {
   "cell_type": "code",
   "execution_count": null,
   "metadata": {},
   "outputs": [],
   "source": []
  },
  {
   "cell_type": "code",
   "execution_count": null,
   "metadata": {},
   "outputs": [],
   "source": []
  },
  {
   "cell_type": "code",
   "execution_count": null,
   "metadata": {},
   "outputs": [],
   "source": []
  },
  {
   "cell_type": "markdown",
   "metadata": {},
   "source": [
    "## Code Output"
   ]
  },
  {
   "cell_type": "code",
   "execution_count": null,
   "metadata": {},
   "outputs": [],
   "source": []
  },
  {
   "cell_type": "markdown",
   "metadata": {},
   "source": [
    "## Machine Learning Model(s)"
   ]
  },
  {
   "cell_type": "code",
   "execution_count": null,
   "metadata": {},
   "outputs": [],
   "source": []
  }
 ],
 "metadata": {
  "kernelspec": {
   "display_name": "Python 3",
   "language": "python",
   "name": "python3"
  },
  "language_info": {
   "codemirror_mode": {
    "name": "ipython",
    "version": 3
   },
   "file_extension": ".py",
   "mimetype": "text/x-python",
   "name": "python",
   "nbconvert_exporter": "python",
   "pygments_lexer": "ipython3",
   "version": "3.6.4"
  }
 },
 "nbformat": 4,
 "nbformat_minor": 2
}

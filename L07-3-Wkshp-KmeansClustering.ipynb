{
 "cells": [
  {
   "cell_type": "markdown",
   "metadata": {},
   "source": [
    "# <font color=\"blue\">Lesson 7 Performance Metrics & Hyperparameters</font>"
   ]
  },
  {
   "cell_type": "markdown",
   "metadata": {},
   "source": [
    "# K-means Clustering\n",
    "For this tutorial we're going to download a set of delivery fleet driver records that provide us with the following information: \n",
    "- Driver_ID\n",
    "- Distance_Feature = average distance driven per day\n",
    "- Speeding_Feature = mean % of time a driver was >5mph over the speed limit"
   ]
  },
  {
   "cell_type": "code",
   "execution_count": null,
   "metadata": {},
   "outputs": [],
   "source": [
    "# read in dataset\n",
    "import pandas as pd\n",
    "\n",
    "delivery_df = pd.read_csv(\"https://tinyurl.com/ycjfnajy\", sep=\"\\t\")"
   ]
  },
  {
   "cell_type": "code",
   "execution_count": null,
   "metadata": {},
   "outputs": [],
   "source": [
    "delivery_df.head()"
   ]
  },
  {
   "cell_type": "markdown",
   "metadata": {},
   "source": [
    "It looks like we have floats in our data, and that will not work for Kmeans clustering. Let's convert the float columsn to integers using the syntax: "
   ]
  },
  {
   "cell_type": "code",
   "execution_count": null,
   "metadata": {},
   "outputs": [],
   "source": [
    "# replace variables col1 and col2 with the appropriate names\n",
    "delivery_df[['Distance_Feature','Speeding_Feature']] = delivery_df[['col1','col2']].astype(int)"
   ]
  },
  {
   "cell_type": "code",
   "execution_count": null,
   "metadata": {},
   "outputs": [],
   "source": [
    "delivery_df.head()"
   ]
  },
  {
   "cell_type": "code",
   "execution_count": null,
   "metadata": {},
   "outputs": [],
   "source": [
    "import numpy as np\n",
    "from sklearn.cluster import KMeans\n",
    "\n",
    "### For the purposes of this example, we store feature data from our\n",
    "### dataframe `df`, in the `f1` and `f2` arrays. We combine this into\n",
    "### a feature matrix `X` before entering it into the algorithm.\n",
    "f1 = delivery_df['Distance_Feature'].values\n",
    "f2 = delivery_df['Speeding_Feature'].values\n",
    "\n",
    "X=np.matrix(list(zip(f1,f2)))\n",
    "kmeans = KMeans(n_clusters=2).fit(X)\n",
    "kmeans.predict(X)"
   ]
  },
  {
   "cell_type": "code",
   "execution_count": null,
   "metadata": {},
   "outputs": [],
   "source": [
    "# pull out cluster labels\n",
    "labels = kmeans.labels_"
   ]
  },
  {
   "cell_type": "code",
   "execution_count": null,
   "metadata": {},
   "outputs": [],
   "source": [
    "# pull out centromeres\n",
    "cent = kmeans.cluster_centers_"
   ]
  },
  {
   "cell_type": "code",
   "execution_count": null,
   "metadata": {},
   "outputs": [],
   "source": [
    "# insert kmeans cluster labels into dataframe \n",
    "delivery_df.insert(0,\"kmeans\", pd.DataFrame(labels))"
   ]
  },
  {
   "cell_type": "code",
   "execution_count": null,
   "metadata": {},
   "outputs": [],
   "source": [
    "# display the first 5 rows\n",
    "delivery_df.???"
   ]
  },
  {
   "cell_type": "markdown",
   "metadata": {},
   "source": [
    "### Visualize Results"
   ]
  },
  {
   "cell_type": "code",
   "execution_count": null,
   "metadata": {},
   "outputs": [],
   "source": [
    "import matplotlib.pyplot as plt \n",
    "%matplotlib inline\n",
    "\n",
    "#Plot the clusters obtained using k means\n",
    "fig = plt.figure()\n",
    "ax = fig.add_subplot(111)\n",
    "scatter = ax.scatter(delivery_df['Distance_Feature'],delivery_df['Speeding_Feature'],\n",
    "                     c=delivery_df['kmeans'],s=50)\n",
    "ax.set_title('K-Means Clustering')\n",
    "ax.set_xlabel('Distance')\n",
    "ax.set_ylabel('Speeding')\n",
    "plt.colorbar(scatter)"
   ]
  },
  {
   "cell_type": "markdown",
   "metadata": {},
   "source": [
    "## Your Task\n",
    "Test results with different numbers of K and report your best finding! "
   ]
  },
  {
   "cell_type": "code",
   "execution_count": null,
   "metadata": {},
   "outputs": [],
   "source": []
  }
 ],
 "metadata": {
  "kernelspec": {
   "display_name": "Python 3",
   "language": "python",
   "name": "python3"
  },
  "language_info": {
   "codemirror_mode": {
    "name": "ipython",
    "version": 3
   },
   "file_extension": ".py",
   "mimetype": "text/x-python",
   "name": "python",
   "nbconvert_exporter": "python",
   "pygments_lexer": "ipython3",
   "version": "3.6.4"
  }
 },
 "nbformat": 4,
 "nbformat_minor": 2
}

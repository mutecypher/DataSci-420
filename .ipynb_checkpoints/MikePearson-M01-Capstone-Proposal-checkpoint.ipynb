{
 "cells": [
  {
   "cell_type": "markdown",
   "metadata": {},
   "source": [
    "# Milestone 1 Assignment - Capstone Proposal\n",
    "\n",
    "## Author - Mike Pearson"
   ]
  },
  {
   "cell_type": "markdown",
   "metadata": {},
   "source": [
    "### Capstone Project Instructions\n",
    "Select a problem and data sets of particular interest and apply the analytics process to find and report on a solution.\n",
    "\n",
    "Students will construct a simple dashboard to allow a non-technical user to explore their solution. The data should be read from a suitable persistent data storage, such as an Internet URL or a SQL data base.\n",
    "\n",
    "The process followed by the students and the grading criteria include:\n",
    "<ol style=\"list-style-type: lower-alpha;\">\n",
    "<li>Understand the business problem <span class=\"label\" style=\"border-radius: 3px; background-color: darkcyan; color: white;\">Milestone 1</span></li>\n",
    "<li>Evaluate and explore the available data <span class=\"label\" style=\"border-radius: 3px; background-color: darkcyan; color: white;\">Milestone 1</span></li>\n",
    "<li>Proper data preparation <span class=\"label\" style=\"border-radius: 3px; background-color: darkcyan; color: white;\">Milestone 1</span> <span class=\"label\" style=\"border-radius: 3px; background-color: royalblue; color: white;\">Milestone 2</span></li>\n",
    "<li>Exploration of data and understand relationships <span class=\"label\" style=\"border-radius: 3px; background-color: darkcyan; color: white;\">Milestone 1</span> <span class=\"label\" style=\"border-radius: 3px; background-color: royalblue; color: white;\">Milestone 2</span></li>\n",
    "<li>Perform basic analytics and machine learning, within the scope of the course, on the data.  <span class=\"label\" style=\"border-radius: 3px; background-color: royalblue; color: white;\">Milestone 2</span> <span class=\"label\" style=\"border-radius: 3px; background-color: slateblue; color: white;\">Milestone 3</span> <BR/>For example, classification to predict which employees are most likely to leave the company.</li>\n",
    "<li>Create a written and/or oral report on the results suitable for a non-technical audience. <span class=\"label\" style=\"border-radius: 3px; background-color: slateblue; color: white;\">Milestone 3</span></li>\n",
    "</ol>\n",
    "\n",
    "\n"
   ]
  },
  {
   "cell_type": "markdown",
   "metadata": {},
   "source": [
    "## Tasks\n",
    "For this proposal, you are to:\n",
    "1. Generate or describe a solvable business problem and outline the flow of data needed to address the problem.\n",
    "2. Identify 2 or more available data sets\n",
    "3. Report on the statistics of each data set to include: type, unique values, missing values, quantile statistics, descriptive statistics, most frequent values, and histogram. Include analysis statements based on results.\n",
    "4. Perform data preparation based on analysis of the quality of the available data include concatenation method, imputation method(s), dealing with outliers, and binning/scaling transformation.\n",
    "5. Output the resulting data into a new data file\n",
    "6. Identify potential machine learning model(s)\n"
   ]
  },
  {
   "cell_type": "markdown",
   "metadata": {},
   "source": [
    "## Problem Definition\n",
    "\n"
   ]
  },
  {
   "cell_type": "markdown",
   "metadata": {},
   "source": [
    "### I am (in this project) a data scientist at Zillow and I want to come up with a better prediction model for house prices. Zillow has begun a business group that essentially flips houses - purchases them from a seller who wants a quick and guaranteed price - so it is important that Zillow has a very good idea of what the house might sell for in an open, time-unconstrained market."
   ]
  },
  {
   "cell_type": "markdown",
   "metadata": {},
   "source": [
    "### With this in mind, I think that the selling price of homes might be related in some way with the stock prices of large local companies. It's possible that if the stock of Amazon (for example) is riding high, then the price of homes may be driven up as buyers have more resources to purchase.  And the overall stock market may indicate in general a growing economy.\n",
    "\n",
    "### So I will use the King County real estate data set from the DataSci410: Methods for Data Science final milestone project, plus stock prices in the largest local companies, in terms of employees and local impact, that are publically traded (Amazon, Boeing, Microsoft, Starbucks, Walmart) - along with the Dow Jones Industrial average."
   ]
  },
  {
   "cell_type": "markdown",
   "metadata": {},
   "source": [
    "### I used an article in TripSavvy https://www.tripsavvy.com/biggest-seattle-area-employers-2965051\n",
    "\n",
    "### to determine who the largest local employers were. Some of then (UW, Lewis McCord, Providence Health) aren't traded on the market."
   ]
  },
  {
   "cell_type": "markdown",
   "metadata": {},
   "source": [
    "## Data Sets\n",
    "\n",
    "The stock and Dow Jones Industrial data I downloaded from Yahoo Finance and put the .csv files in my github depository\n"
   ]
  },
  {
   "cell_type": "code",
   "execution_count": 8,
   "metadata": {},
   "outputs": [],
   "source": [
    "# Datasets location\n",
    "fileName = \"https://library.startlearninglabs.uw.edu/DATASCI410/Datasets/kc_house_data.csv\"\n",
    "\n",
    "## The Dow Jones Industrial closing value for the period May 2, 2014 to May 27, 2015\n",
    "URL2 = 'https://raw.githubusercontent.com/mutecypher/DataSci-420/master/DJI.csv'\n",
    "\n",
    "## Amazon's closing price for the period May 2, 2014 to May 27, 2015\n",
    "URL3 = 'https://raw.githubusercontent.com/mutecypher/DataSci-420/master/AMZN.csv'\n",
    "\n",
    "## Boeing's closing price for the period May 2, 2014 to May 27, 2015\n",
    "URL4 = 'https://raw.githubusercontent.com/mutecypher/DataSci-420/master/BA.csv'\n",
    "\n",
    "## Microsoft's closing price for the period May 2, 2014 to May 27, 2015\n",
    "\n",
    "URL5 = 'https://raw.githubusercontent.com/mutecypher/DataSci-420/master/MSFT.csv'\n",
    "\n",
    "\n",
    "## Starbucks' closing price for the period May 2, 2014 to May 27, 2015\n",
    "\n",
    "URL6 = 'https://raw.githubusercontent.com/mutecypher/DataSci-420/master/SBUX.csv'\n",
    "\n",
    "## Walmart's closing price for the period May 2, 2014 to May 27, 2015\n",
    "\n",
    "URL7 = 'https://raw.githubusercontent.com/mutecypher/DataSci-420/master/WMT.csv'\n",
    "\n"
   ]
  },
  {
   "cell_type": "markdown",
   "metadata": {},
   "source": [
    "## Profile Reports & Analysis Statements"
   ]
  },
  {
   "cell_type": "code",
   "execution_count": 9,
   "metadata": {},
   "outputs": [],
   "source": [
    "# Import libraries\n",
    "import pandas as pd\n",
    "import matplotlib.pyplot as plt\n",
    "import numpy as np\n",
    "import datetime as dt\n",
    "import seaborn as sbn"
   ]
  },
  {
   "cell_type": "code",
   "execution_count": 10,
   "metadata": {},
   "outputs": [],
   "source": [
    "## Get the housing data\n",
    "Trippy = pd.read_csv(fileName)\n",
    "Housing = pd.DataFrame(Trippy)\n",
    "\n",
    "## Get the Amazon data\n",
    "\n",
    "AMZN = pd.read_csv(URL3)\n",
    "\n",
    "## Get the Boeing data - BA is their stock symbol\n",
    "\n",
    "BA = pd.read_csv(URL4)\n",
    "\n",
    "## Get the Microsoft data\n",
    "\n",
    "MSFT = pd.read_csv(URL5)\n",
    "\n",
    "## Get the Starbucks data\n",
    "\n",
    "SBUX = pd.read_csv(URL6)\n",
    "\n",
    "## Get the Walmart data\n",
    "\n",
    "WMT= pd.read_csv(URL7)\n",
    "\n",
    "## Get the Dow Jones Industrial average data\n",
    "\n",
    "DJI = pd.read_csv(URL2)\n"
   ]
  },
  {
   "cell_type": "markdown",
   "metadata": {},
   "source": [
    "## Data Preparation\n",
    "\n"
   ]
  },
  {
   "cell_type": "code",
   "execution_count": 11,
   "metadata": {},
   "outputs": [
    {
     "name": "stdout",
     "output_type": "stream",
     "text": [
      "\n",
      "Amazon head is       Date        Open        High         Low       Close   Adj Close  \\\n",
      "0  5/2/14  310.420013  313.290009  304.309998  308.010010  308.010010   \n",
      "1  5/5/14  306.369995  310.230011  305.000000  310.049988  310.049988   \n",
      "2  5/6/14  309.529999  309.809998  297.040009  297.380005  297.380005   \n",
      "3  5/7/14  295.559998  296.399994  286.679993  292.709991  292.709991   \n",
      "4  5/8/14  290.820007  295.880005  287.230011  288.320007  288.320007   \n",
      "\n",
      "    Volume  year  month  day   datetime  \n",
      "0  3995100  2015      1   16 2015-01-16  \n",
      "1  2519900  2015      1   16 2015-01-16  \n",
      "2  4682300  2015      1   16 2015-01-16  \n",
      "3  7015200  2015      1   16 2015-01-16  \n",
      "4  3848200  2015      1   16 2015-01-16  \n"
     ]
    }
   ],
   "source": [
    "## I find it easier to deal with the data sets if I create columns for datetime, day, month, year\n",
    "## This code does that for each data set\n",
    "\n",
    "## Housing\n",
    "end = len(Housing)- 1\n",
    "for i in range(0, end):\n",
    "    dummy = str(Housing.loc[i,'date'])\n",
    "    dummy = dummy[0:8]\n",
    "    mummy = dt.datetime.strptime(dummy,\"%Y%m%d\" )\n",
    "    Housing.loc[i,'datetime']= mummy\n",
    "    \n",
    "Housing['year'] = Housing['date'].astype(str).str[0:4]\n",
    "Housing['year'] = Housing['year'].astype(int)\n",
    "Housing['month'] = Housing['date'].astype(str).str[4:6]\n",
    "Housing['month'] = Housing['month'].astype(int)\n",
    "Housing['day'] = Housing['date'].astype(str).str[6:8]\n",
    "Housing['day'] = Housing['day'].astype(int)\n",
    "Housing.sort_values(['year','month', 'day'], ascending = (True, True, True), inplace = True)\n",
    "\n",
    "## Amazon\n",
    "\n",
    "end = len(AMZN)\n",
    "AMZN['year'] = np.random.randint(1,20,end)\n",
    "AMZN['month'] = np.random.randint(1,20,end)\n",
    "AMZN['day'] = np.random.randint(1,20,end)\n",
    "for i in range(0, end):\n",
    "    dummy = str(AMZN.loc[i,'Date'])\n",
    "    ##mummy = parse(dummy)\n",
    "    AMZN.loc[i,'datetime']= mummy\n",
    "    AMZN.loc[i,'year'] = mummy.year\n",
    "    AMZN.loc[i,'month'] = mummy.month\n",
    "    AMZN.loc[i,'day'] = mummy.day\n",
    "\n",
    "print(\"\\nAmazon head is \", AMZN.head())\n",
    "## Boeing\n",
    "\n",
    "\n",
    "end = len(BA)\n",
    "BA['year'] = np.random.randint(1,20,end)\n",
    "BA['month'] = np.random.randint(1,20,end)\n",
    "BA['day'] = np.random.randint(1,20,end)\n",
    "for i in range(0, end):\n",
    "    dummy = str(BA.loc[i,'Date'])\n",
    "    BA.loc[i,'datetime']= mummy\n",
    "    BA.loc[i,'year'] = mummy.year\n",
    "    BA.loc[i,'month'] = mummy.month\n",
    "    BA.loc[i,'day'] = mummy.day\n",
    "    \n",
    "## Microsoft\n",
    "\n",
    "end = len(MSFT)\n",
    "MSFT['year'] = np.random.randint(1,20,end)\n",
    "MSFT['month'] = np.random.randint(1,20,end)\n",
    "MSFT['day'] = np.random.randint(1,20,end)\n",
    "for i in range(0, end):\n",
    "    dummy = str(MSFT.loc[i,'Date'])\n",
    "    MSFT.loc[i,'datetime']= mummy\n",
    "    MSFT.loc[i,'year'] = mummy.year\n",
    "    MSFT.loc[i,'month'] = mummy.month\n",
    "    MSFT.loc[i,'day'] = mummy.day\n",
    "    \n",
    "\n",
    "## Starbucks\n",
    "\n",
    "end = len(SBUX)\n",
    "SBUX['year'] = np.random.randint(1,20,end)\n",
    "SBUX['month'] = np.random.randint(1,20,end)\n",
    "SBUX['day'] = np.random.randint(1,20,end)\n",
    "for i in range(0, end):\n",
    "    dummy = str(SBUX.loc[i,'Date'])\n",
    "    SBUX.loc[i,'datetime']= mummy\n",
    "    SBUX.loc[i,'year'] = mummy.year\n",
    "    SBUX.loc[i,'month'] = mummy.month\n",
    "    SBUX.loc[i,'day'] = mummy.day\n",
    "    \n",
    "## Walmart\n",
    "\n",
    "end = len(WMT)\n",
    "WMT['year'] = np.random.randint(1,20,end)\n",
    "WMT['month'] = np.random.randint(1,20,end)\n",
    "WMT['day'] = np.random.randint(1,20,end)\n",
    "for i in range(0, end):\n",
    "    dummy = str(WMT.loc[i,'Date'])\n",
    "    WMT.loc[i,'datetime']= mummy\n",
    "    WMT.loc[i,'year'] = mummy.year\n",
    "    WMT.loc[i,'month'] = mummy.month\n",
    "    WMT.loc[i,'day'] = mummy.day\n",
    "\n",
    "\n",
    "## Dow Jones Industrial Average\n",
    "\n",
    "end = len(DJI)\n",
    "DJI['year'] = np.random.randint(1,20,end)\n",
    "DJI['month'] = np.random.randint(1,20,end)\n",
    "DJI['day'] = np.random.randint(1,20,end)\n",
    "for i in range(0, end):\n",
    "    dummy = str(DJI.loc[i,'Date'])\n",
    "    DJI.loc[i,'datetime']= mummy\n",
    "    DJI.loc[i,'year'] = mummy.year\n",
    "    DJI.loc[i,'month'] = mummy.month\n",
    "    DJI.loc[i,'day'] = mummy.day\n",
    "\n"
   ]
  },
  {
   "cell_type": "code",
   "execution_count": null,
   "metadata": {},
   "outputs": [],
   "source": []
  },
  {
   "cell_type": "code",
   "execution_count": null,
   "metadata": {},
   "outputs": [],
   "source": []
  },
  {
   "cell_type": "code",
   "execution_count": null,
   "metadata": {},
   "outputs": [],
   "source": []
  },
  {
   "cell_type": "markdown",
   "metadata": {},
   "source": [
    "## Code Output"
   ]
  },
  {
   "cell_type": "code",
   "execution_count": null,
   "metadata": {},
   "outputs": [],
   "source": []
  },
  {
   "cell_type": "markdown",
   "metadata": {},
   "source": [
    "## Machine Learning Model(s)"
   ]
  },
  {
   "cell_type": "code",
   "execution_count": null,
   "metadata": {},
   "outputs": [],
   "source": []
  }
 ],
 "metadata": {
  "kernelspec": {
   "display_name": "Python 3",
   "language": "python",
   "name": "python3"
  },
  "language_info": {
   "codemirror_mode": {
    "name": "ipython",
    "version": 3
   },
   "file_extension": ".py",
   "mimetype": "text/x-python",
   "name": "python",
   "nbconvert_exporter": "python",
   "pygments_lexer": "ipython3",
   "version": "3.6.8"
  }
 },
 "nbformat": 4,
 "nbformat_minor": 2
}

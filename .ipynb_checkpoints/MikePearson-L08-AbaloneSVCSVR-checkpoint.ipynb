{
 "cells": [
  {
   "cell_type": "markdown",
   "metadata": {},
   "source": [
    "# Lesson 8 Assignment - Abalone Age Determination\n",
    "\n",
    "## Author - Mike Pearson"
   ]
  },
  {
   "cell_type": "markdown",
   "metadata": {},
   "source": [
    "### Background\n",
    "Age of abalone is determined by cutting the shell through the cone, staining it, and counting the number of rings through a microscope. Other measurements, which are easier to obtain, could be used to predict the age. According to the data provider, original data examples with missing values were removed (the majority having the predicted value missing), and the ranges of the continuous values have been scaled (by dividing by 200) for use with machine learning algorithms such as SVMs and ANNs.\n",
    "\n",
    "The target field is “Rings”. Since the output is continuous the solution can be handled by a Support Vector Regression or it can be changed to a binary Support Vector Classification by assigning examples that are younger than 11 years old to class: ‘0’ and those that are older (class: ‘1’).\n",
    "\n",
    "Predict the age using the following attributes:\n",
    "* Sex / nominal / -- / M, F, and I (infant)\n",
    "* Length / continuous / mm / Longest shell measurement\n",
    "* Diameter / continuous / mm / perpendicular to length\n",
    "* Height / continuous / mm / with meat in shell\n",
    "* Whole weight / continuous / grams / whole abalone\n",
    "* Shucked weight / continuous / grams / weight of meat\n",
    "* Viscera weight / continuous / grams / gut weight (after bleeding)\n",
    "* Shell weight / continuous / grams / after being dried\n",
    "\n",
    "See [UCI's Abalone Data set](https://archive.ics.uci.edu/ml/datasets/abalone) for more information."
   ]
  },
  {
   "cell_type": "markdown",
   "metadata": {},
   "source": [
    "## Tasks\n",
    "Use the provided abalone.csv file, build an experiment using support vector machine classifier and regression. Complete the following tasks and answer the questions:\n",
    "\n",
    "1. Convert the continuous output value from continuous to binary (0,1) and build an SVC\n",
    "2. Using your best guess for hyperparameters and kernel, what is the percentage of correctly classified results?\n",
    "3. Test different kernels and hyperparameters or consider using `sklearn.model_selection.SearchGridCV`. Which kernel performed best with what settings?\n",
    "4. Show recall, precision and f-measure for the best model\n",
    "5. Using the original data, with rings as a continuous variable, create an SVR model\n",
    "6. Report on the predicted variance and the mean squared error"
   ]
  },
  {
   "cell_type": "code",
   "execution_count": 1,
   "metadata": {},
   "outputs": [],
   "source": [
    "# Data set contains 4177 rows and 9 columns.\n",
    "URL = \"https://library.startlearninglabs.uw.edu/DATASCI420/Datasets/abalone.csv\"\n"
   ]
  },
  {
   "cell_type": "code",
   "execution_count": 2,
   "metadata": {},
   "outputs": [],
   "source": [
    "# Import libraries\n",
    "import numpy as np\n",
    "import pandas as pd"
   ]
  },
  {
   "cell_type": "code",
   "execution_count": 3,
   "metadata": {},
   "outputs": [
    {
     "name": "stdout",
     "output_type": "stream",
     "text": [
      "  Sex  Length  Diameter  Height  Whole Weight  Shucked Weight  Viscera Weight  \\\n",
      "0   M   0.455     0.365   0.095        0.5140          0.2245          0.1010   \n",
      "1   M   0.350     0.265   0.090        0.2255          0.0995          0.0485   \n",
      "2   F   0.530     0.420   0.135        0.6770          0.2565          0.1415   \n",
      "3   M   0.440     0.365   0.125        0.5160          0.2155          0.1140   \n",
      "4   I   0.330     0.255   0.080        0.2050          0.0895          0.0395   \n",
      "\n",
      "   Shell Weight  Rings  \n",
      "0         0.150     15  \n",
      "1         0.070      7  \n",
      "2         0.210      9  \n",
      "3         0.155     10  \n",
      "4         0.055      7  \n",
      "Sex                object\n",
      "Length            float64\n",
      "Diameter          float64\n",
      "Height            float64\n",
      "Whole Weight      float64\n",
      "Shucked Weight    float64\n",
      "Viscera Weight    float64\n",
      "Shell Weight      float64\n",
      "Rings               int64\n",
      "dtype: object\n",
      "            Length     Diameter       Height  Whole Weight  Shucked Weight  \\\n",
      "count  4177.000000  4177.000000  4177.000000   4177.000000     4177.000000   \n",
      "mean      0.523992     0.407881     0.139516      0.828742        0.359367   \n",
      "std       0.120093     0.099240     0.041827      0.490389        0.221963   \n",
      "min       0.075000     0.055000     0.000000      0.002000        0.001000   \n",
      "25%       0.450000     0.350000     0.115000      0.441500        0.186000   \n",
      "50%       0.545000     0.425000     0.140000      0.799500        0.336000   \n",
      "75%       0.615000     0.480000     0.165000      1.153000        0.502000   \n",
      "max       0.815000     0.650000     1.130000      2.825500        1.488000   \n",
      "\n",
      "       Viscera Weight  Shell Weight        Rings  \n",
      "count     4177.000000   4177.000000  4177.000000  \n",
      "mean         0.180594      0.238831     9.933684  \n",
      "std          0.109614      0.139203     3.224169  \n",
      "min          0.000500      0.001500     1.000000  \n",
      "25%          0.093500      0.130000     8.000000  \n",
      "50%          0.171000      0.234000     9.000000  \n",
      "75%          0.253000      0.329000    11.000000  \n",
      "max          0.760000      1.005000    29.000000  \n"
     ]
    }
   ],
   "source": [
    "## import the data\n",
    "\n",
    "abalone = pd.read_csv(URL)\n",
    "print(abalone.head())\n",
    "print(abalone.dtypes)\n",
    "print(abalone.describe())"
   ]
  },
  {
   "cell_type": "markdown",
   "metadata": {},
   "source": [
    "## Now convert the catagorical variables to one-hot encoding"
   ]
  },
  {
   "cell_type": "code",
   "execution_count": 4,
   "metadata": {},
   "outputs": [
    {
     "name": "stdout",
     "output_type": "stream",
     "text": [
      "   Length  Diameter  Height  Whole Weight  Shucked Weight  Viscera Weight  \\\n",
      "0   0.455     0.365   0.095        0.5140          0.2245          0.1010   \n",
      "1   0.350     0.265   0.090        0.2255          0.0995          0.0485   \n",
      "2   0.530     0.420   0.135        0.6770          0.2565          0.1415   \n",
      "3   0.440     0.365   0.125        0.5160          0.2155          0.1140   \n",
      "4   0.330     0.255   0.080        0.2050          0.0895          0.0395   \n",
      "\n",
      "   Shell Weight  Rings  Sex_F  Sex_I  Sex_M  \n",
      "0         0.150     15      0      0      1  \n",
      "1         0.070      7      0      0      1  \n",
      "2         0.210      9      1      0      0  \n",
      "3         0.155     10      0      0      1  \n",
      "4         0.055      7      0      1      0  \n"
     ]
    }
   ],
   "source": [
    "catz = [\"Sex\"]\n",
    "wide_abalone = pd.get_dummies(abalone, columns = catz)\n",
    "print(wide_abalone.head())"
   ]
  },
  {
   "cell_type": "markdown",
   "metadata": {},
   "source": [
    "## Now let's min-max normalize all the features\n",
    "I know that the data has been scaled, but I would like to normalize before continuing\n"
   ]
  },
  {
   "cell_type": "code",
   "execution_count": 5,
   "metadata": {},
   "outputs": [
    {
     "name": "stdout",
     "output_type": "stream",
     "text": [
      "            Length     Diameter       Height  Whole Weight  Shucked Weight  \\\n",
      "count  4177.000000  4177.000000  4177.000000   4177.000000     4177.000000   \n",
      "mean      0.523992     0.407881     0.139516      0.828742        0.359367   \n",
      "std       0.120093     0.099240     0.041827      0.490389        0.221963   \n",
      "min       0.075000     0.055000     0.000000      0.002000        0.001000   \n",
      "25%       0.450000     0.350000     0.115000      0.441500        0.186000   \n",
      "50%       0.545000     0.425000     0.140000      0.799500        0.336000   \n",
      "75%       0.615000     0.480000     0.165000      1.153000        0.502000   \n",
      "max       0.815000     0.650000     1.130000      2.825500        1.488000   \n",
      "\n",
      "       Viscera Weight  Shell Weight        Rings        Sex_F        Sex_I  \\\n",
      "count     4177.000000   4177.000000  4177.000000  4177.000000  4177.000000   \n",
      "mean         0.180594      0.238831     9.933684     0.312904     0.321283   \n",
      "std          0.109614      0.139203     3.224169     0.463731     0.467025   \n",
      "min          0.000500      0.001500     1.000000     0.000000     0.000000   \n",
      "25%          0.093500      0.130000     8.000000     0.000000     0.000000   \n",
      "50%          0.171000      0.234000     9.000000     0.000000     0.000000   \n",
      "75%          0.253000      0.329000    11.000000     1.000000     1.000000   \n",
      "max          0.760000      1.005000    29.000000     1.000000     1.000000   \n",
      "\n",
      "             Sex_M  normed length  normed diameter  normed height  \\\n",
      "count  4177.000000    4177.000000      4177.000000    4177.000000   \n",
      "mean      0.365813       0.606746         0.593078       0.123466   \n",
      "std       0.481715       0.162288         0.166790       0.037015   \n",
      "min       0.000000       0.000000         0.000000       0.000000   \n",
      "25%       0.000000       0.506757         0.495798       0.101770   \n",
      "50%       0.000000       0.635135         0.621849       0.123894   \n",
      "75%       1.000000       0.729730         0.714286       0.146018   \n",
      "max       1.000000       1.000000         1.000000       1.000000   \n",
      "\n",
      "       normed w weight  normed s weight  normed v weight  normed shell weight  \n",
      "count      4177.000000      4177.000000      4177.000000          4177.000000  \n",
      "mean          0.292808         0.241000         0.237121             0.236503  \n",
      "std           0.173681         0.149269         0.144324             0.138717  \n",
      "min           0.000000         0.000000         0.000000             0.000000  \n",
      "25%           0.155658         0.124412         0.122449             0.128052  \n",
      "50%           0.282451         0.225286         0.224490             0.231689  \n",
      "75%           0.407650         0.336920         0.332456             0.326358  \n",
      "max           1.000000         1.000000         1.000000             1.000000  \n"
     ]
    }
   ],
   "source": [
    "## normalize the length\n",
    "min_len = np.min(wide_abalone['Length'])\n",
    "max_len = np.max(wide_abalone['Length'])\n",
    "range_len = max_len - min_len\n",
    "wide_abalone['normed length']= (wide_abalone['Length'] - min_len)/range_len\n",
    "\n",
    "## normalize the Diameter\n",
    "min_d = np.min(wide_abalone['Diameter'])\n",
    "max_d = np.max(wide_abalone['Diameter'])\n",
    "range_d = max_d - min_d\n",
    "wide_abalone['normed diameter']= (wide_abalone['Diameter'] - min_d)/range_d\n",
    "\n",
    "## normalize the height\n",
    "min_hei = np.min(wide_abalone['Height'])\n",
    "max_hei = np.max(wide_abalone['Height'])\n",
    "range_hei = max_hei - min_hei\n",
    "wide_abalone['normed height']= (wide_abalone['Height'] - min_hei)/range_hei\n",
    "                              \n",
    "## normalize the Whole Weight\n",
    "min_ww = np.min(wide_abalone['Whole Weight'])\n",
    "max_ww = np.max(wide_abalone['Whole Weight'])\n",
    "range_ww = max_ww - min_ww\n",
    "wide_abalone['normed w weight']= (wide_abalone['Whole Weight'] - min_ww)/range_ww\n",
    "\n",
    "## normalize the Shucked Weight\n",
    "                              \n",
    "min_sw = np.min(wide_abalone['Shucked Weight'])\n",
    "max_sw = np.max(wide_abalone['Shucked Weight'])\n",
    "range_sw = max_sw - min_sw\n",
    "wide_abalone['normed s weight']= (wide_abalone['Shucked Weight'] - min_sw)/range_sw\n",
    "\n",
    "## normalize the Viscera Weight\n",
    "                              \n",
    "min_vw = np.min(wide_abalone['Viscera Weight'])\n",
    "max_vw = np.max(wide_abalone['Viscera Weight'])\n",
    "range_vw = max_vw - min_vw\n",
    "wide_abalone['normed v weight']= (wide_abalone['Viscera Weight'] - min_vw)/range_vw\n",
    "\n",
    "## normalize the Shell Weight\n",
    "                              \n",
    "min_shw = np.min(wide_abalone['Shell Weight'])\n",
    "max_shw = np.max(wide_abalone['Shell Weight'])\n",
    "range_shw = max_shw - min_shw\n",
    "wide_abalone['normed shell weight']= (wide_abalone['Shell Weight'] - min_shw)/range_shw\n",
    "\n",
    "\n",
    "\n",
    "print(wide_abalone.describe())"
   ]
  },
  {
   "cell_type": "markdown",
   "metadata": {},
   "source": [
    "## Now let's set the boundary for the rings at more than 11 = 1 and 11 or less = 0"
   ]
  },
  {
   "cell_type": "code",
   "execution_count": 6,
   "metadata": {},
   "outputs": [
    {
     "name": "stdout",
     "output_type": "stream",
     "text": [
      "      Length  Diameter  Height  Whole Weight  Shucked Weight  Viscera Weight  \\\n",
      "4172   0.565     0.450   0.165        0.8870          0.3700          0.2390   \n",
      "4173   0.590     0.440   0.135        0.9660          0.4390          0.2145   \n",
      "4174   0.600     0.475   0.205        1.1760          0.5255          0.2875   \n",
      "4175   0.625     0.485   0.150        1.0945          0.5310          0.2610   \n",
      "4176   0.710     0.555   0.195        1.9485          0.9455          0.3765   \n",
      "\n",
      "      Shell Weight  Rings  Sex_F  Sex_I  Sex_M  normed length  \\\n",
      "4172        0.2490     11      1      0      0       0.662162   \n",
      "4173        0.2605     10      0      0      1       0.695946   \n",
      "4174        0.3080      9      0      0      1       0.709459   \n",
      "4175        0.2960     10      1      0      0       0.743243   \n",
      "4176        0.4950     12      0      0      1       0.858108   \n",
      "\n",
      "      normed diameter  normed height  normed w weight  normed s weight  \\\n",
      "4172         0.663866       0.146018         0.313441         0.248151   \n",
      "4173         0.647059       0.119469         0.341420         0.294553   \n",
      "4174         0.705882       0.181416         0.415796         0.352724   \n",
      "4175         0.722689       0.132743         0.386931         0.356422   \n",
      "4176         0.840336       0.172566         0.689393         0.635171   \n",
      "\n",
      "      normed v weight  normed shell weight  binned rings  \n",
      "4172         0.314022             0.246637           1.0  \n",
      "4173         0.281764             0.258097           0.0  \n",
      "4174         0.377880             0.305431           0.0  \n",
      "4175         0.342989             0.293473           0.0  \n",
      "4176         0.495063             0.491779           1.0  \n"
     ]
    }
   ],
   "source": [
    "bob = len(wide_abalone[\"Rings\"])\n",
    "for i in range(bob):\n",
    "    if wide_abalone.loc[i, \"Rings\"] <= 10 :\n",
    "        wide_abalone.loc[i,\"binned rings\"] = 0\n",
    "    else :\n",
    "        wide_abalone.loc[i,\"binned rings\"] = 1\n",
    "\n",
    "print(wide_abalone.tail())\n",
    "    "
   ]
  },
  {
   "cell_type": "code",
   "execution_count": 7,
   "metadata": {},
   "outputs": [
    {
     "name": "stdout",
     "output_type": "stream",
     "text": [
      "   Sex_F  Sex_I  Sex_M  normed length  normed diameter  normed height  \\\n",
      "0      0      0      1       0.513514         0.521008       0.084071   \n",
      "1      0      0      1       0.371622         0.352941       0.079646   \n",
      "2      1      0      0       0.614865         0.613445       0.119469   \n",
      "3      0      0      1       0.493243         0.521008       0.110619   \n",
      "4      0      1      0       0.344595         0.336134       0.070796   \n",
      "\n",
      "   normed w weight  normed s weight  normed v weight  \n",
      "0         0.181335         0.150303         0.132324  \n",
      "1         0.079157         0.066241         0.063199  \n",
      "2         0.239065         0.171822         0.185648  \n",
      "3         0.182044         0.144250         0.149440  \n",
      "4         0.071897         0.059516         0.051350  \n",
      "4172    1.0\n",
      "4173    0.0\n",
      "4174    0.0\n",
      "4175    0.0\n",
      "4176    1.0\n",
      "Name: binned rings, dtype: float64\n"
     ]
    }
   ],
   "source": [
    "# Separate Features from Target\n",
    "X = wide_abalone.iloc[:, 8:17]   # load features into X DF\n",
    "Y = wide_abalone.iloc[:, 18]     # Load target into Y DF\n",
    "print(X.head())\n",
    "print(Y.tail())"
   ]
  },
  {
   "cell_type": "markdown",
   "metadata": {},
   "source": [
    "## Now let's make the training and test sets."
   ]
  },
  {
   "cell_type": "code",
   "execution_count": 8,
   "metadata": {},
   "outputs": [
    {
     "name": "stdout",
     "output_type": "stream",
     "text": [
      "3342    1.0\n",
      "791     0.0\n",
      "1420    1.0\n",
      "729     1.0\n",
      "1186    1.0\n",
      "Name: binned rings, dtype: float64\n"
     ]
    }
   ],
   "source": [
    "from sklearn.model_selection import train_test_split\n",
    "\n",
    "# split into a training and testing set\n",
    "X_train, X_test, y_train, y_test = train_test_split(X, Y, test_size=0.2, random_state=5)\n",
    "print(y_test.head())"
   ]
  },
  {
   "cell_type": "markdown",
   "metadata": {},
   "source": [
    "## Now to start with some values for the hyperparameters\n"
   ]
  },
  {
   "cell_type": "code",
   "execution_count": 9,
   "metadata": {},
   "outputs": [],
   "source": [
    "cost = 10000 # penalty parameter of the error term\n",
    "gamma = 0.2 # defines the influence of input vectors on the margins"
   ]
  },
  {
   "cell_type": "markdown",
   "metadata": {},
   "source": [
    "## Now do linear"
   ]
  },
  {
   "cell_type": "code",
   "execution_count": 12,
   "metadata": {},
   "outputs": [
    {
     "name": "stdout",
     "output_type": "stream",
     "text": [
      "LinearSVC\n",
      "              precision    recall  f1-score   support\n",
      "\n",
      "         0.0       0.66      0.83      0.73       430\n",
      "         1.0       0.75      0.54      0.63       406\n",
      "\n",
      "    accuracy                           0.69       836\n",
      "   macro avg       0.70      0.68      0.68       836\n",
      "weighted avg       0.70      0.69      0.68       836\n",
      "\n",
      "[[357 187]\n",
      " [ 73 219]]\n"
     ]
    },
    {
     "name": "stderr",
     "output_type": "stream",
     "text": [
      "/Applications/anaconda3/lib/python3.6/site-packages/sklearn/svm/base.py:929: ConvergenceWarning: Liblinear failed to converge, increase the number of iterations.\n",
      "  \"the number of iterations.\", ConvergenceWarning)\n"
     ]
    },
    {
     "data": {
      "image/png": "[encoded data removed]",
      "text/plain": [
       "<Figure size 432x288 with 2 Axes>"
      ]
     },
     "metadata": {
      "needs_background": "light"
     },
     "output_type": "display_data"
    }
   ],
   "source": [
    "from sklearn import svm, metrics\n",
    "from sklearn.metrics import classification_report\n",
    "from sklearn.metrics import confusion_matrix\n",
    "import seaborn as sbn\n",
    "\n",
    "clf1 = svm.LinearSVC(C=cost).fit(X_train, y_train)\n",
    "y_pred = clf1.predict(X_test)\n",
    "print(\"LinearSVC\")\n",
    "print(classification_report(clf1.predict(X_test), y_test))\n",
    "print(confusion_matrix(y_test, y_pred))\n",
    "\n",
    "ax = sbn.heatmap(confusion_matrix(y_test, y_pred),annot = True, fmt = \"d\")"
   ]
  },
  {
   "cell_type": "code",
   "execution_count": 13,
   "metadata": {},
   "outputs": [
    {
     "name": "stdout",
     "output_type": "stream",
     "text": [
      "linear\n",
      "              precision    recall  f1-score   support\n",
      "\n",
      "         0.0       0.89      0.81      0.85       595\n",
      "         1.0       0.61      0.74      0.67       241\n",
      "\n",
      "    accuracy                           0.79       836\n",
      "   macro avg       0.75      0.78      0.76       836\n",
      "weighted avg       0.81      0.79      0.80       836\n",
      "\n",
      "[[357 187]\n",
      " [ 73 219]]\n",
      "rbf\n",
      "              precision    recall  f1-score   support\n",
      "\n",
      "         0.0       0.89      0.82      0.86       588\n",
      "         1.0       0.65      0.76      0.70       248\n",
      "\n",
      "    accuracy                           0.81       836\n",
      "   macro avg       0.77      0.79      0.78       836\n",
      "weighted avg       0.82      0.81      0.81       836\n",
      "\n",
      "[[357 187]\n",
      " [ 73 219]]\n",
      "poly\n",
      "              precision    recall  f1-score   support\n",
      "\n",
      "         0.0       0.90      0.82      0.86       594\n",
      "         1.0       0.64      0.77      0.70       242\n",
      "\n",
      "    accuracy                           0.81       836\n",
      "   macro avg       0.77      0.80      0.78       836\n",
      "weighted avg       0.82      0.81      0.81       836\n",
      "\n",
      "[[357 187]\n",
      " [ 73 219]]\n",
      "sigmoid\n",
      "              precision    recall  f1-score   support\n",
      "\n",
      "         0.0       0.71      0.72      0.71       537\n",
      "         1.0       0.48      0.47      0.47       299\n",
      "\n",
      "    accuracy                           0.63       836\n",
      "   macro avg       0.59      0.59      0.59       836\n",
      "weighted avg       0.63      0.63      0.63       836\n",
      "\n",
      "[[357 187]\n",
      " [ 73 219]]\n"
     ]
    }
   ],
   "source": [
    "# Test linear, rbf and poly kernels\n",
    "cost = 10000 # penalty parameter of the error term\n",
    "gamma = 0.2 # defines the influence of input vectors on the margins\n",
    "\n",
    "for k in ('linear', 'rbf', 'poly','sigmoid'):\n",
    "    clf = svm.SVC(gamma=gamma, kernel=k, C=cost, degree = 4).fit(X_train, y_train)\n",
    "    clf.predict(X_test)\n",
    "    print(k)\n",
    "    print(classification_report(clf.predict(X_test), y_test))\n",
    "    print(confusion_matrix(y_test, y_pred))"
   ]
  },
  {
   "cell_type": "markdown",
   "metadata": {},
   "source": [
    "## Now let's try grid search"
   ]
  },
  {
   "cell_type": "code",
   "execution_count": 14,
   "metadata": {},
   "outputs": [
    {
     "name": "stdout",
     "output_type": "stream",
     "text": [
      "C is [1.e-04 1.e-03 1.e-02 1.e-01 1.e+00 1.e+01 1.e+02 1.e+03 1.e+04]\n",
      "gamma range is  [1.e-04 1.e-03 1.e-02 1.e-01 1.e+00 1.e+01 1.e+02 1.e+03 1.e+04]\n"
     ]
    }
   ],
   "source": [
    "C_range = np.logspace(-4, 4, 9)\n",
    "gamma_range = np.logspace(-4, 4, 9)\n",
    "degree_param = [2,3,4]\n",
    "print(\"C is\", C_range)\n",
    "print(\"gamma range is \", gamma_range)"
   ]
  },
  {
   "cell_type": "markdown",
   "metadata": {},
   "source": [
    "## Let's try to narrow our parameter search a little more quickly than Gridsearch, with RandomizedSearch\n",
    "\n",
    "### The polynomial kernel seems the most sensitive to gamma - in terms of the time to calculate.\n",
    "\n",
    "Note - this bit of code takes a while to run, I don't know if you (the evaluator) will run this code or not"
   ]
  },
  {
   "cell_type": "code",
   "execution_count": 18,
   "metadata": {},
   "outputs": [
    {
     "name": "stdout",
     "output_type": "stream",
     "text": [
      "start time was  Wed Jul  3 13:16:08 2019\n",
      "finish time was Wed Jul  3 13:17:02 2019\n",
      "The best parameters are {'kernel': 'rbf', 'gamma': 0.01, 'C': 10000} with a score of 0.79\n"
     ]
    }
   ],
   "source": [
    "from sklearn.svm import SVC\n",
    "from sklearn.model_selection import RandomizedSearchCV\n",
    "import time\n",
    "from sklearn.model_selection import StratifiedShuffleSplit\n",
    "cv = StratifiedShuffleSplit(n_splits=5, test_size=0.2, random_state=42)\n",
    "\n",
    "param_grid = {'kernel': [ 'linear', 'sigmoid', 'rbf'], 'gamma': gamma_range, 'C' : C_range}\n",
    "now = time.asctime( time.localtime(time.time()) )\n",
    "print(\"start time was \", now)\n",
    "grid = RandomizedSearchCV(SVC(), param_distributions = param_grid, cv=cv)\n",
    "grid.fit(X_train, y_train)\n",
    "finish = time.asctime( time.localtime(time.time()) )\n",
    "print(\"finish time was\", finish)\n",
    "print(\"The best parameters are %s with a score of %0.2f\"\n",
    "      % (grid.best_params_, grid.best_score_))\n",
    "\n",
    "\n"
   ]
  },
  {
   "cell_type": "markdown",
   "metadata": {},
   "source": [
    "## Using the above for some further refinement...  this time using GridSearch\n",
    "\n"
   ]
  },
  {
   "cell_type": "code",
   "execution_count": 17,
   "metadata": {},
   "outputs": [
    {
     "name": "stdout",
     "output_type": "stream",
     "text": [
      "start time was Wed Jul  3 13:11:52 2019\n",
      "end time was Wed Jul  3 13:14:47 2019\n",
      "The best parameters are {'C': 10000, 'gamma': 0.01, 'kernel': 'rbf'} with a score of 0.79\n"
     ]
    }
   ],
   "source": [
    "from sklearn.model_selection import StratifiedShuffleSplit\n",
    "from sklearn.model_selection import GridSearchCV\n",
    "\n",
    "\n",
    "C_range = [10000,11000, 12000]\n",
    "gamma_range = [0.001, 0.005, 0.01]\n",
    "\n",
    "cv = StratifiedShuffleSplit(n_splits=5, test_size=0.2, random_state=42)\n",
    "\n",
    "param_grid = {'kernel': [ 'linear', 'sigmoid', 'rbf'], 'gamma': gamma_range, 'C' : C_range}\n",
    "##param_grid = dict(kernelgamma=gamma_range, C=C_range)\n",
    "start = time.asctime( time.localtime(time.time()) )\n",
    "print(\"start time was\", start)\n",
    "grid = GridSearchCV(SVC(), param_grid=param_grid, cv = cv)\n",
    "grid.fit(X_train, y_train)\n",
    "end = time.asctime( time.localtime(time.time()) )\n",
    "print(\"end time was\", end)\n",
    "print(\"The best parameters are %s with a score of %0.2f\"\n",
    "      % (grid.best_params_, grid.best_score_))\n",
    "\n"
   ]
  },
  {
   "cell_type": "markdown",
   "metadata": {},
   "source": [
    "## Using the GridSearch, get the performance data"
   ]
  },
  {
   "cell_type": "code",
   "execution_count": null,
   "metadata": {},
   "outputs": [
    {
     "name": "stdout",
     "output_type": "stream",
     "text": [
      "start time was Wed Jul  3 13:24:05 2019\n"
     ]
    }
   ],
   "source": [
    "C_range = np.logspace(-2, 5, 8)\n",
    "gamma_range = np.logspace(-4, 1, 9)\n",
    "degree_param = [2,3,4]\n",
    "cv = StratifiedShuffleSplit(n_splits=5, test_size=0.2, random_state=42)\n",
    "\n",
    "param_grid = {'kernel': ['poly'], 'gamma': gamma_range, 'C' : C_range, 'degree': degree_range}\n",
    "##param_grid = dict(kernelgamma=gamma_range, C=C_range)\n",
    "start = time.asctime( time.localtime(time.time()) )\n",
    "print(\"start time was\", start)\n",
    "grid = GridSearchCV(SVC(), param_grid=param_grid, cv = cv)\n",
    "grid.fit(X_train, y_train)\n",
    "end = time.asctime( time.localtime(time.time()) )\n",
    "print(\"end time was\", end)\n",
    "print(\"The best parameters are %s with a score of %0.2f\"\n",
    "      % (grid.best_params_, grid.best_score_))\n",
    "\n"
   ]
  },
  {
   "cell_type": "code",
   "execution_count": null,
   "metadata": {},
   "outputs": [],
   "source": []
  },
  {
   "cell_type": "code",
   "execution_count": null,
   "metadata": {},
   "outputs": [],
   "source": []
  }
 ],
 "metadata": {
  "kernelspec": {
   "display_name": "Python 3",
   "language": "python",
   "name": "python3"
  },
  "language_info": {
   "codemirror_mode": {
    "name": "ipython",
    "version": 3
   },
   "file_extension": ".py",
   "mimetype": "text/x-python",
   "name": "python",
   "nbconvert_exporter": "python",
   "pygments_lexer": "ipython3",
   "version": "3.6.8"
  }
 },
 "nbformat": 4,
 "nbformat_minor": 2
}

{
 "cells": [
  {
   "cell_type": "raw",
   "metadata": {},
   "source": []
  },
  {
   "cell_type": "markdown",
   "metadata": {},
   "source": [
    "# Lesson 6 Assignment - Video Store Data Analysis\n",
    "\n",
    "## Author - Mike Pearson\n",
    "\n",
    "### Background\n",
    "Consider the data collected by a hypothetical video store for 50 regular customers.\n",
    "\n",
    "This data consists of a table which, for each customer, records the following attributes:\n",
    "* Gender\n",
    "* Income\n",
    "* Age\n",
    "* Rentals - Total number of video rentals in the past year\n",
    "* Avg. per visit - Average number of video rentals per visit during the past year\n",
    "* Incidentals - Whether the customer tends to buy incidental items such as refreshments when renting a video\n",
    "* Genre - The customer's preferred movie genre"
   ]
  },
  {
   "cell_type": "markdown",
   "metadata": {},
   "source": [
    "## Tasks\n",
    "Use the provided Video_Store.csv file, perform each of the following data preparation tasks and answer the related questions:\n",
    "\n",
    "a) Split the age attribute into bins, using a bin depth of 4.\n",
    "\n",
    "b) Use min-max normalization to transform the values of the Income attribute onto the range [0.0-1.0] and save results in new column. You'll need the income column again. \n",
    "\n",
    "c) Use z-score normalization to standardize the values of the Rentals attribute.\n",
    "\n",
    "d) Discretize the (original) Income attribute based on the following categories: High = 60K+; Mid = 25K-59K; Low = less than $25K and keep in a separate column. Later you will compare which method has better results. \n",
    "\n",
    "e) Create a list of your categorical values so that you can encode them. \n",
    "\n",
    "f) On your categorical values, encode them and then perform basic correlation analysis among the attributes. Discuss your results by indicating any strong correlations (positive or negative) among pairs of attributes. You will need to construct a complete Correlation Matrix (Please read the brief document <a href=\"https://library.startlearninglabs.uw.edu/DATASCI420/PDF/DATASCI%20420%20Basic%20Correlation%20Analysis.pdf\">Basic Correlation Analysis</a> for more detail). *Can you observe any \"significant\" patterns among groups of two or more variables? Explain.*\n",
    "\n",
    "g) Use Pandas dataframe filtering to select all \"good\" customers with a high value for the Rentals attribute (a \"good customer is defined as one with a Rentals value of greater than or equal to 30). From the subset, create a summary using the describe function (e.g., using means, medians, and/or other statistics). *What patterns do you see? Explain.*\n",
    "\n",
    "**Note:** To know whether your observed patterns in the target group are significant, you need to compare them with the general population using the same metrics.\n",
    "\n",
    "h) Suppose that because of the high profit margin, the store would like to increase the sales of incidentals. Based on your observations in previous parts discuss how this could be accomplished? (e.g., Should customers with specific characteristics be targeted? Should certain types of movies be preferred? etc.). Explain your answer based on your analysis of the data.\n"
   ]
  },
  {
   "cell_type": "markdown",
   "metadata": {},
   "source": [
    "**Hints:**\n",
    "\n",
    "- Review basic statistics for different attributes by using the pandas functions you learned about\n",
    "\n",
    "- Consider discretizing the Age attribute.\n",
    "\n",
    "- Make sure numerical variables are on the same scale"
   ]
  },
  {
   "cell_type": "code",
   "execution_count": 30,
   "metadata": {},
   "outputs": [],
   "source": [
    "\n",
    "URL = \"https://library.startlearninglabs.uw.edu/DATASCI420/Datasets/Video_Store.csv\"\n"
   ]
  },
  {
   "cell_type": "code",
   "execution_count": 31,
   "metadata": {},
   "outputs": [
    {
     "name": "stdout",
     "output_type": "stream",
     "text": [
      "   Cust ID Gender  Income  Age  Rentals  Avg Per Visit Incidentals   Genre\n",
      "0        1      M   45000   25       27            2.5         Yes  Action\n",
      "1        2      F   54000   33       12            3.4          No   Drama\n",
      "2        3      F   32000   20       42            1.6          No  Comedy\n",
      "3        4      F   59000   70       16            4.2         Yes   Drama\n",
      "4        5      M   37000   35       25            3.2         Yes  Action\n",
      "        Cust ID        Income        Age    Rentals  Avg Per Visit\n",
      "count  50.00000     50.000000  50.000000  50.000000      50.000000\n",
      "mean   25.50000  42300.000000  31.560000  26.240000       2.748000\n",
      "std    14.57738  21409.753642  12.000272  10.027635       0.898125\n",
      "min     1.00000   1000.000000  15.000000   9.000000       1.100000\n",
      "25%    13.25000  26750.000000  22.000000  19.000000       2.125000\n",
      "50%    25.50000  41000.000000  30.000000  25.000000       2.750000\n",
      "75%    37.75000  56750.000000  37.500000  32.750000       3.375000\n",
      "max    50.00000  89000.000000  70.000000  48.000000       4.700000\n"
     ]
    }
   ],
   "source": [
    "# Import libraries\n",
    "import pandas as pd\n",
    "import numpy as np\n",
    "Video_data = pd.read_csv(URL)\n",
    "print(Video_data.head())\n",
    "print(Video_data.describe())"
   ]
  },
  {
   "cell_type": "markdown",
   "metadata": {},
   "source": [
    "## Now let's do some binning"
   ]
  },
  {
   "cell_type": "code",
   "execution_count": 34,
   "metadata": {},
   "outputs": [
    {
     "name": "stdout",
     "output_type": "stream",
     "text": [
      "and the min is 15 the first quartile is  22.0 the median is 30.0 the 3rd quartile is 37.5 the max is 70\n",
      "50\n",
      "33\n",
      "    Cust ID Gender  Income  Age  Rentals  Avg Per Visit Incidentals   Genre  \\\n",
      "45       46      F   57000   43        9            1.1          No   Drama   \n",
      "46       47      F   69000   35       22            2.8         Yes   Drama   \n",
      "47       48      F   52000   47       14            1.6          No   Drama   \n",
      "48       49      M   31000   25       42            3.4         Yes  Action   \n",
      "49       50      M   24000   20       33            4.7          No  Action   \n",
      "\n",
      "    binned age  \n",
      "45         4.0  \n",
      "46         3.0  \n",
      "47         4.0  \n",
      "48         2.0  \n",
      "49         NaN  \n"
     ]
    }
   ],
   "source": [
    "Video_data['Age'].quantile([0.25,0.5,0.75])\n",
    "age_25 = Video_data['Age'].quantile(0.25)\n",
    "age_min = np.min(Video_data['Age'])\n",
    "age_max = np.max(Video_data['Age'])\n",
    "age_50 = np.median(Video_data['Age'])\n",
    "age_75 = Video_data['Age'].quantile(0.75)\n",
    "print(\"and the min is\", age_min, \"the first quartile is \", age_25, \"the median is\", age_50, \"the 3rd quartile is\", age_75,\n",
    "      \"the max is\", age_max)\n",
    "\n",
    "print(len(Video_data['Age']))\n",
    "print(Video_data.loc[1, \"Age\"])\n",
    "print(Video_data.tail())"
   ]
  },
  {
   "cell_type": "code",
   "execution_count": 45,
   "metadata": {},
   "outputs": [
    {
     "name": "stdout",
     "output_type": "stream",
     "text": [
      "    Cust ID Gender  Income  Age  Rentals  Avg Per Visit Incidentals   Genre  \\\n",
      "45       46      F   57000   43        9            1.1          No   Drama   \n",
      "46       47      F   69000   35       22            2.8         Yes   Drama   \n",
      "47       48      F   52000   47       14            1.6          No   Drama   \n",
      "48       49      M   31000   25       42            3.4         Yes  Action   \n",
      "49       50      M   24000   20       33            4.7          No  Action   \n",
      "\n",
      "    binned age  \n",
      "45         4.0  \n",
      "46         3.0  \n",
      "47         4.0  \n",
      "48         2.0  \n",
      "49         1.0  \n"
     ]
    }
   ],
   "source": [
    "bob = len(Video_data[\"Age\"])\n",
    "for i in range(bob):\n",
    "    if Video_data.loc[i, \"Age\"] <= age_25 :\n",
    "        Video_data.loc[i,\"binned age\"] = 1\n",
    "    elif Video_data.loc[i, \"Age\"] <= age_50 :\n",
    "        Video_data.loc[i,\"binned age\"] = 2\n",
    "    elif Video_data.loc[i, \"Age\"] <= age_75 :\n",
    "        Video_data.loc[i,\"binned age\"] = 3\n",
    "    else :\n",
    "        Video_data.loc[i,\"binned age\"] = 4\n",
    "\n",
    "print(Video_data.tail())\n",
    "    \n",
    "    "
   ]
  },
  {
   "cell_type": "markdown",
   "metadata": {},
   "source": [
    "## Now for the min-max normalization of Income"
   ]
  },
  {
   "cell_type": "code",
   "execution_count": 48,
   "metadata": {},
   "outputs": [
    {
     "name": "stdout",
     "output_type": "stream",
     "text": [
      "        Cust ID        Income        Age    Rentals  Avg Per Visit  \\\n",
      "count  50.00000     50.000000  50.000000  50.000000      50.000000   \n",
      "mean   25.50000  42300.000000  31.560000  26.240000       2.748000   \n",
      "std    14.57738  21409.753642  12.000272  10.027635       0.898125   \n",
      "min     1.00000   1000.000000  15.000000   9.000000       1.100000   \n",
      "25%    13.25000  26750.000000  22.000000  19.000000       2.125000   \n",
      "50%    25.50000  41000.000000  30.000000  25.000000       2.750000   \n",
      "75%    37.75000  56750.000000  37.500000  32.750000       3.375000   \n",
      "max    50.00000  89000.000000  70.000000  48.000000       4.700000   \n",
      "\n",
      "       binned age  normed income  \n",
      "count   50.000000      50.000000  \n",
      "mean     2.460000       0.469318  \n",
      "std      1.164264       0.243293  \n",
      "min      1.000000       0.000000  \n",
      "25%      1.000000       0.292614  \n",
      "50%      2.000000       0.454545  \n",
      "75%      3.750000       0.633523  \n",
      "max      4.000000       1.000000  \n"
     ]
    }
   ],
   "source": [
    "min_income = np.min(Video_data['Income'])\n",
    "max_income = np.max(Video_data['Income'])\n",
    "range_income = max_income - min_income\n",
    "Video_data['normed income']= (Video_data['Income'] - min_income)/range_income\n",
    "print(Video_data.describe())"
   ]
  },
  {
   "cell_type": "markdown",
   "metadata": {},
   "source": [
    "## And the z-score normalization of Rentals"
   ]
  },
  {
   "cell_type": "code",
   "execution_count": 50,
   "metadata": {},
   "outputs": [
    {
     "name": "stdout",
     "output_type": "stream",
     "text": [
      "        Cust ID        Income        Age    Rentals  Avg Per Visit  \\\n",
      "count  50.00000     50.000000  50.000000  50.000000      50.000000   \n",
      "mean   25.50000  42300.000000  31.560000  26.240000       2.748000   \n",
      "std    14.57738  21409.753642  12.000272  10.027635       0.898125   \n",
      "min     1.00000   1000.000000  15.000000   9.000000       1.100000   \n",
      "25%    13.25000  26750.000000  22.000000  19.000000       2.125000   \n",
      "50%    25.50000  41000.000000  30.000000  25.000000       2.750000   \n",
      "75%    37.75000  56750.000000  37.500000  32.750000       3.375000   \n",
      "max    50.00000  89000.000000  70.000000  48.000000       4.700000   \n",
      "\n",
      "       binned age  normed income  z-normed rentals  \n",
      "count   50.000000      50.000000      5.000000e+01  \n",
      "mean     2.460000       0.469318      1.487699e-16  \n",
      "std      1.164264       0.243293      1.010153e+00  \n",
      "min      1.000000       0.000000     -1.736704e+00  \n",
      "25%      1.000000       0.292614     -7.293349e-01  \n",
      "50%      2.000000       0.454545     -1.249137e-01  \n",
      "75%      3.750000       0.633523      6.557970e-01  \n",
      "max      4.000000       1.000000      2.192034e+00  \n"
     ]
    }
   ],
   "source": [
    "rental_mean = np.mean(Video_data['Rentals'])\n",
    "rental_std =np.std(Video_data[\"Rentals\"])\n",
    "Video_data['z-normed rentals'] = (Video_data['Rentals'] - rental_mean)/rental_std\n",
    "print(Video_data.describe())"
   ]
  },
  {
   "cell_type": "markdown",
   "metadata": {},
   "source": [
    "## Discretize the Income\n",
    "\n",
    "High = 60K+; Mid = 25K-59K; Low = less than $25K and keep in a separate column. Later you will compare which method has better results."
   ]
  },
  {
   "cell_type": "code",
   "execution_count": 58,
   "metadata": {},
   "outputs": [
    {
     "name": "stdout",
     "output_type": "stream",
     "text": [
      "    Cust ID Gender  Income  Age  Rentals  Avg Per Visit Incidentals   Genre  \\\n",
      "45       46      F   57000   43        9            1.1          No   Drama   \n",
      "46       47      F   69000   35       22            2.8         Yes   Drama   \n",
      "47       48      F   52000   47       14            1.6          No   Drama   \n",
      "48       49      M   31000   25       42            3.4         Yes  Action   \n",
      "49       50      M   24000   20       33            4.7          No  Action   \n",
      "\n",
      "    binned age  normed income  z-normed rentals  high income Discrete Income  \n",
      "45         4.0       0.636364         -1.736704            0             Mid  \n",
      "46         3.0       0.772727         -0.427124            1            High  \n",
      "47         4.0       0.579545         -1.233019            0             Mid  \n",
      "48         2.0       0.340909          1.587613            0             Mid  \n",
      "49         1.0       0.261364          0.680981            0             Low  \n"
     ]
    },
    {
     "data": {
      "text/html": [
       "<div>\n",
       "<style scoped>\n",
       "    .dataframe tbody tr th:only-of-type {\n",
       "        vertical-align: middle;\n",
       "    }\n",
       "\n",
       "    .dataframe tbody tr th {\n",
       "        vertical-align: top;\n",
       "    }\n",
       "\n",
       "    .dataframe thead th {\n",
       "        text-align: right;\n",
       "    }\n",
       "</style>\n",
       "<table border=\"1\" class=\"dataframe\">\n",
       "  <thead>\n",
       "    <tr style=\"text-align: right;\">\n",
       "      <th></th>\n",
       "      <th>Cust ID</th>\n",
       "      <th>Gender</th>\n",
       "      <th>Income</th>\n",
       "      <th>Age</th>\n",
       "      <th>Rentals</th>\n",
       "      <th>Avg Per Visit</th>\n",
       "      <th>Incidentals</th>\n",
       "      <th>Genre</th>\n",
       "      <th>binned age</th>\n",
       "      <th>normed income</th>\n",
       "      <th>z-normed rentals</th>\n",
       "      <th>high income</th>\n",
       "      <th>Discrete Income</th>\n",
       "    </tr>\n",
       "  </thead>\n",
       "  <tbody>\n",
       "    <tr>\n",
       "      <th>0</th>\n",
       "      <td>1</td>\n",
       "      <td>M</td>\n",
       "      <td>45000</td>\n",
       "      <td>25</td>\n",
       "      <td>27</td>\n",
       "      <td>2.5</td>\n",
       "      <td>Yes</td>\n",
       "      <td>Action</td>\n",
       "      <td>2.0</td>\n",
       "      <td>0.500000</td>\n",
       "      <td>0.076560</td>\n",
       "      <td>0</td>\n",
       "      <td>Mid</td>\n",
       "    </tr>\n",
       "    <tr>\n",
       "      <th>1</th>\n",
       "      <td>2</td>\n",
       "      <td>F</td>\n",
       "      <td>54000</td>\n",
       "      <td>33</td>\n",
       "      <td>12</td>\n",
       "      <td>3.4</td>\n",
       "      <td>No</td>\n",
       "      <td>Drama</td>\n",
       "      <td>3.0</td>\n",
       "      <td>0.602273</td>\n",
       "      <td>-1.434493</td>\n",
       "      <td>0</td>\n",
       "      <td>Mid</td>\n",
       "    </tr>\n",
       "    <tr>\n",
       "      <th>2</th>\n",
       "      <td>3</td>\n",
       "      <td>F</td>\n",
       "      <td>32000</td>\n",
       "      <td>20</td>\n",
       "      <td>42</td>\n",
       "      <td>1.6</td>\n",
       "      <td>No</td>\n",
       "      <td>Comedy</td>\n",
       "      <td>1.0</td>\n",
       "      <td>0.352273</td>\n",
       "      <td>1.587613</td>\n",
       "      <td>0</td>\n",
       "      <td>Mid</td>\n",
       "    </tr>\n",
       "    <tr>\n",
       "      <th>3</th>\n",
       "      <td>4</td>\n",
       "      <td>F</td>\n",
       "      <td>59000</td>\n",
       "      <td>70</td>\n",
       "      <td>16</td>\n",
       "      <td>4.2</td>\n",
       "      <td>Yes</td>\n",
       "      <td>Drama</td>\n",
       "      <td>4.0</td>\n",
       "      <td>0.659091</td>\n",
       "      <td>-1.031546</td>\n",
       "      <td>0</td>\n",
       "      <td>Mid</td>\n",
       "    </tr>\n",
       "    <tr>\n",
       "      <th>4</th>\n",
       "      <td>5</td>\n",
       "      <td>M</td>\n",
       "      <td>37000</td>\n",
       "      <td>35</td>\n",
       "      <td>25</td>\n",
       "      <td>3.2</td>\n",
       "      <td>Yes</td>\n",
       "      <td>Action</td>\n",
       "      <td>3.0</td>\n",
       "      <td>0.409091</td>\n",
       "      <td>-0.124914</td>\n",
       "      <td>0</td>\n",
       "      <td>Mid</td>\n",
       "    </tr>\n",
       "  </tbody>\n",
       "</table>\n",
       "</div>"
      ],
      "text/plain": [
       "   Cust ID Gender  Income  Age  Rentals  Avg Per Visit Incidentals   Genre  \\\n",
       "0        1      M   45000   25       27            2.5         Yes  Action   \n",
       "1        2      F   54000   33       12            3.4          No   Drama   \n",
       "2        3      F   32000   20       42            1.6          No  Comedy   \n",
       "3        4      F   59000   70       16            4.2         Yes   Drama   \n",
       "4        5      M   37000   35       25            3.2         Yes  Action   \n",
       "\n",
       "   binned age  normed income  z-normed rentals  high income Discrete Income  \n",
       "0         2.0       0.500000          0.076560            0             Mid  \n",
       "1         3.0       0.602273         -1.434493            0             Mid  \n",
       "2         1.0       0.352273          1.587613            0             Mid  \n",
       "3         4.0       0.659091         -1.031546            0             Mid  \n",
       "4         3.0       0.409091         -0.124914            0             Mid  "
      ]
     },
     "execution_count": 58,
     "metadata": {},
     "output_type": "execute_result"
    }
   ],
   "source": [
    "blob = len(Video_data[\"Income\"])\n",
    "for i in range(blob):\n",
    "    if Video_data.loc[i, \"Income\"] <= 25000 :\n",
    "        Video_data.loc[i,\"Discrete Income\"] = \"Low\"\n",
    "    elif Video_data.loc[i, \"Income\"] <= 59000 :\n",
    "        Video_data.loc[i,\"Discrete Income\"] = \"Mid\"\n",
    "    else :\n",
    "        Video_data.loc[i,\"Discrete Income\"] = \"High\"\n",
    "\n",
    "\n",
    "print(Video_data.tail())\n",
    "Video_data.head()"
   ]
  },
  {
   "cell_type": "markdown",
   "metadata": {},
   "source": [
    "## Create the list of categorical variables\n"
   ]
  },
  {
   "cell_type": "code",
   "execution_count": 60,
   "metadata": {},
   "outputs": [
    {
     "data": {
      "text/plain": [
       "Cust ID               int64\n",
       "Gender               object\n",
       "Income                int64\n",
       "Age                   int64\n",
       "Rentals               int64\n",
       "Avg Per Visit       float64\n",
       "Incidentals          object\n",
       "Genre                object\n",
       "binned age          float64\n",
       "normed income       float64\n",
       "z-normed rentals    float64\n",
       "high income           int64\n",
       "Discrete Income      object\n",
       "dtype: object"
      ]
     },
     "execution_count": 60,
     "metadata": {},
     "output_type": "execute_result"
    }
   ],
   "source": [
    "catz = [\"Gender\", \"Incidentals\", \"Genre\", \"binned age\", \"Discrete Income\"]\n",
    "Video_data.dtypes"
   ]
  },
  {
   "cell_type": "code",
   "execution_count": 63,
   "metadata": {},
   "outputs": [
    {
     "name": "stdout",
     "output_type": "stream",
     "text": [
      "        Cust ID        Income        Age    Rentals  Avg Per Visit  \\\n",
      "count  50.00000     50.000000  50.000000  50.000000      50.000000   \n",
      "mean   25.50000  42300.000000  31.560000  26.240000       2.748000   \n",
      "std    14.57738  21409.753642  12.000272  10.027635       0.898125   \n",
      "min     1.00000   1000.000000  15.000000   9.000000       1.100000   \n",
      "25%    13.25000  26750.000000  22.000000  19.000000       2.125000   \n",
      "50%    25.50000  41000.000000  30.000000  25.000000       2.750000   \n",
      "75%    37.75000  56750.000000  37.500000  32.750000       3.375000   \n",
      "max    50.00000  89000.000000  70.000000  48.000000       4.700000   \n",
      "\n",
      "       normed income  z-normed rentals  high income   Gender_F   Gender_M  \\\n",
      "count      50.000000      5.000000e+01    50.000000  50.000000  50.000000   \n",
      "mean        0.469318      1.487699e-16     0.200000   0.480000   0.520000   \n",
      "std         0.243293      1.010153e+00     0.404061   0.504672   0.504672   \n",
      "min         0.000000     -1.736704e+00     0.000000   0.000000   0.000000   \n",
      "25%         0.292614     -7.293349e-01     0.000000   0.000000   0.000000   \n",
      "50%         0.454545     -1.249137e-01     0.000000   0.000000   1.000000   \n",
      "75%         0.633523      6.557970e-01     0.000000   1.000000   1.000000   \n",
      "max         1.000000      2.192034e+00     1.000000   1.000000   1.000000   \n",
      "\n",
      "              ...           Genre_Action  Genre_Comedy  Genre_Drama  \\\n",
      "count         ...              50.000000     50.000000    50.000000   \n",
      "mean          ...               0.360000      0.240000     0.400000   \n",
      "std           ...               0.484873      0.431419     0.494872   \n",
      "min           ...               0.000000      0.000000     0.000000   \n",
      "25%           ...               0.000000      0.000000     0.000000   \n",
      "50%           ...               0.000000      0.000000     0.000000   \n",
      "75%           ...               1.000000      0.000000     1.000000   \n",
      "max           ...               1.000000      1.000000     1.000000   \n",
      "\n",
      "       binned age_1.0  binned age_2.0  binned age_3.0  binned age_4.0  \\\n",
      "count       50.000000       50.000000       50.000000       50.000000   \n",
      "mean         0.280000        0.240000        0.220000        0.260000   \n",
      "std          0.453557        0.431419        0.418452        0.443087   \n",
      "min          0.000000        0.000000        0.000000        0.000000   \n",
      "25%          0.000000        0.000000        0.000000        0.000000   \n",
      "50%          0.000000        0.000000        0.000000        0.000000   \n",
      "75%          1.000000        0.000000        0.000000        0.750000   \n",
      "max          1.000000        1.000000        1.000000        1.000000   \n",
      "\n",
      "       Discrete Income_High  Discrete Income_Low  Discrete Income_Mid  \n",
      "count             50.000000            50.000000            50.000000  \n",
      "mean               0.200000             0.240000             0.560000  \n",
      "std                0.404061             0.431419             0.501427  \n",
      "min                0.000000             0.000000             0.000000  \n",
      "25%                0.000000             0.000000             0.000000  \n",
      "50%                0.000000             0.000000             1.000000  \n",
      "75%                0.000000             0.000000             1.000000  \n",
      "max                1.000000             1.000000             1.000000  \n",
      "\n",
      "[8 rows x 22 columns]\n"
     ]
    }
   ],
   "source": [
    "wide_Video_data = pd.get_dummies(Video_data, columns = catz)\n",
    "print(wide_Video_data.describe())"
   ]
  },
  {
   "cell_type": "code",
   "execution_count": null,
   "metadata": {},
   "outputs": [],
   "source": []
  }
 ],
 "metadata": {
  "kernelspec": {
   "display_name": "Python 3",
   "language": "python",
   "name": "python3"
  },
  "language_info": {
   "codemirror_mode": {
    "name": "ipython",
    "version": 3
   },
   "file_extension": ".py",
   "mimetype": "text/x-python",
   "name": "python",
   "nbconvert_exporter": "python",
   "pygments_lexer": "ipython3",
   "version": "3.6.7"
  }
 },
 "nbformat": 4,
 "nbformat_minor": 2
}

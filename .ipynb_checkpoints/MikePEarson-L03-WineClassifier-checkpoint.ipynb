{
 "cells": [
  {
   "cell_type": "markdown",
   "metadata": {},
   "source": [
    "# Lesson 3 Assignment - Wine Classifier\n",
    "\n",
    "## Author - Mike Pearson"
   ]
  },
  {
   "cell_type": "markdown",
   "metadata": {},
   "source": [
    "### Instructions\n",
    "Your task for this assignment:  Design a simple, low-cost sensor that can distinguish between red wine and white wine.\n",
    "Your sensor must correctly distinguish between red and white wine for at least 95% of the samples in a set of 6497 test samples of red and white wine.\n",
    "\n",
    "Your technology is capable of sensing the following wine attributes:\n",
    "- Fixed acidity  \n",
    "- Free sulphur dioxide\n",
    "- Volatile acidity  \n",
    "- Total sulphur dioxide\n",
    "- Citric acid  \n",
    "- Sulphates\n",
    "- Residual sugar  \n",
    "- pH\n",
    "- Chlorides  \n",
    "- Alcohol\n",
    "- Density\n",
    "\n",
    "\n"
   ]
  },
  {
   "cell_type": "markdown",
   "metadata": {},
   "source": [
    "## Tasks\n",
    "1. Read <a href=\"https://library.startlearninglabs.uw.edu/DATASCI420/Datasets/WineQuality.pdf\">WineQuality.pdf</a>.\n",
    "2. Use the RedWhiteWine.csv or RedWhiteWine.arff that is provided.\n",
    "Note: If needed, remove the quality attribute, which you will not need for this assignment.\n",
    "3. Build an experiment using Naive Bayes Classifier.\n",
    "\n",
    "Answer the following questions:\n",
    "1. What is the percentage of correct classification results (using all attributes)?\n",
    "2. What is the percentage of correct classification results (using a subset of the attributes)?\n",
    "3. What is the AUC of your model?\n",
    "4. What is the best AUC that you can achieve?\n",
    "5. Which are the the minimum number of attributes? Why?\n"
   ]
  },
  {
   "cell_type": "code",
   "execution_count": 1,
   "metadata": {},
   "outputs": [],
   "source": [
    "URL = \"https://library.startlearninglabs.uw.edu/DATASCI420/Datasets/RedWhiteWine.csv\""
   ]
  },
  {
   "cell_type": "code",
   "execution_count": 2,
   "metadata": {},
   "outputs": [],
   "source": [
    "# Import libraries\n",
    "import numpy as np\n",
    "from sklearn.model_selection import train_test_split\n",
    "import pandas as pd\n"
   ]
  },
  {
   "cell_type": "markdown",
   "metadata": {},
   "source": [
    "## Read the data, take a quick look"
   ]
  },
  {
   "cell_type": "code",
   "execution_count": 3,
   "metadata": {},
   "outputs": [
    {
     "data": {
      "text/html": [
       "<div>\n",
       "<style scoped>\n",
       "    .dataframe tbody tr th:only-of-type {\n",
       "        vertical-align: middle;\n",
       "    }\n",
       "\n",
       "    .dataframe tbody tr th {\n",
       "        vertical-align: top;\n",
       "    }\n",
       "\n",
       "    .dataframe thead th {\n",
       "        text-align: right;\n",
       "    }\n",
       "</style>\n",
       "<table border=\"1\" class=\"dataframe\">\n",
       "  <thead>\n",
       "    <tr style=\"text-align: right;\">\n",
       "      <th></th>\n",
       "      <th>fixed acidity</th>\n",
       "      <th>volatile acidity</th>\n",
       "      <th>citric acid</th>\n",
       "      <th>residual sugar</th>\n",
       "      <th>chlorides</th>\n",
       "      <th>free sulfur dioxide</th>\n",
       "      <th>total sulfur dioxide</th>\n",
       "      <th>density</th>\n",
       "      <th>pH</th>\n",
       "      <th>sulphates</th>\n",
       "      <th>alcohol</th>\n",
       "      <th>quality</th>\n",
       "      <th>Class</th>\n",
       "    </tr>\n",
       "  </thead>\n",
       "  <tbody>\n",
       "    <tr>\n",
       "      <th>0</th>\n",
       "      <td>7.4</td>\n",
       "      <td>0.70</td>\n",
       "      <td>0.00</td>\n",
       "      <td>1.9</td>\n",
       "      <td>0.076</td>\n",
       "      <td>11.0</td>\n",
       "      <td>34.0</td>\n",
       "      <td>0.9978</td>\n",
       "      <td>3.51</td>\n",
       "      <td>0.56</td>\n",
       "      <td>9.4</td>\n",
       "      <td>5</td>\n",
       "      <td>1</td>\n",
       "    </tr>\n",
       "    <tr>\n",
       "      <th>1</th>\n",
       "      <td>7.8</td>\n",
       "      <td>0.88</td>\n",
       "      <td>0.00</td>\n",
       "      <td>2.6</td>\n",
       "      <td>0.098</td>\n",
       "      <td>25.0</td>\n",
       "      <td>67.0</td>\n",
       "      <td>0.9968</td>\n",
       "      <td>3.20</td>\n",
       "      <td>0.68</td>\n",
       "      <td>9.8</td>\n",
       "      <td>5</td>\n",
       "      <td>1</td>\n",
       "    </tr>\n",
       "    <tr>\n",
       "      <th>2</th>\n",
       "      <td>7.8</td>\n",
       "      <td>0.76</td>\n",
       "      <td>0.04</td>\n",
       "      <td>2.3</td>\n",
       "      <td>0.092</td>\n",
       "      <td>15.0</td>\n",
       "      <td>54.0</td>\n",
       "      <td>0.9970</td>\n",
       "      <td>3.26</td>\n",
       "      <td>0.65</td>\n",
       "      <td>9.8</td>\n",
       "      <td>5</td>\n",
       "      <td>1</td>\n",
       "    </tr>\n",
       "    <tr>\n",
       "      <th>3</th>\n",
       "      <td>11.2</td>\n",
       "      <td>0.28</td>\n",
       "      <td>0.56</td>\n",
       "      <td>1.9</td>\n",
       "      <td>0.075</td>\n",
       "      <td>17.0</td>\n",
       "      <td>60.0</td>\n",
       "      <td>0.9980</td>\n",
       "      <td>3.16</td>\n",
       "      <td>0.58</td>\n",
       "      <td>9.8</td>\n",
       "      <td>6</td>\n",
       "      <td>1</td>\n",
       "    </tr>\n",
       "    <tr>\n",
       "      <th>4</th>\n",
       "      <td>7.4</td>\n",
       "      <td>0.70</td>\n",
       "      <td>0.00</td>\n",
       "      <td>1.9</td>\n",
       "      <td>0.076</td>\n",
       "      <td>11.0</td>\n",
       "      <td>34.0</td>\n",
       "      <td>0.9978</td>\n",
       "      <td>3.51</td>\n",
       "      <td>0.56</td>\n",
       "      <td>9.4</td>\n",
       "      <td>5</td>\n",
       "      <td>1</td>\n",
       "    </tr>\n",
       "  </tbody>\n",
       "</table>\n",
       "</div>"
      ],
      "text/plain": [
       "   fixed acidity  volatile acidity  citric acid  residual sugar  chlorides  \\\n",
       "0            7.4              0.70         0.00             1.9      0.076   \n",
       "1            7.8              0.88         0.00             2.6      0.098   \n",
       "2            7.8              0.76         0.04             2.3      0.092   \n",
       "3           11.2              0.28         0.56             1.9      0.075   \n",
       "4            7.4              0.70         0.00             1.9      0.076   \n",
       "\n",
       "   free sulfur dioxide  total sulfur dioxide  density    pH  sulphates  \\\n",
       "0                 11.0                  34.0   0.9978  3.51       0.56   \n",
       "1                 25.0                  67.0   0.9968  3.20       0.68   \n",
       "2                 15.0                  54.0   0.9970  3.26       0.65   \n",
       "3                 17.0                  60.0   0.9980  3.16       0.58   \n",
       "4                 11.0                  34.0   0.9978  3.51       0.56   \n",
       "\n",
       "   alcohol  quality  Class  \n",
       "0      9.4        5      1  \n",
       "1      9.8        5      1  \n",
       "2      9.8        5      1  \n",
       "3      9.8        6      1  \n",
       "4      9.4        5      1  "
      ]
     },
     "execution_count": 3,
     "metadata": {},
     "output_type": "execute_result"
    }
   ],
   "source": [
    "wine_data = pd.read_csv(URL)\n",
    "wine_data.head()"
   ]
  },
  {
   "cell_type": "code",
   "execution_count": 4,
   "metadata": {},
   "outputs": [
    {
     "name": "stdout",
     "output_type": "stream",
     "text": [
      "fixed acidity           float64\n",
      "volatile acidity        float64\n",
      "citric acid             float64\n",
      "residual sugar          float64\n",
      "chlorides               float64\n",
      "free sulfur dioxide     float64\n",
      "total sulfur dioxide    float64\n",
      "density                 float64\n",
      "pH                      float64\n",
      "sulphates               float64\n",
      "alcohol                 float64\n",
      "quality                   int64\n",
      "Class                     int64\n",
      "dtype: object\n",
      "(6497, 13)\n",
      " Count of reds(1) and whites(0)\n",
      " 0    4898\n",
      "1    1599\n",
      "Name: Class, dtype: int64\n",
      "       fixed acidity  volatile acidity  citric acid  residual sugar  \\\n",
      "count    6497.000000       6497.000000  6497.000000     6497.000000   \n",
      "mean        7.215307          0.339666     0.318633        5.443235   \n",
      "std         1.296434          0.164636     0.145318        4.757804   \n",
      "min         3.800000          0.080000     0.000000        0.600000   \n",
      "25%         6.400000          0.230000     0.250000        1.800000   \n",
      "50%         7.000000          0.290000     0.310000        3.000000   \n",
      "75%         7.700000          0.400000     0.390000        8.100000   \n",
      "max        15.900000          1.580000     1.660000       65.800000   \n",
      "\n",
      "         chlorides  free sulfur dioxide  total sulfur dioxide      density  \\\n",
      "count  6497.000000          6497.000000           6497.000000  6497.000000   \n",
      "mean      0.056034            30.525319            115.744574     0.994697   \n",
      "std       0.035034            17.749400             56.521855     0.002999   \n",
      "min       0.009000             1.000000              6.000000     0.987110   \n",
      "25%       0.038000            17.000000             77.000000     0.992340   \n",
      "50%       0.047000            29.000000            118.000000     0.994890   \n",
      "75%       0.065000            41.000000            156.000000     0.996990   \n",
      "max       0.611000           289.000000            440.000000     1.038980   \n",
      "\n",
      "                pH    sulphates      alcohol      quality        Class  \n",
      "count  6497.000000  6497.000000  6497.000000  6497.000000  6497.000000  \n",
      "mean      3.218501     0.531268    10.491801     5.818378     0.246114  \n",
      "std       0.160787     0.148806     1.192712     0.873255     0.430779  \n",
      "min       2.720000     0.220000     8.000000     3.000000     0.000000  \n",
      "25%       3.110000     0.430000     9.500000     5.000000     0.000000  \n",
      "50%       3.210000     0.510000    10.300000     6.000000     0.000000  \n",
      "75%       3.320000     0.600000    11.300000     6.000000     0.000000  \n",
      "max       4.010000     2.000000    14.900000     9.000000     1.000000  \n"
     ]
    }
   ],
   "source": [
    "print(wine_data.dtypes)\n",
    "print(wine_data.shape)\n",
    "a = wine_data['Class']\n",
    "print(\" Count of reds(1) and whites(0)\\n\",a.value_counts())\n",
    "print(wine_data.describe())"
   ]
  },
  {
   "cell_type": "markdown",
   "metadata": {},
   "source": [
    "## Scale the data \n"
   ]
  },
  {
   "cell_type": "code",
   "execution_count": 5,
   "metadata": {},
   "outputs": [
    {
     "name": "stdout",
     "output_type": "stream",
     "text": [
      "       fixed acidity  volatile acidity   citric acid  residual sugar  \\\n",
      "count   6.497000e+03      6.497000e+03  6.497000e+03    6.497000e+03   \n",
      "mean    9.396824e-16     -2.652262e-14  4.807301e-14   -2.252111e-15   \n",
      "std     1.000000e+00      1.000000e+00  1.000000e+00    1.000000e+00   \n",
      "min    -2.634386e+00     -1.577208e+00 -2.192664e+00   -1.017956e+00   \n",
      "25%    -6.288845e-01     -6.661100e-01 -4.722972e-01   -7.657389e-01   \n",
      "50%    -1.660764e-01     -3.016707e-01 -5.940918e-02   -5.135217e-01   \n",
      "75%     3.738663e-01      3.664680e-01  4.911081e-01    5.584015e-01   \n",
      "max     6.698910e+00      7.533774e+00  9.230570e+00    1.268585e+01   \n",
      "\n",
      "          chlorides  free sulfur dioxide  total sulfur dioxide       density  \\\n",
      "count  6.497000e+03         6.497000e+03          6.497000e+03  6.497000e+03   \n",
      "mean   1.278966e-14        -6.367933e-17         -5.225926e-16  2.181060e-12   \n",
      "std    1.000000e+00         1.000000e+00          1.000000e+00  1.000000e+00   \n",
      "min   -1.342536e+00        -1.663455e+00         -1.941631e+00 -2.529997e+00   \n",
      "25%   -5.147590e-01        -7.620156e-01         -6.854795e-01 -7.858922e-01   \n",
      "50%   -2.578628e-01        -8.593639e-02          3.990360e-02  6.448391e-02   \n",
      "75%    2.559297e-01         5.901428e-01          7.122099e-01  7.647937e-01   \n",
      "max    1.584097e+01         1.456245e+01          5.736815e+00  1.476765e+01   \n",
      "\n",
      "                 pH     sulphates       alcohol      quality        Class  \n",
      "count  6.497000e+03  6.497000e+03  6.497000e+03  6497.000000  6497.000000  \n",
      "mean  -3.317152e-14 -6.607989e-15 -2.235860e-14     5.818378     0.246114  \n",
      "std    1.000000e+00  1.000000e+00  1.000000e+00     0.873255     0.430779  \n",
      "min   -3.100376e+00 -2.091774e+00 -2.089189e+00     3.000000     0.000000  \n",
      "25%   -6.748102e-01 -6.805395e-01 -8.315512e-01     5.000000     0.000000  \n",
      "50%   -5.287017e-02 -1.429263e-01 -1.608107e-01     6.000000     0.000000  \n",
      "75%    6.312639e-01  4.618885e-01  6.776148e-01     6.000000     0.000000  \n",
      "max    4.922650e+00  9.870119e+00  3.695947e+00     9.000000     1.000000  \n"
     ]
    }
   ],
   "source": [
    "num_features = ['fixed acidity', 'volatile acidity', 'citric acid', 'residual sugar', 'chlorides',\n",
    "                'free sulfur dioxide', 'total sulfur dioxide', 'density', 'pH',\n",
    "                'sulphates', 'alcohol']\n",
    " \n",
    "scaled_features = {}\n",
    "for each in num_features:\n",
    "    mean, std = wine_data[each].mean(), wine_data[each].std()\n",
    "    scaled_features[each] = [mean, std]\n",
    "    wine_data.loc[:, each] = (wine_data[each] - mean)/std\n",
    "\n",
    "print(wine_data.describe())"
   ]
  },
  {
   "cell_type": "markdown",
   "metadata": {},
   "source": [
    "## Now that things are normalized, let's get a training data set"
   ]
  },
  {
   "cell_type": "code",
   "execution_count": 6,
   "metadata": {},
   "outputs": [
    {
     "name": "stdout",
     "output_type": "stream",
     "text": [
      "       fixed acidity  volatile acidity  citric acid  residual sugar  \\\n",
      "count    5192.000000       5192.000000  5192.000000     5192.000000   \n",
      "mean        0.001326         -0.007389    -0.000880       -0.002881   \n",
      "std         1.005613          0.999814     0.998147        0.988623   \n",
      "min        -2.634386         -1.577208    -2.192664       -1.017956   \n",
      "25%        -0.628884         -0.666110    -0.472297       -0.765739   \n",
      "50%        -0.166076         -0.301671    -0.059409       -0.513522   \n",
      "75%         0.373866          0.366468     0.491108        0.558401   \n",
      "max         6.698910          7.533774     9.230570        5.497655   \n",
      "\n",
      "         chlorides  free sulfur dioxide  total sulfur dioxide      density  \\\n",
      "count  5192.000000          5192.000000           5192.000000  5192.000000   \n",
      "mean     -0.005766             0.017281              0.011225    -0.001642   \n",
      "std       0.995727             1.013306              1.002730     0.980853   \n",
      "min      -1.256904            -1.663455             -1.941631    -2.529997   \n",
      "25%      -0.514759            -0.762016             -0.650095    -0.777555   \n",
      "50%      -0.257863            -0.085936              0.057596     0.061149   \n",
      "75%       0.227386             0.646483              0.712210     0.745619   \n",
      "max      15.840967            14.562446              5.736815     5.203424   \n",
      "\n",
      "                pH    sulphates      alcohol  \n",
      "count  5192.000000  5192.000000  5192.000000  \n",
      "mean     -0.000643    -0.000304    -0.007112  \n",
      "std       0.995846     1.001070     0.990798  \n",
      "min      -2.975988    -1.890169    -2.089189  \n",
      "25%      -0.674810    -0.680540    -0.831551  \n",
      "50%      -0.052870    -0.142926    -0.160811  \n",
      "75%       0.631264     0.461889     0.677615  \n",
      "max       4.922650     9.870119     3.695947  \n",
      "wine train target is \n",
      " count    5192.000000\n",
      "mean        0.243837\n",
      "std         0.429437\n",
      "min         0.000000\n",
      "25%         0.000000\n",
      "50%         0.000000\n",
      "75%         0.000000\n",
      "max         1.000000\n",
      "Name: Class, dtype: float64\n",
      "count    1305.000000\n",
      "mean        0.255172\n",
      "std         0.436125\n",
      "min         0.000000\n",
      "25%         0.000000\n",
      "50%         0.000000\n",
      "75%         1.000000\n",
      "max         1.000000\n",
      "Name: Class, dtype: float64\n"
     ]
    }
   ],
   "source": [
    "msk = np.random.rand(wine_data.shape[0]) <= 0.8\n",
    "## remove the quality column and set as separate \n",
    "class_data = wine_data['Class']\n",
    "wine_d = wine_data.drop(['quality', 'Class'],axis = 1)\n",
    "wine_train = wine_d.iloc[msk, 0:11]\n",
    "wine_train_target = class_data.loc[msk]\n",
    "wine_test = wine_d.iloc[~msk, 0:11]\n",
    "wine_test_target = class_data.loc[~msk]\n",
    "\n",
    "\n",
    "print(wine_train.describe())\n",
    "print(\"wine train target is \\n\", wine_train_target.describe())\n",
    "print(wine_test_target.describe())\n"
   ]
  },
  {
   "cell_type": "markdown",
   "metadata": {},
   "source": [
    "## Now for the actual fitting - using all the data\n",
    "\n",
    "### I imagine that the various acids are not independent, nor are the sulfur dioxodes - but we'll see"
   ]
  },
  {
   "cell_type": "code",
   "execution_count": 7,
   "metadata": {},
   "outputs": [
    {
     "name": "stdout",
     "output_type": "stream",
     "text": [
      "Variables are\n",
      " ['fixed acidity', 'volatile acidity', 'citric acid', 'residual sugar', 'chlorides', 'free sulfur dioxide', 'total sulfur dioxide', 'density', 'pH', 'sulphates', 'alcohol']\n",
      "Number of mislabeled points out of a total 1305 points : 33\n",
      "Accuracy = 97.47\n",
      "[0.         0.02057613 1.        ]\n",
      "[0.         0.96096096 1.        ]\n",
      "AUC = 0.970\n"
     ]
    }
   ],
   "source": [
    "from sklearn.naive_bayes import GaussianNB\n",
    "from sklearn.metrics import roc_curve, auc\n",
    "##sklearn.metrics.auc(x, y, reorder=False)\n",
    "gnb = GaussianNB()\n",
    "gnb_model = gnb.fit(wine_train, wine_train_target)\n",
    "y_pred = gnb_model.predict(wine_test)\n",
    "misclassified_points = (wine_test_target != y_pred).sum()\n",
    "print(\"Variables are\\n\", list(wine_train))\n",
    "print(\"Number of mislabeled points out of a total %d points : %d\"\\\n",
    "      % (wine_test.shape[0], misclassified_points))\n",
    "print(\"Accuracy = %.2f\"%(round((wine_test.shape[0] - float(misclassified_points))/wine_test.shape[0]*100,2)))\n",
    "fpr, tpr, threshold = roc_curve(wine_test_target, y_pred)\n",
    "print(fpr)\n",
    "print(tpr)\n",
    "print(\"AUC = %.3f\"%(auc(fpr, tpr)))"
   ]
  },
  {
   "cell_type": "markdown",
   "metadata": {},
   "source": [
    "## Pretty Good, but let's see if we can cut down on the variables\n",
    "\n",
    "### Let's just use the fixed acidity and the total sulfur dioxide of the acids and dioxides"
   ]
  },
  {
   "cell_type": "code",
   "execution_count": 8,
   "metadata": {},
   "outputs": [
    {
     "name": "stdout",
     "output_type": "stream",
     "text": [
      "Variables are\n",
      " ['fixed acidity', 'residual sugar', 'chlorides', 'total sulfur dioxide', 'density', 'pH', 'sulphates', 'alcohol']\n",
      "Number of mislabeled points out of a total 1305 points : 43\n",
      "Accuracy = 96.70\n",
      "[0.         0.02366255 1.        ]\n",
      "[0.         0.93993994 1.        ]\n",
      "AUC = 0.958\n"
     ]
    }
   ],
   "source": [
    "cutdown_wine_train = wine_train.drop(['volatile acidity', 'citric acid', 'free sulfur dioxide'], axis = 1)\n",
    "cutdown_wine_test = wine_test.drop(['volatile acidity', 'citric acid', 'free sulfur dioxide'], axis = 1)\n",
    "gnb = GaussianNB()\n",
    "gnb_model = gnb.fit(cutdown_wine_train, wine_train_target)\n",
    "y_pred = gnb_model.predict(cutdown_wine_test)\n",
    "misclassified_points = (wine_test_target != y_pred).sum()\n",
    "print(\"Variables are\\n\", list(cutdown_wine_train))\n",
    "print(\"Number of mislabeled points out of a total %d points : %d\"\\\n",
    "      % (cutdown_wine_test.shape[0], misclassified_points))\n",
    "print(\"Accuracy = %.2f\"%(round((cutdown_wine_test.shape[0] - float(misclassified_points))/cutdown_wine_test.shape[0]*100,2)))\n",
    "fpr, tpr, threshold = roc_curve(wine_test_target, y_pred)\n",
    "print(fpr)\n",
    "print(tpr)\n",
    "print(\"AUC = %.3f\"%(auc(fpr, tpr)))"
   ]
  },
  {
   "cell_type": "markdown",
   "metadata": {},
   "source": [
    "## Not an improvement\n",
    "\n",
    "### Let's look at the relative acidity and total sulfur dioxide - plus pH, density, residual sugar, chlorides, sulfites and alcohol"
   ]
  },
  {
   "cell_type": "code",
   "execution_count": 9,
   "metadata": {},
   "outputs": [
    {
     "name": "stdout",
     "output_type": "stream",
     "text": [
      "Variables are\n",
      " ['residual sugar', 'chlorides', 'total sulfur dioxide', 'density', 'pH', 'sulphates', 'alcohol']\n",
      "Number of mislabeled points out of a total 1305 points : 43\n",
      "Accuracy = 96.70\n",
      "[0.         0.02674897 1.        ]\n",
      "[0.         0.94894895 1.        ]\n",
      "AUC = 0.961\n"
     ]
    }
   ],
   "source": [
    "cutdown_wine_train = wine_train.drop(['fixed acidity', 'citric acid', 'free sulfur dioxide','volatile acidity'], axis = 1)\n",
    "cutdown_wine_test = wine_test.drop(['fixed acidity', 'citric acid', 'free sulfur dioxide', 'volatile acidity'], axis = 1)\n",
    "gnb = GaussianNB()\n",
    "gnb_model = gnb.fit(cutdown_wine_train, wine_train_target)\n",
    "y_pred = gnb_model.predict(cutdown_wine_test)\n",
    "misclassified_points = (wine_test_target != y_pred).sum()\n",
    "print(\"Variables are\\n\", list(cutdown_wine_train))\n",
    "print(\"Number of mislabeled points out of a total %d points : %d\"\\\n",
    "      % (cutdown_wine_test.shape[0], misclassified_points))\n",
    "print(\"Accuracy = %.2f\"%(round((cutdown_wine_test.shape[0] - float(misclassified_points))/cutdown_wine_test.shape[0]*100,2)))\n",
    "fpr, tpr, threshold = roc_curve(wine_test_target, y_pred)\n",
    "print(fpr)\n",
    "print(tpr)\n",
    "print(\"AUC = %.3f\"%(auc(fpr, tpr)))"
   ]
  },
  {
   "cell_type": "markdown",
   "metadata": {},
   "source": [
    "## Also not an improvement over all the variables\n",
    "\n",
    "### Let's remove the cholorides from the same as above"
   ]
  },
  {
   "cell_type": "code",
   "execution_count": 10,
   "metadata": {},
   "outputs": [
    {
     "name": "stdout",
     "output_type": "stream",
     "text": [
      "Variables are\n",
      " ['residual sugar', 'total sulfur dioxide', 'density', 'pH', 'sulphates', 'alcohol']\n",
      "Number of mislabeled points out of a total 1305 points : 46\n",
      "Accuracy = 96.48\n",
      "[0.         0.02469136 1.        ]\n",
      "[0.         0.93393393 1.        ]\n",
      "AUC = 0.955\n"
     ]
    }
   ],
   "source": [
    "cutdown_wine_train = wine_train.drop(['fixed acidity', 'citric acid', 'free sulfur dioxide','volatile acidity',\n",
    "                                      'chlorides'], axis = 1)\n",
    "cutdown_wine_test = wine_test.drop(['fixed acidity', 'citric acid', 'free sulfur dioxide', 'volatile acidity',\n",
    "                                   'chlorides', ], axis = 1)\n",
    "gnb = GaussianNB()\n",
    "gnb_model = gnb.fit(cutdown_wine_train, wine_train_target)\n",
    "y_pred = gnb_model.predict(cutdown_wine_test)\n",
    "misclassified_points = (wine_test_target != y_pred).sum()\n",
    "print(\"Variables are\\n\", list(cutdown_wine_train))\n",
    "print(\"Number of mislabeled points out of a total %d points : %d\"\\\n",
    "      % (cutdown_wine_test.shape[0], misclassified_points))\n",
    "print(\"Accuracy = %.2f\"%(round((cutdown_wine_test.shape[0] - float(misclassified_points))/cutdown_wine_test.shape[0]*100,2)))\n",
    "fpr, tpr, threshold = roc_curve(wine_test_target, y_pred)\n",
    "print(fpr)\n",
    "print(tpr)\n",
    "print(\"AUC = %.3f\"%(auc(fpr, tpr)))"
   ]
  },
  {
   "cell_type": "markdown",
   "metadata": {},
   "source": [
    "## No improvement,  not as good as all variables\n",
    "\n",
    "### Let's look at fixed acidity, total sulfur, density, residual sugar, sulfites and alcohol (removing pH)\n"
   ]
  },
  {
   "cell_type": "code",
   "execution_count": 11,
   "metadata": {},
   "outputs": [
    {
     "name": "stdout",
     "output_type": "stream",
     "text": [
      "Variables are\n",
      " ['fixed acidity', 'residual sugar', 'total sulfur dioxide', 'density', 'sulphates', 'alcohol']\n",
      "Number of mislabeled points out of a total 1305 points : 42\n",
      "Accuracy = 96.78\n",
      "[0.        0.0154321 1.       ]\n",
      "[0.         0.91891892 1.        ]\n",
      "AUC = 0.952\n"
     ]
    }
   ],
   "source": [
    "cutdown_wine_train = wine_train.drop([ 'citric acid', 'free sulfur dioxide','volatile acidity',\n",
    "                                      'chlorides', 'pH'], axis = 1)\n",
    "cutdown_wine_test = wine_test.drop([ 'citric acid', 'free sulfur dioxide', 'volatile acidity',\n",
    "                                   'chlorides',  'pH'], axis = 1)\n",
    "gnb = GaussianNB()\n",
    "gnb_model = gnb.fit(cutdown_wine_train, wine_train_target)\n",
    "y_pred = gnb_model.predict(cutdown_wine_test)\n",
    "misclassified_points = (wine_test_target != y_pred).sum()\n",
    "print(\"Variables are\\n\", list(cutdown_wine_train))\n",
    "print(\"Number of mislabeled points out of a total %d points : %d\"\\\n",
    "      % (cutdown_wine_test.shape[0], misclassified_points))\n",
    "print(\"Accuracy = %.2f\"%(round((cutdown_wine_test.shape[0] - float(misclassified_points))/cutdown_wine_test.shape[0]*100,2)))\n",
    "fpr, tpr, threshold = roc_curve(wine_test_target, y_pred)\n",
    "print(fpr)\n",
    "print(tpr)\n",
    "print(\"AUC = %.3f\"%(auc(fpr, tpr)))"
   ]
  },
  {
   "cell_type": "code",
   "execution_count": 12,
   "metadata": {},
   "outputs": [
    {
     "name": "stdout",
     "output_type": "stream",
     "text": [
      "Variables are\n",
      " ['fixed acidity', 'residual sugar', 'total sulfur dioxide', 'sulphates', 'alcohol']\n",
      "Number of mislabeled points out of a total 1305 points : 76\n",
      "Accuracy = 94.18\n",
      "[0.         0.05041152 1.        ]\n",
      "[0.         0.91891892 1.        ]\n",
      "AUC = 0.934\n"
     ]
    }
   ],
   "source": [
    "cutdown_wine_train = wine_train.drop([ 'citric acid', 'free sulfur dioxide','volatile acidity',\n",
    "                                      'chlorides', 'pH', 'density'], axis = 1)\n",
    "cutdown_wine_test = wine_test.drop([ 'citric acid', 'free sulfur dioxide', 'volatile acidity',\n",
    "                                   'chlorides', 'pH', 'density'], axis = 1)\n",
    "gnb = GaussianNB()\n",
    "gnb_model = gnb.fit(cutdown_wine_train, wine_train_target)\n",
    "y_pred = gnb_model.predict(cutdown_wine_test)\n",
    "misclassified_points = (wine_test_target != y_pred).sum()\n",
    "print(\"Variables are\\n\", list(cutdown_wine_train))\n",
    "print(\"Number of mislabeled points out of a total %d points : %d\"\\\n",
    "      % (cutdown_wine_test.shape[0], misclassified_points))\n",
    "print(\"Accuracy = %.2f\"%(round((cutdown_wine_test.shape[0] - float(misclassified_points))/cutdown_wine_test.shape[0]*100,2)))\n",
    "fpr, tpr, threshold = roc_curve(wine_test_target, y_pred)\n",
    "print(fpr)\n",
    "print(tpr)\n",
    "print(\"AUC = %.3f\"%(auc(fpr, tpr)))"
   ]
  },
  {
   "cell_type": "code",
   "execution_count": 13,
   "metadata": {},
   "outputs": [
    {
     "name": "stdout",
     "output_type": "stream",
     "text": [
      "Variables are\n",
      " ['citric acid', 'residual sugar', 'total sulfur dioxide', 'density', 'pH', 'sulphates', 'alcohol']\n",
      "Number of mislabeled points out of a total 1305 points : 43\n",
      "Accuracy = 96.70\n",
      "[0.         0.02057613 1.        ]\n",
      "[0.         0.93093093 1.        ]\n",
      "AUC = 0.955\n"
     ]
    }
   ],
   "source": [
    "cutdown_wine_train = wine_train.drop([ 'fixed acidity', 'free sulfur dioxide','volatile acidity',\n",
    "                                      'chlorides'], axis = 1)\n",
    "cutdown_wine_test = wine_test.drop([ 'fixed acidity', 'free sulfur dioxide', 'volatile acidity',\n",
    "                                   'chlorides'], axis = 1)\n",
    "gnb = GaussianNB()\n",
    "gnb_model = gnb.fit(cutdown_wine_train, wine_train_target)\n",
    "y_pred = gnb_model.predict(cutdown_wine_test)\n",
    "misclassified_points = (wine_test_target != y_pred).sum()\n",
    "print(\"Variables are\\n\", list(cutdown_wine_train))\n",
    "print(\"Number of mislabeled points out of a total %d points : %d\"\\\n",
    "      % (cutdown_wine_test.shape[0], misclassified_points))\n",
    "print(\"Accuracy = %.2f\"%(round((cutdown_wine_test.shape[0] - float(misclassified_points))/cutdown_wine_test.shape[0]*100,2)))\n",
    "fpr, tpr, threshold = roc_curve(wine_test_target, y_pred)\n",
    "print(fpr)\n",
    "print(tpr)\n",
    "print(\"AUC = %.3f\"%(auc(fpr, tpr)))"
   ]
  },
  {
   "cell_type": "markdown",
   "metadata": {},
   "source": [
    "## Let's take a look at the correlation matrix of the full set of variables"
   ]
  },
  {
   "cell_type": "code",
   "execution_count": 15,
   "metadata": {},
   "outputs": [
    {
     "data": {
      "text/plain": [
       "<matplotlib.axes._subplots.AxesSubplot at 0x1a1c7852e8>"
      ]
     },
     "execution_count": 15,
     "metadata": {},
     "output_type": "execute_result"
    },
    {
     "data": {
      "image/png": "[encoded data removed]",
      "text/plain": [
       "<Figure size 792x648 with 2 Axes>"
      ]
     },
     "metadata": {},
     "output_type": "display_data"
    }
   ],
   "source": [
    "import seaborn as sns\n",
    "import matplotlib.pyplot as plt\n",
    "corry = wine_train.corr()\n",
    "\n",
    "# Generate a mask for the upper triangle - basic code borroewd from seaborn examples website\n",
    "mask = np.zeros_like(corry, dtype=np.bool)\n",
    "mask[np.triu_indices_from(mask)] = True\n",
    "\n",
    "# Set up the matplotlib figure\n",
    "f, ax = plt.subplots(figsize=(11, 9))\n",
    "\n",
    "# Generate a custom diverging colormap\n",
    "cmap = sns.diverging_palette(220, 10, as_cmap=True)\n",
    "\n",
    "# Draw the heatmap with the mask and correct aspect ratio\n",
    "sns.heatmap(corry, mask=mask, cmap=cmap, vmax=.3, center=0,\n",
    "            square=True, linewidths=.5, cbar_kws={\"shrink\": .5})"
   ]
  },
  {
   "cell_type": "markdown",
   "metadata": {},
   "source": [
    "## Looks like density and alcohol have a strong negative correlation - so I'll see if we can get good results dropping one of them.\n",
    "\n",
    "### I'll drop density\n"
   ]
  },
  {
   "cell_type": "code",
   "execution_count": 16,
   "metadata": {},
   "outputs": [
    {
     "name": "stdout",
     "output_type": "stream",
     "text": [
      "Variables are\n",
      " ['fixed acidity', 'volatile acidity', 'citric acid', 'residual sugar', 'chlorides', 'free sulfur dioxide', 'total sulfur dioxide', 'pH', 'sulphates', 'alcohol']\n",
      "Number of mislabeled points out of a total 1305 points : 50\n",
      "Accuracy = 96.17\n",
      "[0.         0.03909465 1.        ]\n",
      "[0.         0.96396396 1.        ]\n",
      "AUC = 0.962\n"
     ]
    }
   ],
   "source": [
    "cutdown_wine_train = wine_train.drop(['density'], axis = 1)\n",
    "cutdown_wine_test = wine_test.drop(['density'], axis = 1)\n",
    "gnb = GaussianNB()\n",
    "gnb_model = gnb.fit(cutdown_wine_train, wine_train_target)\n",
    "y_pred = gnb_model.predict(cutdown_wine_test)\n",
    "misclassified_points = (wine_test_target != y_pred).sum()\n",
    "print(\"Variables are\\n\", list(cutdown_wine_train))\n",
    "print(\"Number of mislabeled points out of a total %d points : %d\"\\\n",
    "      % (cutdown_wine_test.shape[0], misclassified_points))\n",
    "print(\"Accuracy = %.2f\"%(round((cutdown_wine_test.shape[0] - float(misclassified_points))/cutdown_wine_test.shape[0]*100,2)))\n",
    "fpr, tpr, threshold = roc_curve(wine_test_target, y_pred)\n",
    "print(fpr)\n",
    "print(tpr)\n",
    "print(\"AUC = %.3f\"%(auc(fpr, tpr)))"
   ]
  },
  {
   "cell_type": "markdown",
   "metadata": {},
   "source": [
    "## Ok, let's see if there's improvement in only dropping alcohol\n"
   ]
  },
  {
   "cell_type": "code",
   "execution_count": 17,
   "metadata": {},
   "outputs": [
    {
     "name": "stdout",
     "output_type": "stream",
     "text": [
      "Variables are\n",
      " ['fixed acidity', 'volatile acidity', 'citric acid', 'residual sugar', 'chlorides', 'free sulfur dioxide', 'total sulfur dioxide', 'density', 'pH', 'sulphates']\n",
      "Number of mislabeled points out of a total 1305 points : 33\n",
      "Accuracy = 97.47\n",
      "[0.         0.02057613 1.        ]\n",
      "[0.         0.96096096 1.        ]\n",
      "AUC = 0.970\n"
     ]
    }
   ],
   "source": [
    "cutdown_wine_train = wine_train.drop(['alcohol'], axis = 1)\n",
    "cutdown_wine_test = wine_test.drop(['alcohol'], axis = 1)\n",
    "gnb = GaussianNB()\n",
    "gnb_model = gnb.fit(cutdown_wine_train, wine_train_target)\n",
    "y_pred = gnb_model.predict(cutdown_wine_test)\n",
    "misclassified_points = (wine_test_target != y_pred).sum()\n",
    "print(\"Variables are\\n\", list(cutdown_wine_train))\n",
    "print(\"Number of mislabeled points out of a total %d points : %d\"\\\n",
    "      % (cutdown_wine_test.shape[0], misclassified_points))\n",
    "print(\"Accuracy = %.2f\"%(round((cutdown_wine_test.shape[0] - float(misclassified_points))/cutdown_wine_test.shape[0]*100,2)))\n",
    "fpr, tpr, threshold = roc_curve(wine_test_target, y_pred)\n",
    "print(fpr)\n",
    "print(tpr)\n",
    "print(\"AUC = %.3f\"%(auc(fpr, tpr)))"
   ]
  },
  {
   "cell_type": "markdown",
   "metadata": {},
   "source": [
    "## This is the same as using all variables - so preferrable as a model since few variables are better to resist overfitting\n",
    "\n",
    "\n",
    "### Take a look at removing fixed acidity, since it has moderate correlation with citric acid, sulfates and density"
   ]
  },
  {
   "cell_type": "code",
   "execution_count": 18,
   "metadata": {},
   "outputs": [
    {
     "name": "stdout",
     "output_type": "stream",
     "text": [
      "Variables are\n",
      " ['volatile acidity', 'citric acid', 'residual sugar', 'chlorides', 'free sulfur dioxide', 'total sulfur dioxide', 'density', 'pH', 'sulphates']\n",
      "Number of mislabeled points out of a total 1305 points : 34\n",
      "Accuracy = 97.39\n",
      "[0.         0.02160494 1.        ]\n",
      "[0.         0.96096096 1.        ]\n",
      "AUC = 0.970\n"
     ]
    }
   ],
   "source": [
    "cutdown_wine_train = wine_train.drop(['alcohol', 'fixed acidity'], axis = 1)\n",
    "cutdown_wine_test = wine_test.drop(['alcohol', 'fixed acidity'], axis = 1)\n",
    "gnb = GaussianNB()\n",
    "gnb_model = gnb.fit(cutdown_wine_train, wine_train_target)\n",
    "y_pred = gnb_model.predict(cutdown_wine_test)\n",
    "misclassified_points = (wine_test_target != y_pred).sum()\n",
    "print(\"Variables are\\n\", list(cutdown_wine_train))\n",
    "print(\"Number of mislabeled points out of a total %d points : %d\"\\\n",
    "      % (cutdown_wine_test.shape[0], misclassified_points))\n",
    "print(\"Accuracy = %.2f\"%(round((cutdown_wine_test.shape[0] - float(misclassified_points))/cutdown_wine_test.shape[0]*100,2)))\n",
    "fpr, tpr, threshold = roc_curve(wine_test_target, y_pred)\n",
    "print(fpr)\n",
    "print(tpr)\n",
    "print(\"AUC = %.3f\"%(auc(fpr, tpr)))"
   ]
  },
  {
   "cell_type": "markdown",
   "metadata": {},
   "source": [
    "## All variables except alcohol had the same AUC as All Variables\n",
    "\n",
    "\n",
    "### Let's see if we can cut down some more without a big drop in Area Under the Curve, and accuracy"
   ]
  },
  {
   "cell_type": "code",
   "execution_count": 19,
   "metadata": {},
   "outputs": [
    {
     "name": "stdout",
     "output_type": "stream",
     "text": [
      "Variables are\n",
      " ['volatile acidity', 'residual sugar', 'total sulfur dioxide', 'density', 'sulphates']\n",
      "Number of mislabeled points out of a total 1305 points : 27\n",
      "Accuracy = 97.93\n",
      "[0.         0.01440329 1.        ]\n",
      "[0.         0.96096096 1.        ]\n",
      "AUC = 0.973\n"
     ]
    }
   ],
   "source": [
    "cutdown_wine_train = wine_train.drop(['fixed acidity', 'free sulfur dioxide','citric acid',\n",
    "                                      'chlorides', 'alcohol', 'pH'], axis = 1)\n",
    "cutdown_wine_test = wine_test.drop([ 'fixed acidity', 'free sulfur dioxide', 'citric acid',\n",
    "                                   'chlorides', 'alcohol','pH'], axis = 1)\n",
    "gnb = GaussianNB()\n",
    "gnb_model = gnb.fit(cutdown_wine_train, wine_train_target)\n",
    "y_pred = gnb_model.predict(cutdown_wine_test)\n",
    "misclassified_points = (wine_test_target != y_pred).sum()\n",
    "print(\"Variables are\\n\", list(cutdown_wine_train))\n",
    "print(\"Number of mislabeled points out of a total %d points : %d\"\\\n",
    "      % (cutdown_wine_test.shape[0], misclassified_points))\n",
    "print(\"Accuracy = %.2f\"%(round((cutdown_wine_test.shape[0] - float(misclassified_points))/cutdown_wine_test.shape[0]*100,2)))\n",
    "fpr, tpr, threshold = roc_curve(wine_test_target, y_pred)\n",
    "print(fpr)\n",
    "print(tpr)\n",
    "print(\"AUC = %.3f\"%(auc(fpr, tpr)))"
   ]
  },
  {
   "cell_type": "markdown",
   "metadata": {},
   "source": [
    "## This looks like the best result\n",
    "\n",
    "### The variables that give the best accuracy and greatest AUC are: volatile acidity, residual sugar, total sulfur dioxide, density, and sulphates. We can drop fixed acidity, free sulfur dioxide, citric acid, chlorides, alcohol, and pH.\n"
   ]
  },
  {
   "cell_type": "code",
   "execution_count": null,
   "metadata": {},
   "outputs": [],
   "source": []
  }
 ],
 "metadata": {
  "kernelspec": {
   "display_name": "Python 3",
   "language": "python",
   "name": "python3"
  },
  "language_info": {
   "codemirror_mode": {
    "name": "ipython",
    "version": 3
   },
   "file_extension": ".py",
   "mimetype": "text/x-python",
   "name": "python",
   "nbconvert_exporter": "python",
   "pygments_lexer": "ipython3",
   "version": "3.6.8"
  }
 },
 "nbformat": 4,
 "nbformat_minor": 2
}

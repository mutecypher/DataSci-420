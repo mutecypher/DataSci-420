{
 "cells": [
  {
   "cell_type": "markdown",
   "metadata": {},
   "source": [
    "<div id=\"reminder\" style=\"border-radius: 5px; background-color:#f5f5f5; padding: 15px 5px; \" >\n",
    "<p>Use this notebook to follow along with the lab tutorial.</p>\n",
    "</div>"
   ]
  },
  {
   "cell_type": "markdown",
   "metadata": {},
   "source": [
    "# <font color=\"blue\">Lesson 4 - Decision Trees</font>"
   ]
  },
  {
   "cell_type": "markdown",
   "metadata": {},
   "source": [
    "# Should We Play Tennis?"
   ]
  },
  {
   "cell_type": "code",
   "execution_count": 1,
   "metadata": {},
   "outputs": [],
   "source": [
    "import pandas as pd\n",
    "\n",
    "data_file = \"https://library.startlearninglabs.uw.edu/DATASCI420/Datasets/Tennis.csv\"\n",
    "data = pd.read_csv(data_file)\n",
    "(nrows, ncols) = data.shape"
   ]
  },
  {
   "cell_type": "code",
   "execution_count": 2,
   "metadata": {},
   "outputs": [
    {
     "name": "stdout",
     "output_type": "stream",
     "text": [
      "<class 'pandas.core.frame.DataFrame'>\n",
      "RangeIndex: 14 entries, 0 to 13\n",
      "Data columns (total 5 columns):\n",
      "outlook     14 non-null object\n",
      "temp        14 non-null object\n",
      "humidity    14 non-null object\n",
      "windy       14 non-null object\n",
      "play        14 non-null object\n",
      "dtypes: object(5)\n",
      "memory usage: 640.0+ bytes\n",
      "None\n",
      "    outlook  temp humidity   windy play\n",
      "0     sunny   hot     high  strong   no\n",
      "1     sunny   hot     high    weak   no\n",
      "2  overcast   hot     high    weak  yes\n",
      "3      rain  mild     high    weak  yes\n",
      "4      rain  cool   normal    weak  yes\n",
      "       outlook  temp humidity windy play\n",
      "count       14    14       14    14   14\n",
      "unique       3     3        2     2    2\n",
      "top      sunny  mild     high  weak  yes\n",
      "freq         5     6        7     8    9\n"
     ]
    }
   ],
   "source": [
    "# Tools for viewing the data\n",
    "print(data.info())          # gives the structure of the data (rows/cols)\n",
    "print(data.head())          # shows the top five data entries\n",
    "print(data.describe())      # gives the statistics on the data in the DF"
   ]
  },
  {
   "cell_type": "markdown",
   "metadata": {},
   "source": [
    "### Convert string features to integers"
   ]
  },
  {
   "cell_type": "code",
   "execution_count": 3,
   "metadata": {},
   "outputs": [
    {
     "name": "stdout",
     "output_type": "stream",
     "text": [
      "{'outlook': {'sunny': 0, 'overcast': 1, 'rain': 2}, 'temp': {'mild': 0, 'cool': 1, 'hot': 2}, 'humidity': {'normal': 0, 'high': 1}, 'windy': {'strong': 0, 'weak': 1}, 'play': {'no': 0, 'yes': 1}}\n",
      "   outlook  temp  humidity  windy  play\n",
      "0        0     2         1      0     0\n",
      "1        0     2         1      1     0\n",
      "2        1     2         1      1     1\n",
      "3        2     0         1      1     1\n",
      "4        2     1         0      1     1\n"
     ]
    }
   ],
   "source": [
    "colnames = list(data.columns.values)\n",
    "string_encoding = {}\n",
    "data_encoded = data.copy()\n",
    "for i in range(ncols):\n",
    "    levels = list(set(data.iloc[:, i]))\n",
    "    num_levels = len(levels)\n",
    "    string_encoding_i = dict(zip(levels, range(num_levels)))\n",
    "    string_encoding[colnames[i]] = string_encoding_i\n",
    "    for j in range(nrows):\n",
    "        data_encoded.iloc[j, i] = string_encoding_i[data.iloc[j, i]]\n",
    "\n",
    "print(string_encoding)\n",
    "print(data_encoded.head())"
   ]
  },
  {
   "cell_type": "markdown",
   "metadata": {},
   "source": [
    "### One Hot Encoding Categorial Variables"
   ]
  },
  {
   "cell_type": "code",
   "execution_count": 4,
   "metadata": {},
   "outputs": [
    {
     "name": "stderr",
     "output_type": "stream",
     "text": [
      "/Applications/anaconda3/lib/python3.6/site-packages/sklearn/preprocessing/_encoders.py:368: FutureWarning: The handling of integer data will change in version 0.22. Currently, the categories are determined based on the range [0, max(values)], while in the future they will be determined based on the unique values.\n",
      "If you want the future behaviour and silence this warning, you can specify \"categories='auto'\".\n",
      "In case you used a LabelEncoder before this OneHotEncoder to convert the categories to integers, then you can now use the OneHotEncoder directly.\n",
      "  warnings.warn(msg, FutureWarning)\n"
     ]
    }
   ],
   "source": [
    "from sklearn import preprocessing\n",
    "enc = preprocessing.OneHotEncoder()\n",
    "enc.fit(data_encoded.iloc[:,0:4])\n",
    "data_onehotencoded = enc.transform(data_encoded.iloc[:,0:4])\n",
    "feature_names = [\"outlook_rainy\", \"outlook_overcast\", \"outlook_sunny\", \\\n",
    "                 \"temp_mild\", \"temp_hot\", \"temp_cool\", \\\n",
    "                 \"humidity_normal\", \"humidity_high\", \\\n",
    "                 \"windy_false\", \"windy_true\"]"
   ]
  },
  {
   "cell_type": "code",
   "execution_count": 5,
   "metadata": {},
   "outputs": [],
   "source": [
    "print(data_onehotencoded.toarray())\n",
    "print(data_onehotencoded.shape)\n",
    "type(data_onehotencoded.shape)"
   ]
  },
  {
   "cell_type": "markdown",
   "metadata": {},
   "source": [
    "### Assign the X (feature) and Y (class) Arrays and Split into Train and Test Data"
   ]
  },
  {
   "cell_type": "code",
   "execution_count": 6,
   "metadata": {},
   "outputs": [
    {
     "name": "stdout",
     "output_type": "stream",
     "text": [
      "0     1\n",
      "12    0\n",
      "Name: play, dtype: int64\n"
     ]
    }
   ],
   "source": [
    "from sklearn import tree\n",
    "import numpy as np\n",
    "from sklearn.model_selection import train_test_split \n",
    "\n",
    "# Ensure the decision tree is deterministic\n",
    "np.random.seed(101)\n",
    "\n",
    "X = data_onehotencoded.toarray()\n",
    "Y = data_encoded.iloc[:,-1]\n",
    "X_train, X_test, y_train, y_test = train_test_split(X, Y, test_size = 0.1, random_state = 99)\n",
    "print(y_test)"
   ]
  },
  {
   "cell_type": "markdown",
   "metadata": {},
   "source": [
    "### Generate and Evaluate the Model"
   ]
  },
  {
   "cell_type": "code",
   "execution_count": null,
   "metadata": {},
   "outputs": [],
   "source": [
    "# Generate the Classification model\n",
    "from sklearn.tree import DecisionTreeClassifier\n",
    "dec_tree_ent = DecisionTreeClassifier(criterion='entropy', max_depth=3)\n",
    "model = dec_tree_ent.fit(X_train,y_train)\n",
    "\n",
    "# Validate the model\n",
    "y_predict_ent = model.predict(X_test)"
   ]
  },
  {
   "cell_type": "code",
   "execution_count": null,
   "metadata": {},
   "outputs": [],
   "source": [
    "# Generate the accuracy score\n",
    "from sklearn.metrics import accuracy_score\n",
    "\n",
    "#def measure_performance(X_train, y_train)\n",
    "acc_ent = accuracy_score(y_test, y_predict_ent) * 100\n",
    "print(\"Accuracy is : {}%\".format(acc_ent))"
   ]
  },
  {
   "cell_type": "markdown",
   "metadata": {},
   "source": [
    "### Create a Confusion Matrix"
   ]
  },
  {
   "cell_type": "code",
   "execution_count": null,
   "metadata": {},
   "outputs": [],
   "source": [
    "from sklearn.metrics import confusion_matrix\n",
    "\n",
    "pd.DataFrame(\n",
    "    confusion_matrix(y_test, y_predict_ent),\n",
    "    columns=['Predicted Don\\'t Play', 'Predicted Play'],\n",
    "    index=['True Don\\'t play', 'True Play']\n",
    ")"
   ]
  },
  {
   "cell_type": "markdown",
   "metadata": {},
   "source": [
    "### Test Other Split Criterion"
   ]
  },
  {
   "cell_type": "code",
   "execution_count": null,
   "metadata": {},
   "outputs": [],
   "source": [
    "# Use Gini impurity (default) instead of Information Gain (entropy)\n",
    "dec_tree_gini = DecisionTreeClassifier().fit(X_train,y_train)  \n",
    "# Validate the model\n",
    "y_predict_gini = dec_tree_gini.predict(X_test)\n",
    "\n",
    "# Generate the accuracy score\n",
    "acc_gini = accuracy_score(y_test, y_predict_gini) * 100\n",
    "print(\"Accuracy is : {}%\".format(acc_gini))"
   ]
  },
  {
   "cell_type": "markdown",
   "metadata": {},
   "source": [
    "### Visualize the Decision Tree"
   ]
  },
  {
   "cell_type": "code",
   "execution_count": null,
   "metadata": {},
   "outputs": [],
   "source": [
    "from sklearn import tree\n",
    "\n",
    "# NOTE: Must install the graphviz executables for this to work and possibly update your computer's PATH\n",
    "#       https://graphviz.gitlab.io/_pages/Download/Download_windows.html \n",
    "# When using Anaconda run this at the command prompt: 'conda install -c anaconda graphviz' \n",
    "\n",
    "#create a visualization of the tree -- must install graphviz and pydot2 packages for this to work\n",
    "dotfile1 = open(\"tennis_ent.dot\", 'w')\n",
    "tree.export_graphviz(dec_tree_ent, out_file = dotfile1, filled=True, rounded=True, feature_names = feature_names)\n",
    "dotfile1.close()\n",
    "\n",
    "dotfile2 = open(\"tennis_gini.dot\", 'w')\n",
    "tree.export_graphviz(dec_tree_gini, out_file = dotfile2, filled=True, rounded=True, feature_names = feature_names)\n",
    "dotfile2.close()\n",
    "\n",
    "# Convert the dot file to a png\n",
    "import os\n",
    "os.system(\"dot -Tpng tennis_ent.dot -o tennis_ent.png\")\n",
    "os.system(\"dot -Tpng tennis_gini.dot -o tennis_gini.png\")\n",
    "\n",
    "# Convert the dot file to a png\n",
    "#from subprocess import check_call\n",
    "#check_call(['dot','-Tpng','tennis_ent.dot','-o','tennis_ent.png'])\n",
    "#check_call(['dot','-Tpng','tennis_gini.dot','-o','tennis_gini.png'])"
   ]
  },
  {
   "cell_type": "code",
   "execution_count": null,
   "metadata": {},
   "outputs": [],
   "source": [
    "from IPython.display import Image\n",
    "Image(filename='tennis_ent.png', width=500, height=500)"
   ]
  },
  {
   "cell_type": "code",
   "execution_count": null,
   "metadata": {},
   "outputs": [],
   "source": [
    "from IPython.display import Image\n",
    "Image(filename='tennis_gini.png', width=500, height=500)"
   ]
  },
  {
   "cell_type": "markdown",
   "metadata": {},
   "source": [
    "## What if I didn't have a \"test set\"? \n",
    "What would the tree look like if rather than generating an accuracy score for evaluation purposes, I just let it build the tree and see what happens. \n",
    "\n",
    "What do you think might occur?\n",
    "\n",
    "In this case I'm just loading up the raw data, X and Y."
   ]
  },
  {
   "cell_type": "code",
   "execution_count": null,
   "metadata": {},
   "outputs": [],
   "source": [
    "dec_tree_ent_new = DecisionTreeClassifier(criterion='entropy').fit(X,Y)  \n",
    "dotfile_new = open(\"2tennis_ent_new.dot\", 'w')\n",
    "tree.export_graphviz(dec_tree_ent_new, out_file = dotfile_new, filled=True, rounded=True, feature_names = feature_names)\n",
    "dotfile_new.close()\n",
    "os.system(\"dot -Tpng 2tennis_ent_new.dot -o 2tennis_ent_new.png\")\n",
    "from IPython.display import Image\n",
    "Image(filename='2tennis_ent_new.png', width=750, height=750)"
   ]
  },
  {
   "cell_type": "markdown",
   "metadata": {
    "collapsed": true
   },
   "source": [
    "### Add a new 'noisy' row and test for overfitting\n",
    "\n",
    "Now I'm going to create a new row to testset without retraining the existing models to see how they do. "
   ]
  },
  {
   "cell_type": "code",
   "execution_count": null,
   "metadata": {},
   "outputs": [],
   "source": [
    "print(X_test)\n",
    "print(y_test)\n",
    "numY = len(y_test)\n",
    "print(numY)"
   ]
  },
  {
   "cell_type": "code",
   "execution_count": null,
   "metadata": {},
   "outputs": [],
   "source": [
    "# Add Outlook=Sunny, temp=Hot, humidity=Normal, Windy=Strong, Play=no\n",
    "new_X = np.array([1., 0., 0., 0., 0., 1., 1., 0., 0., 1.])\n",
    "new_y = 1\n",
    "\n",
    "X_test = np.vstack([X_test, new_X])\n",
    "y_test = np.hstack([y_test, new_y])"
   ]
  },
  {
   "cell_type": "code",
   "execution_count": null,
   "metadata": {},
   "outputs": [],
   "source": [
    "#print(X_test)\n",
    "#print(y_test)\n",
    "#numY = len(y_test)\n",
    "#print(numY)"
   ]
  },
  {
   "cell_type": "code",
   "execution_count": null,
   "metadata": {},
   "outputs": [],
   "source": [
    "## Put the noisy test through the two models\n",
    "y_predict_ent2 = dec_tree_ent.predict(X_test)\n",
    "y_predict_gini2 = dec_tree_gini.predict(X_test)\n",
    "\n",
    "# Generate the accuracy score\n",
    "acc_ent2 = accuracy_score(y_test, y_predict_ent2) * 100\n",
    "print(\"Accuracy is : {}%\".format(acc_ent2))\n",
    "\n",
    "# Generate the accuracy score\n",
    "acc_gini2 = accuracy_score(y_test, y_predict_gini2) * 100\n",
    "print(\"Accuracy is : {}%\".format(acc_gini2))"
   ]
  },
  {
   "cell_type": "code",
   "execution_count": null,
   "metadata": {},
   "outputs": [],
   "source": [
    "pd.DataFrame(\n",
    "    confusion_matrix(y_test, y_predict_ent2),\n",
    "    columns=['Predicted Don\\'t Play', 'Predicted Play'],\n",
    "    index=['True Don\\'t play', 'True Play']\n",
    ")"
   ]
  },
  {
   "cell_type": "code",
   "execution_count": null,
   "metadata": {},
   "outputs": [],
   "source": [
    "pd.DataFrame(\n",
    "    confusion_matrix(y_test, y_predict_gini2),\n",
    "    columns=['Predicted Don\\'t Play', 'Predicted Play'],\n",
    "    index=['True Don\\'t play', 'True Play']\n",
    ")"
   ]
  },
  {
   "cell_type": "markdown",
   "metadata": {},
   "source": [
    "<div id=\"reminder\" style=\"border-radius: 5px; background-color:#f5f5f5; padding: 15px 5px; \" >\n",
    "<p>Please see the Titanic Decision Tree notebook for continued instruction.</p>\n",
    "</div>"
   ]
  }
 ],
 "metadata": {
  "kernelspec": {
   "display_name": "Python 3",
   "language": "python",
   "name": "python3"
  },
  "language_info": {
   "codemirror_mode": {
    "name": "ipython",
    "version": 3
   },
   "file_extension": ".py",
   "mimetype": "text/x-python",
   "name": "python",
   "nbconvert_exporter": "python",
   "pygments_lexer": "ipython3",
   "version": "3.6.6"
  }
 },
 "nbformat": 4,
 "nbformat_minor": 2
}

{
 "cells": [
  {
   "cell_type": "markdown",
   "metadata": {},
   "source": [
    "# Lesson 4 Assignment - Autodetection of Breast Cancer\n",
    "\n",
    "## Author - Studentname"
   ]
  },
  {
   "cell_type": "markdown",
   "metadata": {},
   "source": [
    "### Background\n",
    "The <a href=\"https://archive.ics.uci.edu/ml/datasets/Breast+Cancer+Wisconsin+(Diagnostic)\">Breast Cancer Wisconsin (Diagnostic) Data set</a> contains donated data.\n",
    "These data were obtained from the University of Wisconsin Hospitals, Madison. Donors:\n",
    "1. Dr. William H. Wolberg, General Surgery Dept.\n",
    "2. W. Nick Street, Computer Sciences Dept.\n",
    "3. Olvi L. Mangasarian, Computer Sciences Dept.\n",
    "\n",
    "They contain the simplified and normalized attributes used to detect breast cancer. Your task is to build\n",
    "a decision tree classifier that would be able to detect, based on the attributes below, whether a tumor is\n",
    "benign or malignant.\n",
    "\n",
    "Attributes:\n",
    "1. Sample code number: id number\n",
    "2. Clump Thickness: 1 - 10\n",
    "3. Uniformity of Cell Size: 1 - 10\n",
    "4. Uniformity of Cell Shape: 1 - 10\n",
    "5. Marginal Adhesion: 1 - 10\n",
    "6. Single Epithelial Cell Size: 1 - 10\n",
    "7. Bare Nuclei: 1 - 10\n",
    "8. Bland Chromatin: 1 - 10\n",
    "9. Normal Nucleoli: 1 - 10\n",
    "10. Mitosis\n",
    "11. Class (4 for malignant, 2 for benign)\n",
    "\n",
    "\n"
   ]
  },
  {
   "cell_type": "markdown",
   "metadata": {},
   "source": [
    "## Tasks\n",
    "Using the provided WI_Breast_Cancer.csv file, build an experiment using a decision tree.\n",
    "\n",
    "Answer the following questions:\n",
    "1. Test both entropy and the gini coefficient. Which performs better and why?\n",
    "2. What are the best hyperparameter settings for both?\n",
    "3. Visualize both models and see which feature is selected for each criterion. Are they same for\n",
    "both? Why or why not?\n",
    "4. Determine the AUC for the best model you can achieve. What are the precision and recal values\n",
    "and which might be the one you want to maximize?\n",
    "5. What are the implications of using this type of machine learning algorithm for breast cancer\n",
    "analysis?\n"
   ]
  },
  {
   "cell_type": "code",
   "execution_count": 32,
   "metadata": {},
   "outputs": [],
   "source": [
    "URL = \"https://library.startlearninglabs.uw.edu/DATASCI420/Datasets/WI_Breast_Cancer.csv\"\n",
    "colnames = ['Sample_code' , 'Class', 'Clump_thick', 'Uni_cell_sz', 'Uni_cell_shp', 'Marg_adhes', \n",
    "             'Single_cell_sz', 'Bare_Nucl', 'Bland_Chr', 'Norm_Nucl', 'Mitosis']"
   ]
  },
  {
   "cell_type": "code",
   "execution_count": 33,
   "metadata": {},
   "outputs": [
    {
     "name": "stdout",
     "output_type": "stream",
     "text": [
      "  Sample_code Class  Clump_thick  Uni_cell_sz  Uni_cell_shp  Marg_adhes  \\\n",
      "0     1000025     2          5.0          1.0           1.0         1.0   \n",
      "1     1002945     2          5.0          4.0           4.0         5.0   \n",
      "2     1015425     2          3.0          1.0           1.0         1.0   \n",
      "3     1016277     2          6.0          8.0           8.0         1.0   \n",
      "4     1017023     2          4.0          1.0           1.0         3.0   \n",
      "\n",
      "   Single_cell_sz  Bare_Nucl  Bland_Chr  Norm_Nucl Mitosis  \n",
      "0             2.0        1.0        3.0        1.0       1  \n",
      "1             7.0       10.0        3.0        2.0       1  \n",
      "2             2.0        2.0        3.0        1.0       1  \n",
      "3             3.0        4.0        3.0        7.0       1  \n",
      "4             2.0        1.0        3.0        1.0       1  \n",
      "<class 'pandas.core.frame.DataFrame'>\n",
      "RangeIndex: 709 entries, 0 to 708\n",
      "Data columns (total 11 columns):\n",
      "Sample_code       709 non-null object\n",
      "Class             702 non-null object\n",
      "Clump_thick       702 non-null float64\n",
      "Uni_cell_sz       701 non-null float64\n",
      "Uni_cell_shp      701 non-null float64\n",
      "Marg_adhes        701 non-null float64\n",
      "Single_cell_sz    701 non-null float64\n",
      "Bare_Nucl         701 non-null float64\n",
      "Bland_Chr         701 non-null float64\n",
      "Norm_Nucl         701 non-null float64\n",
      "Mitosis           701 non-null object\n",
      "dtypes: float64(8), object(3)\n",
      "memory usage: 61.0+ KB\n",
      "None\n",
      "       Clump_thick  Uni_cell_sz  Uni_cell_shp  Marg_adhes  Single_cell_sz  \\\n",
      "count   702.000000   701.000000     701.00000  701.000000      701.000000   \n",
      "mean      7.263533     3.154066       3.21826    2.813124        3.226819   \n",
      "std      75.031332     3.069053       2.97456    2.858201        2.220340   \n",
      "min       1.000000     1.000000       1.00000    1.000000        1.000000   \n",
      "25%       2.000000     1.000000       1.00000    1.000000        2.000000   \n",
      "50%       4.000000     1.000000       1.00000    1.000000        2.000000   \n",
      "75%       6.000000     5.000000       5.00000    4.000000        4.000000   \n",
      "max    1991.000000    10.000000      10.00000   10.000000       10.000000   \n",
      "\n",
      "        Bare_Nucl   Bland_Chr   Norm_Nucl  \n",
      "count  701.000000  701.000000  701.000000  \n",
      "mean     3.456491    3.447932    2.877318  \n",
      "std      3.637881    2.447550    3.061150  \n",
      "min      0.000000    1.000000    1.000000  \n",
      "25%      1.000000    2.000000    1.000000  \n",
      "50%      1.000000    3.000000    1.000000  \n",
      "75%      5.000000    5.000000    4.000000  \n",
      "max     10.000000   10.000000   10.000000  \n"
     ]
    }
   ],
   "source": [
    "# Import libraries\n",
    "import pandas as pd \n",
    "cancer_data = pd.read_csv(URL, names = colnames, header = None)\n",
    "print(cancer_data.head())\n",
    "print(cancer_data.info())\n",
    "print(cancer_data.describe())"
   ]
  },
  {
   "cell_type": "markdown",
   "metadata": {},
   "source": [
    "## Drop sample code\n",
    "### Drop NA\n",
    "### Convert Mitosis to integer"
   ]
  },
  {
   "cell_type": "code",
   "execution_count": 34,
   "metadata": {},
   "outputs": [
    {
     "name": "stdout",
     "output_type": "stream",
     "text": [
      "       Clump_thick  Uni_cell_sz  Uni_cell_shp  Marg_adhes  Single_cell_sz  \\\n",
      "count   701.000000   701.000000     701.00000  701.000000      701.000000   \n",
      "mean      4.433666     3.154066       3.21826    2.813124        3.226819   \n",
      "std       2.827459     3.069053       2.97456    2.858201        2.220340   \n",
      "min       1.000000     1.000000       1.00000    1.000000        1.000000   \n",
      "25%       2.000000     1.000000       1.00000    1.000000        2.000000   \n",
      "50%       4.000000     1.000000       1.00000    1.000000        2.000000   \n",
      "75%       6.000000     5.000000       5.00000    4.000000        4.000000   \n",
      "max      10.000000    10.000000      10.00000   10.000000       10.000000   \n",
      "\n",
      "        Bare_Nucl   Bland_Chr   Norm_Nucl  \n",
      "count  701.000000  701.000000  701.000000  \n",
      "mean     3.456491    3.447932    2.877318  \n",
      "std      3.637881    2.447550    3.061150  \n",
      "min      0.000000    1.000000    1.000000  \n",
      "25%      1.000000    2.000000    1.000000  \n",
      "50%      1.000000    3.000000    1.000000  \n",
      "75%      5.000000    5.000000    4.000000  \n",
      "max     10.000000   10.000000   10.000000  \n",
      "1                                    579\n",
      "2                                     35\n",
      "3                                     33\n",
      "10                                    14\n",
      "4                                     12\n",
      "7                                      9\n",
      "8                                      8\n",
      "5                                      6\n",
      "6                                      3\n",
      "3) <-----Reappears in Group 8 as:      1\n",
      "3                                      1\n",
      "Name: Mitosis, dtype: int64\n"
     ]
    }
   ],
   "source": [
    "cancer_data = cancer_data.dropna() \n",
    "results = cancer_data['Class'].astype(str).astype(int)\n",
    "cancer_data = cancer_data.drop(['Class','Sample_code'], axis = 1)\n",
    "print(cancer_data.describe())\n",
    "print(cancer_data['Mitosis'].value_counts())"
   ]
  },
  {
   "cell_type": "markdown",
   "metadata": {},
   "source": [
    "## Change weird Mitosis input to a 3\n",
    "Seems the most reasonable thing to do"
   ]
  },
  {
   "cell_type": "code",
   "execution_count": 49,
   "metadata": {},
   "outputs": [
    {
     "name": "stdout",
     "output_type": "stream",
     "text": [
      "1     579\n",
      "2      35\n",
      "3      33\n",
      "10     14\n",
      "4      12\n",
      "7       9\n",
      "8       8\n",
      "5       6\n",
      "6       3\n",
      "3       1\n",
      "3       1\n",
      "Name: Mitosis, dtype: int64\n",
      "0    458\n",
      "1    243\n",
      "Name: Class, dtype: int64\n"
     ]
    }
   ],
   "source": [
    "\n",
    "##s = cancer_data.loc[(cancer_data['Mitosis'] == \"3) <-----Reappears in Group 8 as:\")]\n",
    "##print(s.value_counts())\n",
    "cancer_data['Mitosis'] = cancer_data['Mitosis'].replace( to_replace= ['r'], value = 3, regex=True)\n",
    "##cancer_data = cancer_data['Mitosis'].astype(str).astype(int)\n",
    "print(cancer_data['Mitosis'].value_counts()) \n",
    "results = results.map({2 : 0, 4 : 1})\n",
    "print(results.value_counts())"
   ]
  },
  {
   "cell_type": "markdown",
   "metadata": {},
   "source": [
    "## Now run both types of decision trees"
   ]
  },
  {
   "cell_type": "code",
   "execution_count": 71,
   "metadata": {},
   "outputs": [],
   "source": [
    "from sklearn.model_selection import train_test_split\n",
    "# Ensure the decision tree is deterministic\n",
    "import numpy as np\n",
    "np.random.seed(101)\n",
    "\n",
    "## split into test and training sets\n",
    "\n",
    "X_train, X_test, y_train, y_test = train_test_split(cancer_data, results, test_size = 0.25, random_state=1)\n",
    "\n",
    "\n",
    "from sklearn.tree import DecisionTreeClassifier \n",
    "\n",
    "# Use entropy = no limit on samples for split\n",
    "model_ent = DecisionTreeClassifier(criterion='entropy').fit(X_train, y_train) \n",
    "y_ent_pred = model_ent.predict(X_test)\n",
    "\n",
    "# Use information gain (default) limit min_samples to 2\n",
    "model_gini = DecisionTreeClassifier(min_samples_leaf=2).fit(X_train, y_train)\n",
    "y_gini_pred = model_gini.predict(X_test)\n",
    "\n",
    "# NOTE: You should, when testing models, only vary 1 thing at a time. "
   ]
  },
  {
   "cell_type": "markdown",
   "metadata": {},
   "source": [
    "## generate the accuracy scores"
   ]
  },
  {
   "cell_type": "code",
   "execution_count": 72,
   "metadata": {},
   "outputs": [
    {
     "name": "stdout",
     "output_type": "stream",
     "text": [
      "Entropy accuracy is : 96.02272727272727%\n",
      "Gini accuracy is : 93.18181818181817%\n",
      "Variables are\n",
      " ['Clump_thick', 'Uni_cell_sz', 'Uni_cell_shp', 'Marg_adhes', 'Single_cell_sz', 'Bare_Nucl', 'Bland_Chr', 'Norm_Nucl', 'Mitosis']\n",
      "Number of mislabeled Entropy points out of a total 176 points : 7\n",
      "Entropy Accuracy = 96.02\n",
      "entropy false positive rate: [0.         0.02542373 1.        ]\n",
      "entropy true positive rate: [0.         0.93103448 1.        ]\n",
      "Entropy AUC = 0.953\n",
      "Number of mislabeled Entropy points out of a total 176 points : 7\n",
      "Gini Accuracy = 93.18\n",
      "Gini false positive rate [0.         0.03389831 1.        ]\n",
      "Gini true positive rate: [0.         0.86206897 1.        ]\n",
      "Gini AUC = 0.914\n"
     ]
    }
   ],
   "source": [
    "# Generate an accuracy Score\n",
    "from sklearn.metrics import accuracy_score\n",
    "from sklearn.metrics import roc_curve, auc\n",
    "misclassified_ent_points = (y_test != y_ent_pred).sum()\n",
    "misclassified_gini_points = (y_test != y_gini_pred).sum()\n",
    "print(\"Entropy accuracy is : {}%\".format(accuracy_score(y_test, y_ent_pred)*100))\n",
    "print(\"Gini accuracy is : {}%\".format(accuracy_score(y_test, y_gini_pred)*100))\n",
    "print(\"Variables are\\n\", list(X_train))\n",
    "print(\"Number of mislabeled Entropy points out of a total %d points : %d\"\\\n",
    "      % (X_test.shape[0], misclassified_ent_points))\n",
    "print(\"Entropy Accuracy = %.2f\"%(round((y_test.shape[0] - float(misclassified_ent_points))/y_test.shape[0]*100,2)))\n",
    "fpr, tpr, threshold = roc_curve(y_test, y_ent_pred)\n",
    "print(\"entropy false positive rate:\", fpr)\n",
    "print(\"entropy true positive rate:\", tpr)\n",
    "print(\"Entropy AUC = %.3f\"%(auc(fpr, tpr)))\n",
    "print(\"Number of mislabeled Entropy points out of a total %d points : %d\"\\\n",
    "      % (X_test.shape[0], misclassified_ent_points))\n",
    "print(\"Gini Accuracy = %.2f\"%(round((y_test.shape[0] - float(misclassified_gini_points))/y_test.shape[0]*100,2)))\n",
    "fpr, tpr, threshold = roc_curve(y_test, y_gini_pred)\n",
    "print(\"Gini false positive rate\", fpr)\n",
    "print(\"Gini true positive rate:\", tpr)\n",
    "print(\"Gini AUC = %.3f\"%(auc(fpr, tpr)))"
   ]
  },
  {
   "cell_type": "markdown",
   "metadata": {},
   "source": [
    "## Let's look at the confusion matrix"
   ]
  },
  {
   "cell_type": "code",
   "execution_count": 73,
   "metadata": {},
   "outputs": [
    {
     "name": "stdout",
     "output_type": "stream",
     "text": [
      "gini confusion matrix\n",
      "\n"
     ]
    },
    {
     "data": {
      "text/html": [
       "<div>\n",
       "<style scoped>\n",
       "    .dataframe tbody tr th:only-of-type {\n",
       "        vertical-align: middle;\n",
       "    }\n",
       "\n",
       "    .dataframe tbody tr th {\n",
       "        vertical-align: top;\n",
       "    }\n",
       "\n",
       "    .dataframe thead th {\n",
       "        text-align: right;\n",
       "    }\n",
       "</style>\n",
       "<table border=\"1\" class=\"dataframe\">\n",
       "  <thead>\n",
       "    <tr style=\"text-align: right;\">\n",
       "      <th></th>\n",
       "      <th>Predicted benign</th>\n",
       "      <th>Predicted malignant</th>\n",
       "    </tr>\n",
       "  </thead>\n",
       "  <tbody>\n",
       "    <tr>\n",
       "      <th>True benign</th>\n",
       "      <td>114</td>\n",
       "      <td>4</td>\n",
       "    </tr>\n",
       "    <tr>\n",
       "      <th>True malignant</th>\n",
       "      <td>8</td>\n",
       "      <td>50</td>\n",
       "    </tr>\n",
       "  </tbody>\n",
       "</table>\n",
       "</div>"
      ],
      "text/plain": [
       "                Predicted benign  Predicted malignant\n",
       "True benign                  114                    4\n",
       "True malignant                 8                   50"
      ]
     },
     "execution_count": 73,
     "metadata": {},
     "output_type": "execute_result"
    }
   ],
   "source": [
    "from sklearn.metrics import confusion_matrix\n",
    "print(\"gini confusion matrix\\n\")\n",
    "pd.DataFrame(\n",
    "    confusion_matrix(y_test, y_gini_pred),\n",
    "    columns=['Predicted benign', 'Predicted malignant'],\n",
    "    index=['True benign', 'True malignant']\n",
    ")"
   ]
  },
  {
   "cell_type": "code",
   "execution_count": 74,
   "metadata": {},
   "outputs": [
    {
     "name": "stdout",
     "output_type": "stream",
     "text": [
      "entropy confusion matrix\n",
      "\n"
     ]
    },
    {
     "data": {
      "text/html": [
       "<div>\n",
       "<style scoped>\n",
       "    .dataframe tbody tr th:only-of-type {\n",
       "        vertical-align: middle;\n",
       "    }\n",
       "\n",
       "    .dataframe tbody tr th {\n",
       "        vertical-align: top;\n",
       "    }\n",
       "\n",
       "    .dataframe thead th {\n",
       "        text-align: right;\n",
       "    }\n",
       "</style>\n",
       "<table border=\"1\" class=\"dataframe\">\n",
       "  <thead>\n",
       "    <tr style=\"text-align: right;\">\n",
       "      <th></th>\n",
       "      <th>Predicted benign</th>\n",
       "      <th>Predicted malignant</th>\n",
       "    </tr>\n",
       "  </thead>\n",
       "  <tbody>\n",
       "    <tr>\n",
       "      <th>True benign</th>\n",
       "      <td>115</td>\n",
       "      <td>3</td>\n",
       "    </tr>\n",
       "    <tr>\n",
       "      <th>True malignant</th>\n",
       "      <td>4</td>\n",
       "      <td>54</td>\n",
       "    </tr>\n",
       "  </tbody>\n",
       "</table>\n",
       "</div>"
      ],
      "text/plain": [
       "                Predicted benign  Predicted malignant\n",
       "True benign                  115                    3\n",
       "True malignant                 4                   54"
      ]
     },
     "execution_count": 74,
     "metadata": {},
     "output_type": "execute_result"
    }
   ],
   "source": [
    "print(\"entropy confusion matrix\\n\")\n",
    "pd.DataFrame(\n",
    "    confusion_matrix(y_test, y_ent_pred),\n",
    "    columns=['Predicted benign', 'Predicted malignant'],\n",
    "    index=['True benign', 'True malignant']\n",
    ")"
   ]
  },
  {
   "cell_type": "code",
   "execution_count": 75,
   "metadata": {},
   "outputs": [],
   "source": [
    "# Ensure the decision tree is deterministic\n",
    "import numpy as np\n",
    "np.random.seed(101)"
   ]
  },
  {
   "cell_type": "markdown",
   "metadata": {},
   "source": []
  },
  {
   "cell_type": "code",
   "execution_count": 76,
   "metadata": {},
   "outputs": [
    {
     "ename": "NameError",
     "evalue": "name 'columns' is not defined",
     "output_type": "error",
     "traceback": [
      "\u001b[0;31m---------------------------------------------------------------------------\u001b[0m",
      "\u001b[0;31mNameError\u001b[0m                                 Traceback (most recent call last)",
      "\u001b[0;32m<ipython-input-76-03cdc14e0a89>\u001b[0m in \u001b[0;36m<module>\u001b[0;34m\u001b[0m\n\u001b[1;32m      2\u001b[0m \u001b[0;32mfrom\u001b[0m \u001b[0msklearn\u001b[0m \u001b[0;32mimport\u001b[0m \u001b[0mtree\u001b[0m\u001b[0;34m\u001b[0m\u001b[0;34m\u001b[0m\u001b[0m\n\u001b[1;32m      3\u001b[0m \u001b[0mdotfile\u001b[0m \u001b[0;34m=\u001b[0m \u001b[0mopen\u001b[0m\u001b[0;34m(\u001b[0m\u001b[0;34m\"dtree.dot\"\u001b[0m\u001b[0;34m,\u001b[0m \u001b[0;34m'w'\u001b[0m\u001b[0;34m)\u001b[0m\u001b[0;34m\u001b[0m\u001b[0;34m\u001b[0m\u001b[0m\n\u001b[0;32m----> 4\u001b[0;31m \u001b[0mtree\u001b[0m\u001b[0;34m.\u001b[0m\u001b[0mexport_graphviz\u001b[0m\u001b[0;34m(\u001b[0m\u001b[0mmodel_gini\u001b[0m\u001b[0;34m,\u001b[0m \u001b[0mout_file\u001b[0m \u001b[0;34m=\u001b[0m \u001b[0mdotfile\u001b[0m\u001b[0;34m,\u001b[0m \u001b[0mfeature_names\u001b[0m \u001b[0;34m=\u001b[0m \u001b[0mcolumns\u001b[0m\u001b[0;34m[\u001b[0m\u001b[0;36m0\u001b[0m\u001b[0;34m:\u001b[0m\u001b[0;36m6\u001b[0m\u001b[0;34m]\u001b[0m\u001b[0;34m)\u001b[0m\u001b[0;34m\u001b[0m\u001b[0;34m\u001b[0m\u001b[0m\n\u001b[0m\u001b[1;32m      5\u001b[0m \u001b[0mdotfile\u001b[0m\u001b[0;34m.\u001b[0m\u001b[0mclose\u001b[0m\u001b[0;34m(\u001b[0m\u001b[0;34m)\u001b[0m\u001b[0;34m\u001b[0m\u001b[0;34m\u001b[0m\u001b[0m\n\u001b[1;32m      6\u001b[0m \u001b[0;34m\u001b[0m\u001b[0m\n",
      "\u001b[0;31mNameError\u001b[0m: name 'columns' is not defined"
     ]
    }
   ],
   "source": [
    "#create a visualization of the tree -- must install graphviz and pydot2 packages for this to work\n",
    "from sklearn import tree\n",
    "dotfile = open(\"dtree.dot\", 'w')\n",
    "tree.export_graphviz(model_gini, out_file = dotfile, feature_names = columns[0:6])\n",
    "dotfile.close()\n",
    "\n",
    "# Convert the dot file to a png\n",
    "import os\n",
    "os.system(\"dot -Tpng dtree.dot -o dtree.png\")\n",
    "\n",
    "# Convert the dot file to a png\n",
    "#from subprocess import check_call\n",
    "#check_call(['dot','-Tpng','dtree.dot','-o','dtree.png'])"
   ]
  },
  {
   "cell_type": "code",
   "execution_count": null,
   "metadata": {},
   "outputs": [],
   "source": []
  }
 ],
 "metadata": {
  "kernelspec": {
   "display_name": "Python 3",
   "language": "python",
   "name": "python3"
  },
  "language_info": {
   "codemirror_mode": {
    "name": "ipython",
    "version": 3
   },
   "file_extension": ".py",
   "mimetype": "text/x-python",
   "name": "python",
   "nbconvert_exporter": "python",
   "pygments_lexer": "ipython3",
   "version": "3.6.7"
  }
 },
 "nbformat": 4,
 "nbformat_minor": 2
}

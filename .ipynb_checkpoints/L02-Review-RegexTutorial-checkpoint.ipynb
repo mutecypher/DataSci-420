{
 "cells": [
  {
   "cell_type": "markdown",
   "metadata": {},
   "source": [
    "# Regular Expressions\n",
    "\n",
    "## Data Science: Machine Learning Techniques\n",
    "\n",
    "We start by importing the regular expression package, 're'."
   ]
  },
  {
   "cell_type": "code",
   "execution_count": 1,
   "metadata": {
    "collapsed": true
   },
   "outputs": [],
   "source": [
    "import re"
   ]
  },
  {
   "cell_type": "code",
   "execution_count": 15,
   "metadata": {},
   "outputs": [],
   "source": [
    "string_ex_list = ['i like beer', \"i don't like bears\", 'double match beerbeer', 'not a match', 'be']\n",
    "# Note the second phrase usage of double and single parentheses!\n",
    "pattern = r'be'"
   ]
  },
  {
   "cell_type": "code",
   "execution_count": 13,
   "metadata": {},
   "outputs": [
    {
     "name": "stdout",
     "output_type": "stream",
     "text": [
      "[None, None, None, None, <_sre.SRE_Match object; span=(0, 2), match='be'>]\n",
      "['be']\n"
     ]
    }
   ],
   "source": [
    "match_result = [re.match(pattern, x) for x in string_ex_list]\n",
    "\n",
    "print(match_result)\n",
    "\n",
    "print([x.group(0) for x in match_result if x])"
   ]
  },
  {
   "cell_type": "markdown",
   "metadata": {},
   "source": [
    "Notice how we didn't match 'bear' or 'beer' at all.  This is because the re.match() function only matches at the start of the string!\n",
    "\n",
    "To search all strings, use re.search():"
   ]
  },
  {
   "cell_type": "code",
   "execution_count": 19,
   "metadata": {},
   "outputs": [
    {
     "name": "stdout",
     "output_type": "stream",
     "text": [
      "[<_sre.SRE_Match object; span=(7, 9), match='be'>, <_sre.SRE_Match object; span=(13, 15), match='be'>, <_sre.SRE_Match object; span=(13, 15), match='be'>, None, <_sre.SRE_Match object; span=(0, 2), match='be'>]\n",
      "['be', 'be', 'be', 'be']\n"
     ]
    }
   ],
   "source": [
    "all_result = [re.search(pattern, x) for x in string_ex_list]\n",
    "\n",
    "print(all_result)\n",
    "\n",
    "print([x.group() for x in all_result if x])"
   ]
  },
  {
   "cell_type": "markdown",
   "metadata": {},
   "source": [
    "But this only is matching the first result!! (See third result)\n",
    "\n",
    "To search all strings for all matches, use re.findall():"
   ]
  },
  {
   "cell_type": "code",
   "execution_count": 21,
   "metadata": {},
   "outputs": [
    {
     "name": "stdout",
     "output_type": "stream",
     "text": [
      "[['be'], ['be'], ['be', 'be'], [], ['be']]\n"
     ]
    },
    {
     "ename": "AttributeError",
     "evalue": "'list' object has no attribute 'group'",
     "output_type": "error",
     "traceback": [
      "\u001b[1;31m---------------------------------------------------------------------------\u001b[0m",
      "\u001b[1;31mAttributeError\u001b[0m                            Traceback (most recent call last)",
      "\u001b[1;32m<ipython-input-21-5a74af062496>\u001b[0m in \u001b[0;36m<module>\u001b[1;34m()\u001b[0m\n\u001b[0;32m      5\u001b[0m \u001b[1;33m\u001b[0m\u001b[0m\n\u001b[0;32m      6\u001b[0m \u001b[1;31m# This will fail.  Already have the strings.\u001b[0m\u001b[1;33m\u001b[0m\u001b[1;33m\u001b[0m\u001b[0m\n\u001b[1;32m----> 7\u001b[1;33m \u001b[0mprint\u001b[0m\u001b[1;33m(\u001b[0m\u001b[1;33m[\u001b[0m\u001b[0mx\u001b[0m\u001b[1;33m.\u001b[0m\u001b[0mgroup\u001b[0m\u001b[1;33m(\u001b[0m\u001b[1;33m)\u001b[0m \u001b[1;32mfor\u001b[0m \u001b[0mx\u001b[0m \u001b[1;32min\u001b[0m \u001b[0mall_result2\u001b[0m \u001b[1;32mif\u001b[0m \u001b[0mx\u001b[0m\u001b[1;33m]\u001b[0m\u001b[1;33m)\u001b[0m\u001b[1;33m\u001b[0m\u001b[0m\n\u001b[0m",
      "\u001b[1;32m<ipython-input-21-5a74af062496>\u001b[0m in \u001b[0;36m<listcomp>\u001b[1;34m(.0)\u001b[0m\n\u001b[0;32m      5\u001b[0m \u001b[1;33m\u001b[0m\u001b[0m\n\u001b[0;32m      6\u001b[0m \u001b[1;31m# This will fail.  Already have the strings.\u001b[0m\u001b[1;33m\u001b[0m\u001b[1;33m\u001b[0m\u001b[0m\n\u001b[1;32m----> 7\u001b[1;33m \u001b[0mprint\u001b[0m\u001b[1;33m(\u001b[0m\u001b[1;33m[\u001b[0m\u001b[0mx\u001b[0m\u001b[1;33m.\u001b[0m\u001b[0mgroup\u001b[0m\u001b[1;33m(\u001b[0m\u001b[1;33m)\u001b[0m \u001b[1;32mfor\u001b[0m \u001b[0mx\u001b[0m \u001b[1;32min\u001b[0m \u001b[0mall_result2\u001b[0m \u001b[1;32mif\u001b[0m \u001b[0mx\u001b[0m\u001b[1;33m]\u001b[0m\u001b[1;33m)\u001b[0m\u001b[1;33m\u001b[0m\u001b[0m\n\u001b[0m",
      "\u001b[1;31mAttributeError\u001b[0m: 'list' object has no attribute 'group'"
     ]
    }
   ],
   "source": [
    "all_result2 = [re.findall(pattern, x) for x in string_ex_list]\n",
    "\n",
    "# This will return all the strings!\n",
    "print(all_result2)\n",
    "\n",
    "# This will fail.  Already have the strings.\n",
    "print([x.group() for x in all_result2 if x])"
   ]
  },
  {
   "cell_type": "markdown",
   "metadata": {},
   "source": [
    "What if we want ALL the indices?  use re.finditer():"
   ]
  },
  {
   "cell_type": "code",
   "execution_count": 43,
   "metadata": {},
   "outputs": [
    {
     "name": "stdout",
     "output_type": "stream",
     "text": [
      "Iterable Match Objects:\n",
      "[<callable_iterator object at 0x7fe1b49115f8>, <callable_iterator object at 0x7fe1b49115c0>, <callable_iterator object at 0x7fe1b4911a58>, <callable_iterator object at 0x7fe1b4911e80>, <callable_iterator object at 0x7fe1b49117f0>]\n",
      "\n",
      "All iterated match objects:\n",
      "[[<_sre.SRE_Match object; span=(7, 9), match='be'>], [<_sre.SRE_Match object; span=(13, 15), match='be'>], [<_sre.SRE_Match object; span=(13, 15), match='be'>, <_sre.SRE_Match object; span=(17, 19), match='be'>], [], [<_sre.SRE_Match object; span=(0, 2), match='be'>]]\n",
      "\n",
      "Here are all the strings:\n",
      "[[], [], [], [], []]\n",
      "\n",
      "Here are the start and stop indices:\n",
      "[[], [], [], [], []]\n"
     ]
    }
   ],
   "source": [
    "all_result3 = [re.finditer(pattern, x) for x in string_ex_list]\n",
    "\n",
    "# Iterable Match objects:\n",
    "print('Iterable Match Objects:')\n",
    "print(all_result3)\n",
    "\n",
    "# Iterate through match objects:\n",
    "print('\\nAll iterated match objects:')\n",
    "print([[x for x in match_iterable] for match_iterable in all_result3])\n",
    "\n",
    "# This will return all the strings!\n",
    "print('\\nHere are all the strings:')\n",
    "print([[x.group() for x in string_matches if x] for string_matches in all_result3])\n",
    "\n",
    "# Return indices\n",
    "print('\\nHere are the start and stop indices:')\n",
    "print([[x.span(0) for x in string_matches] for string_matches in all_result3])\n",
    "\n",
    "# WHAT WENT WRONG???"
   ]
  },
  {
   "cell_type": "markdown",
   "metadata": {},
   "source": [
    "The last two are all empty lists!!!  WHY???\n",
    "\n",
    "It is because of how python handles 'iterators'!!!  Once an iterator is done 'iterating', then there is nothing left to show.\n",
    "\n",
    "So we should save it!"
   ]
  },
  {
   "cell_type": "code",
   "execution_count": 45,
   "metadata": {},
   "outputs": [
    {
     "name": "stdout",
     "output_type": "stream",
     "text": [
      "Iterable Match Objects:\n",
      "[<callable_iterator object at 0x7fe1b4911358>, <callable_iterator object at 0x7fe1b49115f8>, <callable_iterator object at 0x7fe1b4911278>, <callable_iterator object at 0x7fe1b4911438>, <callable_iterator object at 0x7fe1b4911a58>]\n",
      "\n",
      "All iterated match objects:\n",
      "[[<_sre.SRE_Match object; span=(7, 9), match='be'>], [<_sre.SRE_Match object; span=(13, 15), match='be'>], [<_sre.SRE_Match object; span=(13, 15), match='be'>, <_sre.SRE_Match object; span=(17, 19), match='be'>], [], [<_sre.SRE_Match object; span=(0, 2), match='be'>]]\n",
      "\n",
      "Here are all the strings:\n",
      "[['be'], ['be'], ['be', 'be'], [], ['be']]\n",
      "\n",
      "Here are the start and stop indices:\n",
      "[[(7, 9)], [(13, 15)], [(13, 15), (17, 19)], [], [(0, 2)]]\n"
     ]
    }
   ],
   "source": [
    "all_result3 = [re.finditer(pattern, x) for x in string_ex_list]\n",
    "\n",
    "# Iterable Match objects:\n",
    "print('Iterable Match Objects:')\n",
    "print(all_result3)\n",
    "\n",
    "# Iterate through match objects:\n",
    "print('\\nAll iterated match objects:')\n",
    "match_object_list = [[x for x in match_iterable] for match_iterable in all_result3]\n",
    "print([[x for x in match_object] for match_object in match_object_list])\n",
    "\n",
    "# This will return all the strings!\n",
    "print('\\nHere are all the strings:')\n",
    "print([[x.group() for x in match_object if x] for match_object in match_object_list])\n",
    "\n",
    "# Return indices\n",
    "print('\\nHere are the start and stop indices:')\n",
    "print([[x.span(0) for x in match_object] for match_object in match_object_list])\n"
   ]
  }
 ],
 "metadata": {
  "kernelspec": {
   "display_name": "Python 3",
   "language": "python",
   "name": "python3"
  },
  "language_info": {
   "codemirror_mode": {
    "name": "ipython",
    "version": 3
   },
   "file_extension": ".py",
   "mimetype": "text/x-python",
   "name": "python",
   "nbconvert_exporter": "python",
   "pygments_lexer": "ipython3",
   "version": "3.6.6"
  }
 },
 "nbformat": 4,
 "nbformat_minor": 1
}

{
 "cells": [
  {
   "cell_type": "markdown",
   "metadata": {},
   "source": [
    "<div id=\"reminder\" style=\"border-radius: 5px; background-color:#f5f5f5; padding: 15px 5px; \" >\n",
    "<p>Use this notebook to follow along with the lab tutorial.</p>\n",
    "</div>"
   ]
  },
  {
   "cell_type": "markdown",
   "metadata": {},
   "source": [
    "# <font color=\"blue\">Lesson 3 - Basic Machine Learning Models</font>"
   ]
  },
  {
   "cell_type": "markdown",
   "metadata": {},
   "source": [
    "### NBC on Iris Data"
   ]
  },
  {
   "cell_type": "code",
   "execution_count": 1,
   "metadata": {},
   "outputs": [
    {
     "name": "stdout",
     "output_type": "stream",
     "text": [
      "Number of mislabeled points out of a total 38 points : 3\n",
      "Accuracy = 92.11\n"
     ]
    }
   ],
   "source": [
    "from sklearn import datasets\n",
    "import numpy as np\n",
    "\n",
    "iris = datasets.load_iris()\n",
    "msk = np.random.rand(iris.data.shape[0]) <= 0.8\n",
    "iris_train = iris.data[msk, :]\n",
    "iris_train_target = iris.target[msk]\n",
    "iris_test = iris.data[~msk, :]\n",
    "iris_test_target = iris.target[~msk]\n",
    "\n",
    "from sklearn.naive_bayes import GaussianNB\n",
    "gnb = GaussianNB()\n",
    "gnb_model = gnb.fit(iris_train, iris_train_target)\n",
    "y_pred = gnb_model.predict(iris_test)\n",
    "misclassified_points = (iris_test_target != y_pred).sum()\n",
    "print(\"Number of mislabeled points out of a total %d points : %d\"\\\n",
    "      % (iris_test.shape[0], misclassified_points))\n",
    "print(\"Accuracy = %.2f\"%(round((iris_test.shape[0] - float(misclassified_points))/iris_test.shape[0]*100,2)))"
   ]
  },
  {
   "cell_type": "markdown",
   "metadata": {},
   "source": [
    "### NBC on Adult Income Data"
   ]
  },
  {
   "cell_type": "code",
   "execution_count": null,
   "metadata": {},
   "outputs": [],
   "source": [
    "import pandas as pd\n",
    "import io\n",
    "import requests\n",
    "url = \"https://archive.ics.uci.edu/ml/machine-learning-databases/adult/adult.data\"\n",
    "s = requests.get(url).content\n",
    "data = pd.read_csv(io.StringIO(s.decode('utf-8')), header=None)\n",
    "data.columns = [\"age\", \"workclass\", \"fnlwgt\", \"education\", \"education_num\", \"marital_status\", \\\n",
    "                \"occupation\", \"relationship\", \"race\", \"sex\", \"capital_gain\", \"capital_loss\", \\\n",
    "               \"hours_per_week\", \"native_country\", \"income\"]\n",
    "data.head()"
   ]
  },
  {
   "cell_type": "code",
   "execution_count": null,
   "metadata": {},
   "outputs": [],
   "source": [
    "for value in ['workclass', 'education',\n",
    "          'marital_status', 'occupation',\n",
    "          'relationship','race', 'sex',\n",
    "          'native_country', 'income']:\n",
    "    data[value].replace(['?'], [data.describe(include='all')[value][2]],\n",
    "                                inplace=True)\n",
    "data.head()"
   ]
  },
  {
   "cell_type": "code",
   "execution_count": null,
   "metadata": {},
   "outputs": [],
   "source": [
    "from sklearn import preprocessing\n",
    "le = preprocessing.LabelEncoder()\n",
    "workclass_cat = le.fit_transform(data.workclass)\n",
    "education_cat = le.fit_transform(data.education)\n",
    "marital_cat   = le.fit_transform(data.marital_status)\n",
    "occupation_cat = le.fit_transform(data.occupation)\n",
    "relationship_cat = le.fit_transform(data.relationship)\n",
    "race_cat = le.fit_transform(data.race)\n",
    "sex_cat = le.fit_transform(data.sex)\n",
    "native_country_cat = le.fit_transform(data.native_country)\n",
    "\n",
    "#initialize the encoded categorical columns\n",
    "data['workclass_cat'] = workclass_cat\n",
    "data['education_cat'] = education_cat\n",
    "data['marital_cat'] = marital_cat\n",
    "data['occupation_cat'] = occupation_cat\n",
    "data['relationship_cat'] = relationship_cat\n",
    "data['race_cat'] = race_cat\n",
    "data['sex_cat'] = sex_cat\n",
    "data['native_country_cat'] = native_country_cat\n",
    "\n",
    "#drop the old categorical columns from dataframe\n",
    "dummy_fields = ['workclass', 'education', 'marital_status', \n",
    "                  'occupation', 'relationship', 'race',\n",
    "                  'sex', 'native_country']\n",
    "data = data.drop(dummy_fields, axis = 1)\n",
    "\n",
    "data = data.reindex(['age', 'workclass_cat', 'fnlwgt', 'education_cat',\n",
    "                                    'education_num', 'marital_cat', 'occupation_cat',\n",
    "                                    'relationship_cat', 'race_cat', 'sex_cat', 'capital_gain',\n",
    "                                    'capital_loss', 'hours_per_week', 'native_country_cat', \n",
    "                                    'income'], axis= 1)\n",
    " \n",
    "data.head(5)"
   ]
  },
  {
   "cell_type": "code",
   "execution_count": null,
   "metadata": {},
   "outputs": [],
   "source": [
    "num_features = ['age', 'workclass_cat', 'fnlwgt', 'education_cat', 'education_num',\n",
    "                'marital_cat', 'occupation_cat', 'relationship_cat', 'race_cat',\n",
    "                'sex_cat', 'capital_gain', 'capital_loss', 'hours_per_week',\n",
    "                'native_country_cat']\n",
    " \n",
    "scaled_features = {}\n",
    "for each in num_features:\n",
    "    mean, std = data[each].mean(), data[each].std()\n",
    "    scaled_features[each] = [mean, std]\n",
    "    data.loc[:, each] = (data[each] - mean)/std\n",
    "\n",
    "msk = np.random.rand(data.shape[0]) <= 0.8\n",
    "adult_train = data.iloc[msk, 0:14]\n",
    "adult_train_target = data.iloc[msk, 14]\n",
    "adult_test = data.iloc[~msk, 0:14]\n",
    "adult_test_target = data.iloc[~msk, 14]\n",
    "\n",
    "from sklearn.naive_bayes import GaussianNB\n",
    "gnb = GaussianNB()\n",
    "gnb_model = gnb.fit(adult_train, adult_train_target)\n",
    "y_pred = gnb_model.predict(adult_test)\n",
    "misclassified_points = (adult_test_target != y_pred).sum()\n",
    "print(\"Number of mislabeled points out of a total %d points : %d\"\\\n",
    "      % (adult_test.shape[0], misclassified_points))\n",
    "print(\"Accuracy = %.2f\"%(round((adult_test.shape[0] - float(misclassified_points))/adult_test.shape[0]*100,2)))"
   ]
  },
  {
   "cell_type": "markdown",
   "metadata": {
    "collapsed": true
   },
   "source": [
    "<div id=\"reminder\" style=\"border-radius: 5px; background-color:#f5f5f5; padding: 15px 5px; \" >\n",
    "<p>For additional practice, please see the Workshop notebooks.</p>\n",
    "</div>"
   ]
  }
 ],
 "metadata": {
  "anaconda-cloud": {},
  "kernelspec": {
   "display_name": "Python 3",
   "language": "python",
   "name": "python3"
  },
  "language_info": {
   "codemirror_mode": {
    "name": "ipython",
    "version": 3
   },
   "file_extension": ".py",
   "mimetype": "text/x-python",
   "name": "python",
   "nbconvert_exporter": "python",
   "pygments_lexer": "ipython3",
   "version": "3.6.6"
  }
 },
 "nbformat": 4,
 "nbformat_minor": 1
}

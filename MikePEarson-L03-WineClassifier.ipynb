{
 "cells": [
  {
   "cell_type": "markdown",
   "metadata": {},
   "source": [
    "# Lesson 3 Assignment - Wine Classifier\n",
    "\n",
    "## Author - Studentname"
   ]
  },
  {
   "cell_type": "markdown",
   "metadata": {},
   "source": [
    "### Instructions\n",
    "Your task for this assignment:  Design a simple, low-cost sensor that can distinguish between red wine and white wine.\n",
    "Your sensor must correctly distinguish between red and white wine for at least 95% of the samples in a set of 6497 test samples of red and white wine.\n",
    "\n",
    "Your technology is capable of sensing the following wine attributes:\n",
    "- Fixed acidity  \n",
    "- Free sulphur dioxide\n",
    "- Volatile acidity  \n",
    "- Total sulphur dioxide\n",
    "- Citric acid  \n",
    "- Sulphates\n",
    "- Residual sugar  \n",
    "- pH\n",
    "- Chlorides  \n",
    "- Alcohol\n",
    "- Density\n",
    "\n",
    "\n"
   ]
  },
  {
   "cell_type": "markdown",
   "metadata": {},
   "source": [
    "## Tasks\n",
    "1. Read <a href=\"https://library.startlearninglabs.uw.edu/DATASCI420/Datasets/WineQuality.pdf\">WineQuality.pdf</a>.\n",
    "2. Use the RedWhiteWine.csv or RedWhiteWine.arff that is provided.\n",
    "Note: If needed, remove the quality attribute, which you will not need for this assignment.\n",
    "3. Build an experiment using Naive Bayes Classifier.\n",
    "\n",
    "Answer the following questions:\n",
    "1. What is the percentage of correct classification results (using all attributes)?\n",
    "2. What is the percentage of correct classification results (using a subset of the attributes)?\n",
    "3. What is the AUC of your model?\n",
    "4. What is the best AUC that you can achieve?\n",
    "5. Which are the the minimum number of attributes? Why?\n"
   ]
  },
  {
   "cell_type": "code",
   "execution_count": null,
   "metadata": {},
   "outputs": [],
   "source": [
    "URL = \"https://library.startlearninglabs.uw.edu/DATASCI420/Datasets/RedWhiteWine.csv\""
   ]
  },
  {
   "cell_type": "code",
   "execution_count": null,
   "metadata": {},
   "outputs": [],
   "source": [
    "# Import libraries\n"
   ]
  }
 ],
 "metadata": {
  "kernelspec": {
   "display_name": "Python 3",
   "language": "python",
   "name": "python3"
  },
  "language_info": {
   "codemirror_mode": {
    "name": "ipython",
    "version": 3
   },
   "file_extension": ".py",
   "mimetype": "text/x-python",
   "name": "python",
   "nbconvert_exporter": "python",
   "pygments_lexer": "ipython3",
   "version": "3.6.5"
  }
 },
 "nbformat": 4,
 "nbformat_minor": 2
}

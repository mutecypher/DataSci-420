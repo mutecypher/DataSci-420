{
 "cells": [
  {
   "cell_type": "markdown",
   "metadata": {},
   "source": [
    "# Lesson 3 Assignment - Wine Classifier\n",
    "\n",
    "## Author - Studentname"
   ]
  },
  {
   "cell_type": "markdown",
   "metadata": {},
   "source": [
    "### Instructions\n",
    "Your task for this assignment:  Design a simple, low-cost sensor that can distinguish between red wine and white wine.\n",
    "Your sensor must correctly distinguish between red and white wine for at least 95% of the samples in a set of 6497 test samples of red and white wine.\n",
    "\n",
    "Your technology is capable of sensing the following wine attributes:\n",
    "- Fixed acidity  \n",
    "- Free sulphur dioxide\n",
    "- Volatile acidity  \n",
    "- Total sulphur dioxide\n",
    "- Citric acid  \n",
    "- Sulphates\n",
    "- Residual sugar  \n",
    "- pH\n",
    "- Chlorides  \n",
    "- Alcohol\n",
    "- Density\n",
    "\n",
    "\n"
   ]
  },
  {
   "cell_type": "markdown",
   "metadata": {},
   "source": [
    "## Tasks\n",
    "1. Read <a href=\"https://library.startlearninglabs.uw.edu/DATASCI420/Datasets/WineQuality.pdf\">WineQuality.pdf</a>.\n",
    "2. Use the RedWhiteWine.csv or RedWhiteWine.arff that is provided.\n",
    "Note: If needed, remove the quality attribute, which you will not need for this assignment.\n",
    "3. Build an experiment using Naive Bayes Classifier.\n",
    "\n",
    "Answer the following questions:\n",
    "1. What is the percentage of correct classification results (using all attributes)?\n",
    "2. What is the percentage of correct classification results (using a subset of the attributes)?\n",
    "3. What is the AUC of your model?\n",
    "4. What is the best AUC that you can achieve?\n",
    "5. Which are the the minimum number of attributes? Why?\n"
   ]
  },
  {
   "cell_type": "code",
   "execution_count": 3,
   "metadata": {},
   "outputs": [],
   "source": [
    "URL = \"https://library.startlearninglabs.uw.edu/DATASCI420/Datasets/RedWhiteWine.csv\""
   ]
  },
  {
   "cell_type": "code",
   "execution_count": 4,
   "metadata": {},
   "outputs": [],
   "source": [
    "# Import libraries\n",
    "import numpy as np\n",
    "from sklearn.model_selection import train_test_split\n",
    "import pandas as pd\n"
   ]
  },
  {
   "cell_type": "code",
   "execution_count": 29,
   "metadata": {},
   "outputs": [
    {
     "data": {
      "text/html": [
       "<div>\n",
       "<style scoped>\n",
       "    .dataframe tbody tr th:only-of-type {\n",
       "        vertical-align: middle;\n",
       "    }\n",
       "\n",
       "    .dataframe tbody tr th {\n",
       "        vertical-align: top;\n",
       "    }\n",
       "\n",
       "    .dataframe thead th {\n",
       "        text-align: right;\n",
       "    }\n",
       "</style>\n",
       "<table border=\"1\" class=\"dataframe\">\n",
       "  <thead>\n",
       "    <tr style=\"text-align: right;\">\n",
       "      <th></th>\n",
       "      <th>fixed acidity</th>\n",
       "      <th>volatile acidity</th>\n",
       "      <th>citric acid</th>\n",
       "      <th>residual sugar</th>\n",
       "      <th>chlorides</th>\n",
       "      <th>free sulfur dioxide</th>\n",
       "      <th>total sulfur dioxide</th>\n",
       "      <th>density</th>\n",
       "      <th>pH</th>\n",
       "      <th>sulphates</th>\n",
       "      <th>alcohol</th>\n",
       "      <th>quality</th>\n",
       "      <th>Class</th>\n",
       "    </tr>\n",
       "  </thead>\n",
       "  <tbody>\n",
       "    <tr>\n",
       "      <th>0</th>\n",
       "      <td>7.4</td>\n",
       "      <td>0.70</td>\n",
       "      <td>0.00</td>\n",
       "      <td>1.9</td>\n",
       "      <td>0.076</td>\n",
       "      <td>11.0</td>\n",
       "      <td>34.0</td>\n",
       "      <td>0.9978</td>\n",
       "      <td>3.51</td>\n",
       "      <td>0.56</td>\n",
       "      <td>9.4</td>\n",
       "      <td>5</td>\n",
       "      <td>1</td>\n",
       "    </tr>\n",
       "    <tr>\n",
       "      <th>1</th>\n",
       "      <td>7.8</td>\n",
       "      <td>0.88</td>\n",
       "      <td>0.00</td>\n",
       "      <td>2.6</td>\n",
       "      <td>0.098</td>\n",
       "      <td>25.0</td>\n",
       "      <td>67.0</td>\n",
       "      <td>0.9968</td>\n",
       "      <td>3.20</td>\n",
       "      <td>0.68</td>\n",
       "      <td>9.8</td>\n",
       "      <td>5</td>\n",
       "      <td>1</td>\n",
       "    </tr>\n",
       "    <tr>\n",
       "      <th>2</th>\n",
       "      <td>7.8</td>\n",
       "      <td>0.76</td>\n",
       "      <td>0.04</td>\n",
       "      <td>2.3</td>\n",
       "      <td>0.092</td>\n",
       "      <td>15.0</td>\n",
       "      <td>54.0</td>\n",
       "      <td>0.9970</td>\n",
       "      <td>3.26</td>\n",
       "      <td>0.65</td>\n",
       "      <td>9.8</td>\n",
       "      <td>5</td>\n",
       "      <td>1</td>\n",
       "    </tr>\n",
       "    <tr>\n",
       "      <th>3</th>\n",
       "      <td>11.2</td>\n",
       "      <td>0.28</td>\n",
       "      <td>0.56</td>\n",
       "      <td>1.9</td>\n",
       "      <td>0.075</td>\n",
       "      <td>17.0</td>\n",
       "      <td>60.0</td>\n",
       "      <td>0.9980</td>\n",
       "      <td>3.16</td>\n",
       "      <td>0.58</td>\n",
       "      <td>9.8</td>\n",
       "      <td>6</td>\n",
       "      <td>1</td>\n",
       "    </tr>\n",
       "    <tr>\n",
       "      <th>4</th>\n",
       "      <td>7.4</td>\n",
       "      <td>0.70</td>\n",
       "      <td>0.00</td>\n",
       "      <td>1.9</td>\n",
       "      <td>0.076</td>\n",
       "      <td>11.0</td>\n",
       "      <td>34.0</td>\n",
       "      <td>0.9978</td>\n",
       "      <td>3.51</td>\n",
       "      <td>0.56</td>\n",
       "      <td>9.4</td>\n",
       "      <td>5</td>\n",
       "      <td>1</td>\n",
       "    </tr>\n",
       "  </tbody>\n",
       "</table>\n",
       "</div>"
      ],
      "text/plain": [
       "   fixed acidity  volatile acidity  citric acid  residual sugar  chlorides  \\\n",
       "0            7.4              0.70         0.00             1.9      0.076   \n",
       "1            7.8              0.88         0.00             2.6      0.098   \n",
       "2            7.8              0.76         0.04             2.3      0.092   \n",
       "3           11.2              0.28         0.56             1.9      0.075   \n",
       "4            7.4              0.70         0.00             1.9      0.076   \n",
       "\n",
       "   free sulfur dioxide  total sulfur dioxide  density    pH  sulphates  \\\n",
       "0                 11.0                  34.0   0.9978  3.51       0.56   \n",
       "1                 25.0                  67.0   0.9968  3.20       0.68   \n",
       "2                 15.0                  54.0   0.9970  3.26       0.65   \n",
       "3                 17.0                  60.0   0.9980  3.16       0.58   \n",
       "4                 11.0                  34.0   0.9978  3.51       0.56   \n",
       "\n",
       "   alcohol  quality  Class  \n",
       "0      9.4        5      1  \n",
       "1      9.8        5      1  \n",
       "2      9.8        5      1  \n",
       "3      9.8        6      1  \n",
       "4      9.4        5      1  "
      ]
     },
     "execution_count": 29,
     "metadata": {},
     "output_type": "execute_result"
    }
   ],
   "source": [
    "wine_data = pd.read_csv(URL)\n",
    "wine_data.head()"
   ]
  },
  {
   "cell_type": "code",
   "execution_count": 30,
   "metadata": {},
   "outputs": [
    {
     "name": "stdout",
     "output_type": "stream",
     "text": [
      "fixed acidity           float64\n",
      "volatile acidity        float64\n",
      "citric acid             float64\n",
      "residual sugar          float64\n",
      "chlorides               float64\n",
      "free sulfur dioxide     float64\n",
      "total sulfur dioxide    float64\n",
      "density                 float64\n",
      "pH                      float64\n",
      "sulphates               float64\n",
      "alcohol                 float64\n",
      "quality                   int64\n",
      "Class                     int64\n",
      "dtype: object\n",
      "(6497, 13)\n",
      "0    4898\n",
      "1    1599\n",
      "Name: Class, dtype: int64\n",
      "       fixed acidity  volatile acidity  citric acid  residual sugar  \\\n",
      "count    6497.000000       6497.000000  6497.000000     6497.000000   \n",
      "mean        7.215307          0.339666     0.318633        5.443235   \n",
      "std         1.296434          0.164636     0.145318        4.757804   \n",
      "min         3.800000          0.080000     0.000000        0.600000   \n",
      "25%         6.400000          0.230000     0.250000        1.800000   \n",
      "50%         7.000000          0.290000     0.310000        3.000000   \n",
      "75%         7.700000          0.400000     0.390000        8.100000   \n",
      "max        15.900000          1.580000     1.660000       65.800000   \n",
      "\n",
      "         chlorides  free sulfur dioxide  total sulfur dioxide      density  \\\n",
      "count  6497.000000          6497.000000           6497.000000  6497.000000   \n",
      "mean      0.056034            30.525319            115.744574     0.994697   \n",
      "std       0.035034            17.749400             56.521855     0.002999   \n",
      "min       0.009000             1.000000              6.000000     0.987110   \n",
      "25%       0.038000            17.000000             77.000000     0.992340   \n",
      "50%       0.047000            29.000000            118.000000     0.994890   \n",
      "75%       0.065000            41.000000            156.000000     0.996990   \n",
      "max       0.611000           289.000000            440.000000     1.038980   \n",
      "\n",
      "                pH    sulphates      alcohol      quality        Class  \n",
      "count  6497.000000  6497.000000  6497.000000  6497.000000  6497.000000  \n",
      "mean      3.218501     0.531268    10.491801     5.818378     0.246114  \n",
      "std       0.160787     0.148806     1.192712     0.873255     0.430779  \n",
      "min       2.720000     0.220000     8.000000     3.000000     0.000000  \n",
      "25%       3.110000     0.430000     9.500000     5.000000     0.000000  \n",
      "50%       3.210000     0.510000    10.300000     6.000000     0.000000  \n",
      "75%       3.320000     0.600000    11.300000     6.000000     0.000000  \n",
      "max       4.010000     2.000000    14.900000     9.000000     1.000000  \n"
     ]
    }
   ],
   "source": [
    "print(wine_data.dtypes)\n",
    "print(wine_data.shape)\n",
    "a = wine_data['Class']\n",
    "print(a.value_counts())\n",
    "print(wine_data.describe())"
   ]
  },
  {
   "cell_type": "markdown",
   "metadata": {},
   "source": [
    "scale the data\n"
   ]
  },
  {
   "cell_type": "code",
   "execution_count": 31,
   "metadata": {},
   "outputs": [
    {
     "name": "stdout",
     "output_type": "stream",
     "text": [
      "       fixed acidity  volatile acidity   citric acid  residual sugar  \\\n",
      "count   6.497000e+03      6.497000e+03  6.497000e+03    6.497000e+03   \n",
      "mean    9.396824e-16     -2.652262e-14  4.807301e-14   -2.252111e-15   \n",
      "std     1.000000e+00      1.000000e+00  1.000000e+00    1.000000e+00   \n",
      "min    -2.634386e+00     -1.577208e+00 -2.192664e+00   -1.017956e+00   \n",
      "25%    -6.288845e-01     -6.661100e-01 -4.722972e-01   -7.657389e-01   \n",
      "50%    -1.660764e-01     -3.016707e-01 -5.940918e-02   -5.135217e-01   \n",
      "75%     3.738663e-01      3.664680e-01  4.911081e-01    5.584015e-01   \n",
      "max     6.698910e+00      7.533774e+00  9.230570e+00    1.268585e+01   \n",
      "\n",
      "          chlorides  free sulfur dioxide  total sulfur dioxide       density  \\\n",
      "count  6.497000e+03         6.497000e+03          6.497000e+03  6.497000e+03   \n",
      "mean   1.278966e-14        -6.367933e-17         -5.225926e-16  2.181060e-12   \n",
      "std    1.000000e+00         1.000000e+00          1.000000e+00  1.000000e+00   \n",
      "min   -1.342536e+00        -1.663455e+00         -1.941631e+00 -2.529997e+00   \n",
      "25%   -5.147590e-01        -7.620156e-01         -6.854795e-01 -7.858922e-01   \n",
      "50%   -2.578628e-01        -8.593639e-02          3.990360e-02  6.448391e-02   \n",
      "75%    2.559297e-01         5.901428e-01          7.122099e-01  7.647937e-01   \n",
      "max    1.584097e+01         1.456245e+01          5.736815e+00  1.476765e+01   \n",
      "\n",
      "                 pH     sulphates       alcohol      quality        Class  \n",
      "count  6.497000e+03  6.497000e+03  6.497000e+03  6497.000000  6497.000000  \n",
      "mean  -3.317152e-14 -6.607989e-15 -2.235860e-14     5.818378     0.246114  \n",
      "std    1.000000e+00  1.000000e+00  1.000000e+00     0.873255     0.430779  \n",
      "min   -3.100376e+00 -2.091774e+00 -2.089189e+00     3.000000     0.000000  \n",
      "25%   -6.748102e-01 -6.805395e-01 -8.315512e-01     5.000000     0.000000  \n",
      "50%   -5.287017e-02 -1.429263e-01 -1.608107e-01     6.000000     0.000000  \n",
      "75%    6.312639e-01  4.618885e-01  6.776148e-01     6.000000     0.000000  \n",
      "max    4.922650e+00  9.870119e+00  3.695947e+00     9.000000     1.000000  \n"
     ]
    }
   ],
   "source": [
    "num_features = ['fixed acidity', 'volatile acidity', 'citric acid', 'residual sugar', 'chlorides',\n",
    "                'free sulfur dioxide', 'total sulfur dioxide', 'density', 'pH',\n",
    "                'sulphates', 'alcohol']\n",
    " \n",
    "scaled_features = {}\n",
    "for each in num_features:\n",
    "    mean, std = wine_data[each].mean(), wine_data[each].std()\n",
    "    scaled_features[each] = [mean, std]\n",
    "    wine_data.loc[:, each] = (wine_data[each] - mean)/std\n",
    "\n",
    "print(wine_data.describe())"
   ]
  },
  {
   "cell_type": "markdown",
   "metadata": {},
   "source": [
    "Now that things are normalized, let's get a training data set"
   ]
  },
  {
   "cell_type": "code",
   "execution_count": 43,
   "metadata": {},
   "outputs": [
    {
     "name": "stdout",
     "output_type": "stream",
     "text": [
      "       fixed acidity  volatile acidity  citric acid  residual sugar  \\\n",
      "count    5243.000000       5243.000000  5243.000000     5243.000000   \n",
      "mean        0.000316          0.004276    -0.000635        0.000883   \n",
      "std         0.999635          1.000111     0.997415        1.002197   \n",
      "min        -2.634386         -1.577208    -2.192664       -1.017956   \n",
      "25%        -0.628884         -0.666110    -0.472297       -0.765739   \n",
      "50%        -0.166076         -0.301671    -0.059409       -0.513522   \n",
      "75%         0.373866          0.366468     0.491108        0.558401   \n",
      "max         6.698910          7.533774     9.230570       12.685846   \n",
      "\n",
      "         chlorides  free sulfur dioxide  total sulfur dioxide      density  \\\n",
      "count  5243.000000          5243.000000           5243.000000  5243.000000   \n",
      "mean      0.004156             0.001276             -0.002124     0.007099   \n",
      "std       1.008667             1.004708              1.004909     1.002768   \n",
      "min      -1.342536            -1.663455             -1.941631    -2.529997   \n",
      "25%      -0.514759            -0.762016             -0.685480    -0.782557   \n",
      "50%      -0.257863            -0.085936              0.039904     0.081158   \n",
      "75%       0.255930             0.590143              0.712210     0.768128   \n",
      "max      15.840967            14.562446              5.736815    14.767654   \n",
      "\n",
      "                pH    sulphates      alcohol        Class  \n",
      "count  5243.000000  5243.000000  5243.000000  5243.000000  \n",
      "mean      0.012159     0.010857     0.003294     0.250811  \n",
      "std       0.999710     1.001669     1.000630     0.433521  \n",
      "min      -2.975988    -2.091774    -1.753819     0.000000  \n",
      "25%      -0.674810    -0.680540    -0.831551     0.000000  \n",
      "50%      -0.052870    -0.142926    -0.160811     0.000000  \n",
      "75%       0.631264     0.461889     0.677615     1.000000  \n",
      "max       4.922650     9.870119     3.695947     1.000000  \n",
      "wine train target is  count    5243.000000\n",
      "mean        5.814991\n",
      "std         0.877083\n",
      "min         3.000000\n",
      "25%         5.000000\n",
      "50%         6.000000\n",
      "75%         6.000000\n",
      "max         9.000000\n",
      "Name: quality, dtype: float64\n",
      "count    1254.000000\n",
      "mean        5.832536\n",
      "std         0.857264\n",
      "min         3.000000\n",
      "25%         5.000000\n",
      "50%         6.000000\n",
      "75%         6.000000\n",
      "max         8.000000\n",
      "Name: quality, dtype: float64\n"
     ]
    }
   ],
   "source": [
    "msk = np.random.rand(wine_data.shape[0]) <= 0.8\n",
    "## remove the quality column and set as separate \n",
    "quality_data = wine_data['quality']\n",
    "wine_d = wine_data.drop(['quality'],axis = 1)\n",
    "wine_train = wine_d.iloc[msk, 0:12]\n",
    "wine_train_target = quality_data.loc[msk]\n",
    "wine_test = wine_d.iloc[~msk, 0:12]\n",
    "wine_test_target = quality_data.loc[~msk]\n",
    "\n",
    "\n",
    "print(wine_train.describe())\n",
    "print(\"wine train target is \", wine_train_target.describe())\n",
    "print(wine_test_target.describe())\n"
   ]
  },
  {
   "cell_type": "markdown",
   "metadata": {},
   "source": [
    "Now for the actual fitting"
   ]
  },
  {
   "cell_type": "code",
   "execution_count": 46,
   "metadata": {},
   "outputs": [
    {
     "name": "stdout",
     "output_type": "stream",
     "text": [
      "Number of mislabeled points out of a total 1254 points : 794\n",
      "Accuracy = 36.68\n"
     ]
    }
   ],
   "source": [
    "from sklearn.naive_bayes import GaussianNB\n",
    "gnb = GaussianNB()\n",
    "gnb_model = gnb.fit(wine_train, wine_train_target)\n",
    "y_pred = gnb_model.predict(wine_test)\n",
    "misclassified_points = (wine_test_target != y_pred).sum()\n",
    "print(\"Number of mislabeled points out of a total %d points : %d\"\\\n",
    "      % (wine_test.shape[0], misclassified_points))\n",
    "print(\"Accuracy = %.2f\"%(round((wine_test.shape[0] - float(misclassified_points))/wine_test.shape[0]*100,2)))"
   ]
  },
  {
   "cell_type": "code",
   "execution_count": null,
   "metadata": {},
   "outputs": [],
   "source": []
  }
 ],
 "metadata": {
  "kernelspec": {
   "display_name": "Python 3",
   "language": "python",
   "name": "python3"
  },
  "language_info": {
   "codemirror_mode": {
    "name": "ipython",
    "version": 3
   },
   "file_extension": ".py",
   "mimetype": "text/x-python",
   "name": "python",
   "nbconvert_exporter": "python",
   "pygments_lexer": "ipython3",
   "version": "3.6.6"
  }
 },
 "nbformat": 4,
 "nbformat_minor": 2
}

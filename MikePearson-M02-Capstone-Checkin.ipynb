{
 "cells": [
  {
   "cell_type": "markdown",
   "metadata": {},
   "source": [
    "# Milestone 2 Assignment - Capstone Check-in\n",
    "\n",
    "## Author - Mike Pearson"
   ]
  },
  {
   "cell_type": "markdown",
   "metadata": {},
   "source": [
    "### Capstone Project Instructions\n",
    "Select a problem and data sets of particular interest and apply the analytics process to find and report on a solution.\n",
    "\n",
    "Students will construct a simple dashboard to allow a non-technical user to explore their solution. The data should be read from a suitable persistent data storage, such as an Internet URL or a SQL data base.\n",
    "\n",
    "The process followed by the students and the grading criteria include:\n",
    "<ol style=\"list-style-type: lower-alpha;\">\n",
    "<li>Understand the business problem <span class=\"label\" style=\"border-radius: 3px; background-color: darkcyan; color: white;\">Milestone 1</span></li>\n",
    "<li>Evaluate and explore the available data <span class=\"label\" style=\"border-radius: 3px; background-color: darkcyan; color: white;\">Milestone 1</span></li>\n",
    "<li>Proper data preparation <span class=\"label\" style=\"border-radius: 3px; background-color: darkcyan; color: white;\">Milestone 1</span> <span class=\"label\" style=\"border-radius: 3px; background-color: royalblue; color: white;\">Milestone 2</span></li>\n",
    "<li>Exploration of data and understand relationships <span class=\"label\" style=\"border-radius: 3px; background-color: darkcyan; color: white;\">Milestone 1</span> <span class=\"label\" style=\"border-radius: 3px; background-color: royalblue; color: white;\">Milestone 2</span></li>\n",
    "<li>Perform basic analytics and machine learning, within the scope of the course, on the data.  <span class=\"label\" style=\"border-radius: 3px; background-color: royalblue; color: white;\">Milestone 2</span> <span class=\"label\" style=\"border-radius: 3px; background-color: slateblue; color: white;\">Milestone 3</span> <BR/>For example, classification to predict which employees are most likely to leave the company.</li>\n",
    "<li>Create a written and/or oral report on the results suitable for a non-technical audience. <span class=\"label\" style=\"border-radius: 3px; background-color: slateblue; color: white;\">Milestone 3</span></li>\n",
    "</ol>\n",
    "\n"
   ]
  },
  {
   "cell_type": "markdown",
   "metadata": {},
   "source": [
    "## Tasks\n",
    "<img src=\"https://library.startlearninglabs.uw.edu/DATASCI420/img/Milestone2Sample.PNG\" style=\"float: right; width: 400px;\">\n",
    "For this check-in, you are to:\n",
    "\n",
    "1). Explicitly state the problem, list sources, and define the methodology: classification, regression, other\n",
    "\n",
    "2). List data processing steps (psuedo code) including steps from data source collection & preparation, feature engineering & selection, modeling, performance evaluation.\n",
    "\n",
    "3). Read in the previously generated data file of cleaned up data\n",
    "\n",
    "4). Perform feature engineering and selection\n",
    "\n",
    "5). Conduct some preliminary modeling \n",
    "\n",
    "6). Identify potential machine learning model(s) to improve performance\n"
   ]
  },
  {
   "cell_type": "markdown",
   "metadata": {},
   "source": [
    "## Project Goal\n",
    "\n"
   ]
  },
  {
   "cell_type": "markdown",
   "metadata": {},
   "source": [
    "### The goal of this project is to determine if adding stock market data will improve the predictability of house prices in King County. The thinking is that stock prices expand and contract the resources that buyers have and will have an effect on the prices that buyers are willing to pay for homes.\n",
    "\n",
    "### I chose the 5 largest employers in King County with publicly traded stock, and I also included the Dow Jones Industrial average."
   ]
  },
  {
   "cell_type": "markdown",
   "metadata": {},
   "source": [
    "### Data sources:  the King County real estate data set from UW Course 410 in Data Science: url :\"https://library.startlearninglabs.uw.edu/DATASCI410/Datasets/kc_house_data.csv\"\n",
    "\n",
    "### Stock market data was downloaded from Yahoo finance for the same time period as the King County data.\n",
    "\n",
    "### The choice of the 5 companies was based on this article in TripSavvy https://www.tripsavvy.com/biggest-seattle-area-employers-2965051\n",
    "\n",
    "\n",
    "### That data was uploaded (in csv format) to my github deposity for this course\n",
    "\n",
    "### The Dow Jones Industrial closing value for the period May 2, 2014 to May 27, 2015\n",
    "\n",
    "URL2 = 'https://raw.githubusercontent.com/mutecypher/DataSci-420/master/DJI.csv'\n",
    "\n",
    "### Amazon's closing price for the period May 2, 2014 to May 27, 2015\n",
    "URL3 = 'https://raw.githubusercontent.com/mutecypher/DataSci-420/master/AMZN.csv'\n",
    "\n",
    "### Boeing's closing price for the period May 2, 2014 to May 27, 2015\n",
    "URL4 = 'https://raw.githubusercontent.com/mutecypher/DataSci-420/master/BA.csv'\n",
    "\n",
    "### Microsoft's closing price for the period May 2, 2014 to May 27, 2015\n",
    "\n",
    "URL5 = 'https://raw.githubusercontent.com/mutecypher/DataSci-420/master/MSFT.csv'\n",
    "\n",
    "\n",
    "### Starbucks' closing price for the period May 2, 2014 to May 27, 2015\n",
    "\n",
    "URL6 = 'https://raw.githubusercontent.com/mutecypher/DataSci-420/master/SBUX.csv'\n",
    "\n",
    "### Walmart's closing price for the period May 2, 2014 to May 27, 2015\n",
    "\n",
    "URL7 = 'https://raw.githubusercontent.com/mutecypher/DataSci-420/master/WMT.csv'\n",
    "\n",
    "\n"
   ]
  },
  {
   "cell_type": "markdown",
   "metadata": {},
   "source": [
    "## Data Processing Steps"
   ]
  },
  {
   "cell_type": "markdown",
   "metadata": {},
   "source": [
    "## As pseudo code...\n",
    "\n",
    "### Read in the Housing data set \n",
    "### Add a datetime column using the \"date\" column in the data\n",
    "### Separately add columns for \"day,\" \"month,\" and \"year\" to help with sorting later on.\n",
    "\n",
    "### Read in the stock data and Dow data files\n",
    "### Add a datetime column using the \"date\" column in  the data\n",
    "### Separately add columns for \"day\", \"month,\" and \"year.\"\n",
    "\n",
    "### Add the stock market data to the housing data set sorting by \"day\", \"month\", and \"year\".\n",
    "\n",
    "\n",
    "### Examine the data with describe command and some plotting\n",
    "\n",
    "### Find the outliers and remove any outliers (mostly high counts of bedrooms and bathrooms)\n",
    "\n",
    "\n",
    "### Normalizing and binning\n",
    "### normalize the price, replace outliers with the mean\n",
    "### Norm the square footage of living space\n",
    "### Get rid of outliers in terms of number of bedrooms (more than 9)\n",
    "### Get rid of outlier in terms of number of bathrooms (more than 4)\n",
    "### Make the year a category (2014, yes or no)\n",
    "### Get the age of the house\n",
    "\n",
    "### Upload the normed and binned file to github\n",
    "\n",
    "### note: I forgot to norm the stock market prices before uploading, I will do it in this iteration"
   ]
  },
  {
   "cell_type": "markdown",
   "metadata": {},
   "source": [
    "## Feature Engineering and Selection"
   ]
  },
  {
   "cell_type": "code",
   "execution_count": 1,
   "metadata": {},
   "outputs": [],
   "source": [
    "# Data file location\n",
    "\n",
    "\n",
    "data_url = 'https://raw.githubusercontent.com/mutecypher/DataSci-420/master/All_data.csv'\n"
   ]
  },
  {
   "cell_type": "code",
   "execution_count": 2,
   "metadata": {},
   "outputs": [],
   "source": [
    "# Import libraries\n",
    "import pandas as pd\n",
    "import matplotlib.pyplot as plt\n",
    "import numpy as np\n",
    "import datetime as dt\n",
    "import seaborn as sbn\n",
    "from dateutil.parser import parse"
   ]
  },
  {
   "cell_type": "code",
   "execution_count": 3,
   "metadata": {},
   "outputs": [
    {
     "name": "stdout",
     "output_type": "stream",
     "text": [
      "           id             date      price  bedrooms  bathrooms  sqft_living  \\\n",
      "0  1999700045  20140502T000000   313000.0         3       1.50         1340   \n",
      "1  1860600135  20140502T000000  2384000.0         5       2.50         3650   \n",
      "2  5467900070  20140502T000000   342000.0         3       2.00         1930   \n",
      "3  4040800810  20140502T000000   420000.0         3       2.25         2000   \n",
      "4  7197300105  20140502T000000   550000.0         4       2.50         1940   \n",
      "\n",
      "   sqft_lot  floors  waterfront  view ...       Boeing  Microsoft  Starbucks  \\\n",
      "0      7912     1.5           0     0 ...   129.940002  39.689999  35.299999   \n",
      "1      9050     2.0           0     4 ...   129.940002  39.689999  35.299999   \n",
      "2     11947     1.0           0     0 ...   129.940002  39.689999  35.299999   \n",
      "3      8030     1.0           0     0 ...   129.940002  39.689999  35.299999   \n",
      "4     10500     1.0           0     0 ...   129.940002  39.689999  35.299999   \n",
      "\n",
      "     Walmart  Dow Jones Industrial  price_normed  normed_living  2015year  \\\n",
      "0  79.120003           16512.89063     -0.031686      -0.055922         0   \n",
      "1  79.120003           16512.89063      0.257555       0.118418         0   \n",
      "2  79.120003           16512.89063     -0.027635      -0.011394         0   \n",
      "3  79.120003           16512.89063     -0.016742      -0.006111         0   \n",
      "4  79.120003           16512.89063      0.001414      -0.010639         0   \n",
      "\n",
      "   renovated  age  \n",
      "0          0   59  \n",
      "1          0   93  \n",
      "2          0   48  \n",
      "3          0   51  \n",
      "4          0   38  \n",
      "\n",
      "[5 rows x 36 columns]\n"
     ]
    }
   ],
   "source": [
    "All_data = pd.read_csv(data_url)\n",
    "print(All_data.head())"
   ]
  },
  {
   "cell_type": "markdown",
   "metadata": {},
   "source": [
    "### I will normalize the stock market data now"
   ]
  },
  {
   "cell_type": "code",
   "execution_count": 4,
   "metadata": {},
   "outputs": [
    {
     "name": "stdout",
     "output_type": "stream",
     "text": [
      "                 id         price      bedrooms     bathrooms   sqft_living  \\\n",
      "count  2.099100e+04  2.099100e+04  20991.000000  20991.000000  20991.000000   \n",
      "mean   4.577684e+09  5.398727e+05      3.371635      2.114228   2080.967129   \n",
      "std    2.876506e+09  3.680529e+05      0.931321      0.769530    920.347958   \n",
      "min    1.000102e+06  7.500000e+04      0.000000      0.000000    290.000000   \n",
      "25%    2.123049e+09  3.200000e+05      3.000000      1.750000   1430.000000   \n",
      "50%    3.904911e+09  4.500000e+05      3.000000      2.250000   1910.000000   \n",
      "75%    7.305600e+09  6.450000e+05      4.000000      2.500000   2550.000000   \n",
      "max    9.900000e+09  7.700000e+06     33.000000      8.000000  13540.000000   \n",
      "\n",
      "           sqft_lot        floors    waterfront          view     condition  \\\n",
      "count  2.099100e+04  20991.000000  20991.000000  20991.000000  20991.000000   \n",
      "mean   1.518508e+04      1.493807      0.007479      0.234481      3.409175   \n",
      "std    4.129677e+04      0.540023      0.086162      0.765996      0.650817   \n",
      "min    5.200000e+02      1.000000      0.000000      0.000000      1.000000   \n",
      "25%    5.064500e+03      1.000000      0.000000      0.000000      3.000000   \n",
      "50%    7.633000e+03      1.500000      0.000000      0.000000      3.000000   \n",
      "75%    1.072600e+04      2.000000      0.000000      0.000000      4.000000   \n",
      "max    1.651359e+06      3.500000      1.000000      4.000000      5.000000   \n",
      "\n",
      "           ...       normed_living      2015year     renovated           age  \\\n",
      "count      ...        2.099100e+04  20991.000000  20991.000000  20991.000000   \n",
      "mean       ...       -1.404373e-17      0.319089      0.042256     43.323377   \n",
      "std        ...        6.946022e-02      0.466135      0.201178     29.361186   \n",
      "min        ...       -1.351673e-01      0.000000      0.000000     -1.000000   \n",
      "25%        ...       -4.912959e-02      0.000000      0.000000     18.000000   \n",
      "50%        ...       -1.290318e-02      0.000000      0.000000     40.000000   \n",
      "75%        ...        3.539871e-02      1.000000      0.000000     63.000000   \n",
      "max        ...        8.648327e-01      1.000000      1.000000    115.000000   \n",
      "\n",
      "       Amazon_normed  Boeing_normed  Microsoft_normed  Starbucks_normed  \\\n",
      "count   20991.000000   20991.000000      20991.000000      20991.000000   \n",
      "mean        0.326539       0.398369          0.478854          0.366377   \n",
      "std         0.224375       0.270610          0.259342          0.262450   \n",
      "min         0.000000       0.000000          0.000000          0.000000   \n",
      "25%         0.155296       0.211409          0.252133          0.182698   \n",
      "50%         0.256023       0.305980          0.456872          0.249267   \n",
      "75%         0.526778       0.677758          0.704265          0.640469   \n",
      "max         1.000000       1.000000          1.000000          1.000000   \n",
      "\n",
      "       Walmart_normed    DJI_normed  \n",
      "count    20991.000000  20991.000000  \n",
      "mean         0.336638      0.539548  \n",
      "std          0.234275      0.256607  \n",
      "min          0.000000      0.000000  \n",
      "25%          0.153532      0.335679  \n",
      "50%          0.246351      0.458651  \n",
      "75%          0.539405      0.793629  \n",
      "max          1.000000      1.000000  \n",
      "\n",
      "[8 rows x 40 columns]\n",
      "['id' 'date' 'price' 'bedrooms' 'bathrooms' 'sqft_living' 'sqft_lot'\n",
      " 'floors' 'waterfront' 'view' 'condition' 'grade' 'sqft_above'\n",
      " 'sqft_basement' 'yr_built' 'yr_renovated' 'zipcode' 'lat' 'long'\n",
      " 'sqft_living15' 'sqft_lot15' 'datetime' 'year' 'month' 'day' 'Amazon'\n",
      " 'Boeing' 'Microsoft' 'Starbucks' 'Walmart' 'Dow Jones Industrial'\n",
      " 'price_normed' 'normed_living' '2015year' 'renovated' 'age'\n",
      " 'Amazon_normed' 'Boeing_normed' 'Microsoft_normed' 'Starbucks_normed'\n",
      " 'Walmart_normed' 'DJI_normed']\n"
     ]
    }
   ],
   "source": [
    "## norm 0 to 1 Amazon pricing\n",
    "\n",
    "AMZN_lo = np.min(All_data['Amazon'])\n",
    "AMZN_hi = np.max(All_data['Amazon'])\n",
    "AMZN_mean = np.mean(All_data['Amazon'])\n",
    "All_data['Amazon_normed'] = (All_data['Amazon'] - AMZN_lo)/(AMZN_hi - AMZN_lo)\n",
    "\n",
    "## norm 0 to 1 Boeing pricing\n",
    "BA_lo = np.min(All_data['Boeing'])\n",
    "BA_hi = np.max(All_data['Boeing'])\n",
    "BA_mean = np.mean(All_data['Boeing'])\n",
    "All_data['Boeing_normed'] = (All_data['Boeing'] - BA_lo)/(BA_hi - BA_lo)\n",
    "\n",
    "\n",
    "## norm 0 to 1 Microsoft pricing\n",
    "MS_lo = np.min(All_data['Microsoft'])\n",
    "MS_hi = np.max(All_data['Microsoft'])\n",
    "MS_mean = np.mean(All_data['Microsoft'])\n",
    "All_data['Microsoft_normed'] = (All_data['Microsoft'] - MS_lo)/(MS_hi - MS_lo)\n",
    "\n",
    "## norm 0 to 1 Starbucks pricing\n",
    "SB_lo = np.min(All_data['Starbucks'])\n",
    "SB_hi = np.max(All_data['Starbucks'])\n",
    "SB_mean = np.mean(All_data['Starbucks'])\n",
    "All_data['Starbucks_normed'] = (All_data['Starbucks'] - SB_lo)/(SB_hi - SB_lo)\n",
    "\n",
    "\n",
    "## norm 0 to 1 Walmart pricing\n",
    "WM_lo = np.min(All_data['Walmart'])\n",
    "WM_hi = np.max(All_data['Walmart'])\n",
    "WM_mean = np.mean(All_data['Walmart'])\n",
    "All_data['Walmart_normed'] = (All_data['Walmart'] - WM_lo)/(WM_hi - WM_lo)\n",
    "\n",
    "\n",
    "## norm 0 to 1 Dow Jones Industrial pricing\n",
    "DJI_lo = np.min(All_data['Dow Jones Industrial'])\n",
    "DJI_hi = np.max(All_data['Dow Jones Industrial'])\n",
    "DJI_mean = np.mean(All_data['Dow Jones Industrial'])\n",
    "All_data['DJI_normed'] = (All_data['Dow Jones Industrial'] - DJI_lo)/(DJI_hi - DJI_lo)\n",
    "\n",
    "\n",
    "\n",
    "\n",
    "print(All_data.describe())\n",
    "print(All_data.columns.values)"
   ]
  },
  {
   "cell_type": "markdown",
   "metadata": {},
   "source": [
    "## Let's get rid of un-normed data and non-needed columns"
   ]
  },
  {
   "cell_type": "code",
   "execution_count": 5,
   "metadata": {},
   "outputs": [
    {
     "name": "stdout",
     "output_type": "stream",
     "text": [
      "           bedrooms     bathrooms   sqft_living      sqft_lot        floors  \\\n",
      "count  20991.000000  20991.000000  20991.000000  2.099100e+04  20991.000000   \n",
      "mean       3.371635      2.114228   2080.967129  1.518508e+04      1.493807   \n",
      "std        0.931321      0.769530    920.347958  4.129677e+04      0.540023   \n",
      "min        0.000000      0.000000    290.000000  5.200000e+02      1.000000   \n",
      "25%        3.000000      1.750000   1430.000000  5.064500e+03      1.000000   \n",
      "50%        3.000000      2.250000   1910.000000  7.633000e+03      1.500000   \n",
      "75%        4.000000      2.500000   2550.000000  1.072600e+04      2.000000   \n",
      "max       33.000000      8.000000  13540.000000  1.651359e+06      3.500000   \n",
      "\n",
      "         waterfront          view     condition         grade    sqft_above  \\\n",
      "count  20991.000000  20991.000000  20991.000000  20991.000000  20991.000000   \n",
      "mean       0.007479      0.234481      3.409175      7.656805   1789.484827   \n",
      "std        0.086162      0.765996      0.650817      1.176546    828.936195   \n",
      "min        0.000000      0.000000      1.000000      1.000000    290.000000   \n",
      "25%        0.000000      0.000000      3.000000      7.000000   1200.000000   \n",
      "50%        0.000000      0.000000      3.000000      7.000000   1560.000000   \n",
      "75%        0.000000      0.000000      4.000000      8.000000   2210.000000   \n",
      "max        1.000000      4.000000      5.000000     13.000000   9410.000000   \n",
      "\n",
      "           ...           2015year         month           day  price_normed  \\\n",
      "count      ...       20991.000000  20991.000000  20991.000000  2.099100e+04   \n",
      "mean       ...           0.319089      6.595541     15.709733 -8.176861e-18   \n",
      "std        ...           0.466135      3.120161      8.615569  5.140312e-02   \n",
      "min        ...           0.000000      1.000000      1.000000 -6.492520e-02   \n",
      "25%        ...           0.000000      4.000000      8.000000 -3.070793e-02   \n",
      "50%        ...           0.000000      6.000000     16.000000 -1.255183e-02   \n",
      "75%        ...           1.000000      9.000000     23.000000  1.468232e-02   \n",
      "max        ...           1.000000     12.000000     31.000000  9.999999e-01   \n",
      "\n",
      "       Amazon_normed  Boeing_normed  Microsoft_normed  Starbucks_normed  \\\n",
      "count   20991.000000   20991.000000      20991.000000      20991.000000   \n",
      "mean        0.326539       0.398369          0.478854          0.366377   \n",
      "std         0.224375       0.270610          0.259342          0.262450   \n",
      "min         0.000000       0.000000          0.000000          0.000000   \n",
      "25%         0.155296       0.211409          0.252133          0.182698   \n",
      "50%         0.256023       0.305980          0.456872          0.249267   \n",
      "75%         0.526778       0.677758          0.704265          0.640469   \n",
      "max         1.000000       1.000000          1.000000          1.000000   \n",
      "\n",
      "       Walmart_normed    DJI_normed  \n",
      "count    20991.000000  20991.000000  \n",
      "mean         0.336638      0.539548  \n",
      "std          0.234275      0.256607  \n",
      "min          0.000000      0.000000  \n",
      "25%          0.153532      0.335679  \n",
      "50%          0.246351      0.458651  \n",
      "75%          0.539405      0.793629  \n",
      "max          1.000000      1.000000  \n",
      "\n",
      "[8 rows x 21 columns]\n"
     ]
    },
    {
     "data": {
      "text/plain": [
       "<function print>"
      ]
     },
     "execution_count": 5,
     "metadata": {},
     "output_type": "execute_result"
    }
   ],
   "source": [
    "Keepers = All_data[['datetime','bedrooms', 'bathrooms', 'sqft_living', 'sqft_lot', 'floors', 'waterfront', 'view'\n",
    "                    , 'condition', 'grade', 'sqft_above', 'sqft_basement',  '2015year', 'month'\n",
    "                    ,'day', 'price_normed', 'Amazon_normed','Boeing_normed', 'Microsoft_normed'\n",
    "                    , 'Starbucks_normed', 'Walmart_normed','DJI_normed']]\n",
    "print(Keepers.describe())\n",
    "print"
   ]
  },
  {
   "cell_type": "markdown",
   "metadata": {},
   "source": [
    "## Preliminary Data Model\n",
    "\n",
    "### I'll do a simply linear regression with all the features"
   ]
  },
  {
   "cell_type": "code",
   "execution_count": 6,
   "metadata": {},
   "outputs": [
    {
     "name": "stdout",
     "output_type": "stream",
     "text": [
      "bedrooms              int64\n",
      "bathrooms           float64\n",
      "sqft_living           int64\n",
      "sqft_lot              int64\n",
      "floors              float64\n",
      "waterfront            int64\n",
      "view                  int64\n",
      "condition             int64\n",
      "grade                 int64\n",
      "sqft_above            int64\n",
      "sqft_basement         int64\n",
      "2015year              int64\n",
      "month                 int64\n",
      "day                   int64\n",
      "Amazon_normed       float64\n",
      "Boeing_normed       float64\n",
      "Microsoft_normed    float64\n",
      "Starbucks_normed    float64\n",
      "Walmart_normed      float64\n",
      "DJI_normed          float64\n",
      "dtype: object (20991, 20)\n"
     ]
    },
    {
     "name": "stderr",
     "output_type": "stream",
     "text": [
      "/Applications/anaconda3/lib/python3.6/site-packages/ipykernel_launcher.py:7: SettingWithCopyWarning: \n",
      "A value is trying to be set on a copy of a slice from a DataFrame.\n",
      "Try using .loc[row_indexer,col_indexer] = value instead\n",
      "\n",
      "See the caveats in the documentation: http://pandas.pydata.org/pandas-docs/stable/indexing.html#indexing-view-versus-copy\n",
      "  import sys\n",
      "/Applications/anaconda3/lib/python3.6/site-packages/ipykernel_launcher.py:8: SettingWithCopyWarning: \n",
      "A value is trying to be set on a copy of a slice from a DataFrame.\n",
      "Try using .loc[row_indexer,col_indexer] = value instead\n",
      "\n",
      "See the caveats in the documentation: http://pandas.pydata.org/pandas-docs/stable/indexing.html#indexing-view-versus-copy\n",
      "  \n"
     ]
    }
   ],
   "source": [
    "import sklearn.linear_model as lm\n",
    "import sklearn as sk\n",
    "X = Keepers.drop(['price_normed','datetime'], axis = 1)\n",
    "Y = Keepers['price_normed']\n",
    "lm_mod = lm.LinearRegression(fit_intercept = True)\n",
    "mod_fit = lm_mod.fit(X, Y)\n",
    "Keepers['scores'] = mod_fit.predict(X)\n",
    "Keepers['resids'] = Keepers['scores'] - Keepers['price_normed']\n",
    "print(X.dtypes, X.shape)"
   ]
  },
  {
   "cell_type": "code",
   "execution_count": 7,
   "metadata": {},
   "outputs": [
    {
     "data": {
      "image/png": "[encoded data removed]",
      "text/plain": [
       "<Figure size 576x360 with 1 Axes>"
      ]
     },
     "metadata": {
      "needs_background": "light"
     },
     "output_type": "display_data"
    }
   ],
   "source": [
    "def plot_mod_fit(df, col):\n",
    "    import matplotlib.pyplot as plt\n",
    "    fig = plt.figure(figsize=(8, 5)) # set plot area\n",
    "    ax = fig.gca() # define axis  \n",
    "    df.loc[:, col].plot(color = 'r', ax = ax)\n",
    "    df.loc[:, 'scores'].plot(ax = ax) \n",
    "    ax.set_title('Actual ' + col + ' vs. the predicted values') # Give the plot a main title\n",
    "    ax.set_xlabel('Date') # Set text for the x axis\n",
    "    ax.set_ylabel(col)# Set text for y axis\n",
    "plot_mod_fit(Keepers, 'price_normed')  "
   ]
  },
  {
   "cell_type": "markdown",
   "metadata": {},
   "source": [
    "## Now I'll try a multiple regression"
   ]
  },
  {
   "cell_type": "code",
   "execution_count": 8,
   "metadata": {},
   "outputs": [
    {
     "name": "stdout",
     "output_type": "stream",
     "text": [
      "                            OLS Regression Results                            \n",
      "==============================================================================\n",
      "Dep. Variable:           price_normed   R-squared:                       1.000\n",
      "Model:                            OLS   Adj. R-squared:                  1.000\n",
      "Method:                 Least Squares   F-statistic:                 2.213e+27\n",
      "Date:                Wed, 17 Jul 2019   Prob (F-statistic):               0.00\n",
      "Time:                        13:32:47   Log-Likelihood:             6.2036e+05\n",
      "No. Observations:               20991   AIC:                        -1.241e+06\n",
      "Df Residuals:                   20970   BIC:                        -1.241e+06\n",
      "Df Model:                          20                                         \n",
      "Covariance Type:            nonrobust                                         \n",
      "====================================================================================\n",
      "                       coef    std err          t      P>|t|      [0.025      0.975]\n",
      "------------------------------------------------------------------------------------\n",
      "bedrooms          7.481e-18   3.68e-16      0.020      0.984   -7.15e-16     7.3e-16\n",
      "bathrooms         3.762e-17   5.44e-16      0.069      0.945   -1.03e-15     1.1e-15\n",
      "sqft_living       3.013e-14   5.86e-19   5.14e+04      0.000    3.01e-14    3.01e-14\n",
      "sqft_lot          8.004e-19   6.19e-21    129.202      0.000    7.88e-19    8.13e-19\n",
      "floors            1.331e-16   6.15e-16      0.216      0.829   -1.07e-15    1.34e-15\n",
      "waterfront       -1.639e-16   3.42e-15     -0.048      0.962   -6.86e-15    6.53e-15\n",
      "view             -6.418e-17   4.14e-16     -0.155      0.877   -8.75e-16    7.47e-16\n",
      "condition         9.395e-17   3.48e-16      0.270      0.787   -5.88e-16    7.76e-16\n",
      "grade             6.223e-17   2.74e-16      0.227      0.821   -4.76e-16       6e-16\n",
      "sqft_above       -3.013e-14   4.21e-19  -7.16e+04      0.000   -3.01e-14   -3.01e-14\n",
      "sqft_basement    -3.012e-14   5.11e-19   -5.9e+04      0.000   -3.01e-14   -3.01e-14\n",
      "2015year         -2.115e-15   3.08e-15     -0.687      0.492   -8.15e-15    3.92e-15\n",
      "month            -1.651e-16   2.58e-16     -0.640      0.522   -6.71e-16    3.41e-16\n",
      "day               1.018e-17    3.2e-17      0.318      0.750   -5.25e-17    7.28e-17\n",
      "Amazon_normed    -1.946e-15   3.56e-15     -0.546      0.585   -8.93e-15    5.04e-15\n",
      "Boeing_normed      2.35e-15   3.71e-15      0.633      0.526   -4.92e-15    9.62e-15\n",
      "Microsoft_normed   1.93e-15   2.67e-15      0.723      0.470   -3.31e-15    7.17e-15\n",
      "Starbucks_normed   3.98e-15   5.39e-15      0.738      0.461   -6.59e-15    1.46e-14\n",
      "Walmart_normed    5.031e-16   2.26e-15      0.222      0.824   -3.94e-15    4.94e-15\n",
      "DJI_normed        -2.92e-15   4.21e-15     -0.694      0.488   -1.12e-14    5.33e-15\n",
      "scores               1.0000   1.81e-14   5.51e+13      0.000       1.000       1.000\n",
      "resids              -1.0000   7.59e-15  -1.32e+14      0.000      -1.000      -1.000\n",
      "==============================================================================\n",
      "Omnibus:                    37390.799   Durbin-Watson:                   1.740\n",
      "Prob(Omnibus):                  0.000   Jarque-Bera (JB):         68115953.851\n",
      "Skew:                         -12.748   Prob(JB):                         0.00\n",
      "Kurtosis:                     280.903   Cond. No.                     3.95e+17\n",
      "==============================================================================\n",
      "\n",
      "Warnings:\n",
      "[1] Standard Errors assume that the covariance matrix of the errors is correctly specified.\n",
      "[2] The smallest eigenvalue is 2.6e-22. This might indicate that there are\n",
      "strong multicollinearity problems or that the design matrix is singular.\n"
     ]
    }
   ],
   "source": [
    "import statsmodels.api as sm\n",
    "X = Keepers.drop(['price_normed','datetime'], axis = 1)\n",
    "Y = Keepers['price_normed']\n",
    "##X = sm.add_constant(X)\n",
    "statmod = sm.OLS(Y,X)\n",
    "res = statmod.fit()\n",
    "print(res.summary())"
   ]
  },
  {
   "cell_type": "markdown",
   "metadata": {},
   "source": [
    "## Now I'll try a simple RNN model\n",
    "\n",
    "### This uses all the data to get a model, for part 3 I will do training and testing and evaluation\n",
    "\n",
    "### This gives an idea of how the errors decrease"
   ]
  },
  {
   "cell_type": "code",
   "execution_count": 9,
   "metadata": {},
   "outputs": [
    {
     "name": "stdout",
     "output_type": "stream",
     "text": [
      "Error after 0 iterations:0.45474100482451607\n",
      "Error after 1000 iterations:0.032705236632197314\n",
      "Error after 2000 iterations:0.032705236632197314\n",
      "Error after 3000 iterations:0.032705236632197314\n",
      "Error after 4000 iterations:0.032705236632197314\n",
      "Error after 5000 iterations:0.032705236632197314\n"
     ]
    }
   ],
   "source": [
    "# sigmoid function\n",
    "\n",
    "def nonlin(x,deriv=False):\n",
    "    if(deriv==True):\n",
    "        return x*(1-x)\n",
    "    return 1/(1+np.exp(-x))\n",
    "\n",
    "y = np.array([Y]).T\n",
    "np.random.seed(15200)\n",
    "\n",
    "# initialize weights randomly with mean 0\n",
    "\n",
    "##n = hidden layers\n",
    "\n",
    "n = 1\n",
    "syn0 = 2*np.random.random((22,n)) - 1\n",
    "syn1 = 2*np.random.random((n,1)) - 1\n",
    "\n",
    "for iter in range(5000+1):\n",
    " \n",
    "    # forward propagation\n",
    "    l_zero = X\n",
    "    l_one = nonlin(np.dot(l_zero,syn0))\n",
    "    l_two = nonlin(np.dot(l_one, syn1))\n",
    "    ##print(l_two)\n",
    "    # how much did we miss?\n",
    "    l_two_error = y - l_two\n",
    "    \n",
    " \n",
    "    # multiply how much we missed by the\n",
    "    # slope of the sigmoid at the values in l1\n",
    "    l_two_delta = l_two_error * nonlin(l_two,True)\n",
    "    l_one_error = l_two_delta.dot(syn1.T)\n",
    "    ##print('derivative is ', nonlin(l1,True))\n",
    "    # update weights\n",
    "    l_one_delta = l_one_error * nonlin(l_one,deriv=True)\n",
    "    if (iter% 1000) == 0:\n",
    "            print(\"Error after \"+str(iter)+\" iterations:\" + str(np.mean(np.abs(l_two_error))))\n",
    "    syn0 =syn0 + np.dot(l_zero.T,l_one_delta)\n",
    "    syn1 =syn1 + np.dot(l_one.T,l_two_delta)\n",
    "    "
   ]
  },
  {
   "cell_type": "markdown",
   "metadata": {},
   "source": [
    "## Try an RNN with a few more parameters to tweak"
   ]
  },
  {
   "cell_type": "code",
   "execution_count": 10,
   "metadata": {},
   "outputs": [
    {
     "name": "stdout",
     "output_type": "stream",
     "text": [
      "\n",
      "The number of epochs is  1000\n",
      "\n",
      "The number of layers is 4\n",
      "\n",
      "Training With Alpha: 0.01\n",
      "Error after 0 iterations:0.828630855182441\n",
      "Error after 200 iterations:0.032705236632197314\n",
      "Error after 400 iterations:0.032705236632197314\n",
      "Error after 600 iterations:0.032705236632197314\n",
      "Error after 800 iterations:0.032705236632197314\n",
      "Error after 1000 iterations:0.032705236632197314\n",
      "\n",
      "Training With Alpha: 0.1\n",
      "Error after 0 iterations:0.828630855182441\n",
      "Error after 200 iterations:0.032705236632197314\n",
      "Error after 400 iterations:0.032705236632197314\n",
      "Error after 600 iterations:0.032705236632197314\n",
      "Error after 800 iterations:0.032705236632197314\n",
      "Error after 1000 iterations:0.032705236632197314\n",
      "\n",
      "Training With Alpha: 1\n",
      "Error after 0 iterations:0.828630855182441\n",
      "Error after 200 iterations:0.032705236632197314\n",
      "Error after 400 iterations:0.032705236632197314\n",
      "Error after 600 iterations:0.032705236632197314\n",
      "Error after 800 iterations:0.032705236632197314\n",
      "Error after 1000 iterations:0.032705236632197314\n",
      "\n",
      "Training With Alpha: 10\n",
      "Error after 0 iterations:0.828630855182441\n",
      "Error after 200 iterations:0.032705236632197314\n",
      "Error after 400 iterations:0.032705236632197314\n",
      "Error after 600 iterations:0.032705236632197314\n",
      "Error after 800 iterations:0.032705236632197314\n",
      "Error after 1000 iterations:0.032705236632197314\n",
      "\n",
      "The number of layers is 8\n",
      "\n",
      "Training With Alpha: 0.01\n",
      "Error after 0 iterations:0.5487116990704423\n",
      "Error after 200 iterations:0.032705236632197265\n",
      "Error after 400 iterations:0.032705236632197265\n",
      "Error after 600 iterations:0.032705236632197265\n",
      "Error after 800 iterations:0.032705236632197265\n",
      "Error after 1000 iterations:0.032705236632197265\n",
      "\n",
      "Training With Alpha: 0.1\n",
      "Error after 0 iterations:0.5487116990704423\n",
      "Error after 200 iterations:0.032705236632197314\n",
      "Error after 400 iterations:0.032705236632197314\n",
      "Error after 600 iterations:0.032705236632197314\n",
      "Error after 800 iterations:0.032705236632197314\n",
      "Error after 1000 iterations:0.032705236632197314\n",
      "\n",
      "Training With Alpha: 1\n",
      "Error after 0 iterations:0.5487116990704423\n",
      "Error after 200 iterations:0.032705236632197314\n",
      "Error after 400 iterations:0.032705236632197314\n",
      "Error after 600 iterations:0.032705236632197314\n",
      "Error after 800 iterations:0.032705236632197314\n",
      "Error after 1000 iterations:0.032705236632197314\n",
      "\n",
      "Training With Alpha: 10\n",
      "Error after 0 iterations:0.5487116990704423\n",
      "Error after 200 iterations:0.032705236632197314\n",
      "Error after 400 iterations:0.032705236632197314\n",
      "Error after 600 iterations:0.032705236632197314\n",
      "Error after 800 iterations:0.032705236632197314\n",
      "Error after 1000 iterations:0.032705236632197314\n",
      "\n",
      "The number of layers is 12\n",
      "\n",
      "Training With Alpha: 0.01\n",
      "Error after 0 iterations:0.7332470921948142\n",
      "Error after 200 iterations:0.032705236632197314\n",
      "Error after 400 iterations:0.032705236632197314\n",
      "Error after 600 iterations:0.032705236632197314\n",
      "Error after 800 iterations:0.032705236632197314\n",
      "Error after 1000 iterations:0.032705236632197314\n",
      "\n",
      "Training With Alpha: 0.1\n",
      "Error after 0 iterations:0.7332470921948142\n",
      "Error after 200 iterations:0.032705236632197314\n",
      "Error after 400 iterations:0.032705236632197314\n",
      "Error after 600 iterations:0.032705236632197314\n",
      "Error after 800 iterations:0.032705236632197314\n",
      "Error after 1000 iterations:0.032705236632197314\n",
      "\n",
      "Training With Alpha: 1\n",
      "Error after 0 iterations:0.7332470921948142\n",
      "Error after 200 iterations:0.032705236632197314\n",
      "Error after 400 iterations:0.032705236632197314\n",
      "Error after 600 iterations:0.032705236632197314\n",
      "Error after 800 iterations:0.032705236632197314\n",
      "Error after 1000 iterations:0.032705236632197314\n",
      "\n",
      "Training With Alpha: 10\n",
      "Error after 0 iterations:0.7332470921948142\n",
      "Error after 200 iterations:0.032705236632197314\n",
      "Error after 400 iterations:0.032705236632197314\n",
      "Error after 600 iterations:0.032705236632197314\n",
      "Error after 800 iterations:0.032705236632197314\n",
      "Error after 1000 iterations:0.032705236632197314\n"
     ]
    }
   ],
   "source": [
    "n_lay = [4, 8, 12]\n",
    "alphaz = [0.01, 0.1, 1, 10]\n",
    "n_epochs = 1000\n",
    "width = 22\n",
    "\n",
    "print(\"\\nThe number of epochs is \", n_epochs)\n",
    "\n",
    "for layers in n_lay:\n",
    "    print(\"\\nThe number of layers is\", layers)\n",
    "    for alpha in alphaz:\n",
    "        np.random.seed(11)\n",
    "        ## now let's print out what alpha we are running\n",
    "        print(\"\\nTraining With Alpha:\", str(alpha))\n",
    "        ## initialize the weights of the layers\n",
    "        init_synapse = 2*np.random.random((width,layers)) - 1\n",
    "        next_synapse = 2*np.random.random((layers,1)) - 1\n",
    "    \n",
    "        for i in range(n_epochs + 1):\n",
    "            lyr_zed = X\n",
    "            lyr_one = nonlin(np.dot(lyr_zed,init_synapse))\n",
    "            lyr_two = nonlin(np.dot(lyr_one,next_synapse))\n",
    "                ## how far off?\n",
    "            lyr_two_error = y - lyr_two\n",
    "            lyr_two_delta = lyr_two_error * nonlin(lyr_two,True)\n",
    "            lyr_one_error = lyr_two_delta.dot(next_synapse.T)\n",
    "            lyr_one_delta = lyr_one_error * nonlin(lyr_one,True)\n",
    "            if (i% 200) == 0:\n",
    "                print(\"Error after \"+str(i)+\" iterations:\" + str(np.mean(np.abs(lyr_two_error))))\n",
    "            next_synapse = next_synapse + (alpha * (lyr_one.T.dot(lyr_two_delta)))\n",
    "            init_synapse = init_synapse + (alpha * (lyr_zed.T.dot(lyr_one_delta)))"
   ]
  },
  {
   "cell_type": "markdown",
   "metadata": {},
   "source": [
    "### Model Performance Evaluation"
   ]
  },
  {
   "cell_type": "markdown",
   "metadata": {},
   "source": [
    "## Most of the model performance, first pass, is above with the code\n",
    "\n",
    "### I'm really curious to see if I can improve the error in the RNN to less that 0.032 with better choices of learning-rate, width, number of layers, and feature selection. For example, I'm not sure Walmart's stock creates a lot of disposable cash for locals to bid up housing prices."
   ]
  },
  {
   "cell_type": "code",
   "execution_count": 11,
   "metadata": {},
   "outputs": [
    {
     "data": {
      "image/png": "[encoded data removed]",
      "text/plain": [
       "<Figure size 576x360 with 1 Axes>"
      ]
     },
     "metadata": {
      "needs_background": "light"
     },
     "output_type": "display_data"
    }
   ],
   "source": [
    "## The linear regression model\n",
    "\n",
    "def plot_mod_fit(df, col):\n",
    "    import matplotlib.pyplot as plt\n",
    "    fig = plt.figure(figsize=(8, 5)) # set plot area\n",
    "    ax = fig.gca() # define axis  \n",
    "    df.loc[:, col].plot(color = 'r', ax = ax)\n",
    "    df.loc[:, 'scores'].plot(ax = ax) \n",
    "    ax.set_title('Actual ' + col + ' vs. the predicted values') # Give the plot a main title\n",
    "    ax.set_xlabel('Date') # Set text for the x axis\n",
    "    ax.set_ylabel(col)# Set text for y axis\n",
    "plot_mod_fit(Keepers, 'price_normed')  "
   ]
  },
  {
   "cell_type": "markdown",
   "metadata": {},
   "source": [
    "## Improved Machine Learning Model(s)"
   ]
  },
  {
   "cell_type": "markdown",
   "metadata": {},
   "source": [
    "## I will use the same models: multiple regression, simple NN, and RNN - putting more effort into feature selection to try to improve performance in the final part.\n",
    "\n"
   ]
  },
  {
   "cell_type": "markdown",
   "metadata": {},
   "source": [
    "## Since I forgot to normalize the stock prices in the first part of the milestone, I will upload the normalized file so that I can start with that in the last part of the milestone\n"
   ]
  },
  {
   "cell_type": "code",
   "execution_count": 12,
   "metadata": {},
   "outputs": [
    {
     "ename": "HTTPError",
     "evalue": "HTTP Error 404: Not Found",
     "output_type": "error",
     "traceback": [
      "\u001b[0;31m---------------------------------------------------------------------------\u001b[0m",
      "\u001b[0;31mHTTPError\u001b[0m                                 Traceback (most recent call last)",
      "\u001b[0;32m<ipython-input-12-909006d0ffab>\u001b[0m in \u001b[0;36m<module>\u001b[0;34m\u001b[0m\n\u001b[1;32m      9\u001b[0m \u001b[0moutput_url\u001b[0m \u001b[0;34m=\u001b[0m \u001b[0;34m'https://raw.githubusercontent.com/mutecypher/DataSci-420/master/Keepers.csv'\u001b[0m\u001b[0;34m\u001b[0m\u001b[0;34m\u001b[0m\u001b[0m\n\u001b[1;32m     10\u001b[0m \u001b[0;34m\u001b[0m\u001b[0m\n\u001b[0;32m---> 11\u001b[0;31m \u001b[0mKeepers\u001b[0m \u001b[0;34m=\u001b[0m \u001b[0mpd\u001b[0m\u001b[0;34m.\u001b[0m\u001b[0mread_csv\u001b[0m\u001b[0;34m(\u001b[0m\u001b[0moutput_url\u001b[0m\u001b[0;34m)\u001b[0m\u001b[0;34m\u001b[0m\u001b[0;34m\u001b[0m\u001b[0m\n\u001b[0m\u001b[1;32m     12\u001b[0m \u001b[0mprint\u001b[0m\u001b[0;34m(\u001b[0m\u001b[0;34m\"\\n The tail of Keepers looks like\"\u001b[0m\u001b[0;34m)\u001b[0m\u001b[0;34m\u001b[0m\u001b[0;34m\u001b[0m\u001b[0m\n\u001b[1;32m     13\u001b[0m \u001b[0mprint\u001b[0m\u001b[0;34m(\u001b[0m\u001b[0;34m\"\\n\"\u001b[0m\u001b[0;34m,\u001b[0m \u001b[0mKeepers\u001b[0m\u001b[0;34m.\u001b[0m\u001b[0mtail\u001b[0m\u001b[0;34m(\u001b[0m\u001b[0;34m)\u001b[0m\u001b[0;34m)\u001b[0m\u001b[0;34m\u001b[0m\u001b[0;34m\u001b[0m\u001b[0m\n",
      "\u001b[0;32m/Applications/anaconda3/lib/python3.6/site-packages/pandas/io/parsers.py\u001b[0m in \u001b[0;36mparser_f\u001b[0;34m(filepath_or_buffer, sep, delimiter, header, names, index_col, usecols, squeeze, prefix, mangle_dupe_cols, dtype, engine, converters, true_values, false_values, skipinitialspace, skiprows, nrows, na_values, keep_default_na, na_filter, verbose, skip_blank_lines, parse_dates, infer_datetime_format, keep_date_col, date_parser, dayfirst, iterator, chunksize, compression, thousands, decimal, lineterminator, quotechar, quoting, escapechar, comment, encoding, dialect, tupleize_cols, error_bad_lines, warn_bad_lines, skipfooter, doublequote, delim_whitespace, low_memory, memory_map, float_precision)\u001b[0m\n\u001b[1;32m    676\u001b[0m                     skip_blank_lines=skip_blank_lines)\n\u001b[1;32m    677\u001b[0m \u001b[0;34m\u001b[0m\u001b[0m\n\u001b[0;32m--> 678\u001b[0;31m         \u001b[0;32mreturn\u001b[0m \u001b[0m_read\u001b[0m\u001b[0;34m(\u001b[0m\u001b[0mfilepath_or_buffer\u001b[0m\u001b[0;34m,\u001b[0m \u001b[0mkwds\u001b[0m\u001b[0;34m)\u001b[0m\u001b[0;34m\u001b[0m\u001b[0;34m\u001b[0m\u001b[0m\n\u001b[0m\u001b[1;32m    679\u001b[0m \u001b[0;34m\u001b[0m\u001b[0m\n\u001b[1;32m    680\u001b[0m     \u001b[0mparser_f\u001b[0m\u001b[0;34m.\u001b[0m\u001b[0m__name__\u001b[0m \u001b[0;34m=\u001b[0m \u001b[0mname\u001b[0m\u001b[0;34m\u001b[0m\u001b[0;34m\u001b[0m\u001b[0m\n",
      "\u001b[0;32m/Applications/anaconda3/lib/python3.6/site-packages/pandas/io/parsers.py\u001b[0m in \u001b[0;36m_read\u001b[0;34m(filepath_or_buffer, kwds)\u001b[0m\n\u001b[1;32m    422\u001b[0m     \u001b[0mcompression\u001b[0m \u001b[0;34m=\u001b[0m \u001b[0m_infer_compression\u001b[0m\u001b[0;34m(\u001b[0m\u001b[0mfilepath_or_buffer\u001b[0m\u001b[0;34m,\u001b[0m \u001b[0mcompression\u001b[0m\u001b[0;34m)\u001b[0m\u001b[0;34m\u001b[0m\u001b[0;34m\u001b[0m\u001b[0m\n\u001b[1;32m    423\u001b[0m     filepath_or_buffer, _, compression, should_close = get_filepath_or_buffer(\n\u001b[0;32m--> 424\u001b[0;31m         filepath_or_buffer, encoding, compression)\n\u001b[0m\u001b[1;32m    425\u001b[0m     \u001b[0mkwds\u001b[0m\u001b[0;34m[\u001b[0m\u001b[0;34m'compression'\u001b[0m\u001b[0;34m]\u001b[0m \u001b[0;34m=\u001b[0m \u001b[0mcompression\u001b[0m\u001b[0;34m\u001b[0m\u001b[0;34m\u001b[0m\u001b[0m\n\u001b[1;32m    426\u001b[0m \u001b[0;34m\u001b[0m\u001b[0m\n",
      "\u001b[0;32m/Applications/anaconda3/lib/python3.6/site-packages/pandas/io/common.py\u001b[0m in \u001b[0;36mget_filepath_or_buffer\u001b[0;34m(filepath_or_buffer, encoding, compression, mode)\u001b[0m\n\u001b[1;32m    193\u001b[0m \u001b[0;34m\u001b[0m\u001b[0m\n\u001b[1;32m    194\u001b[0m     \u001b[0;32mif\u001b[0m \u001b[0m_is_url\u001b[0m\u001b[0;34m(\u001b[0m\u001b[0mfilepath_or_buffer\u001b[0m\u001b[0;34m)\u001b[0m\u001b[0;34m:\u001b[0m\u001b[0;34m\u001b[0m\u001b[0;34m\u001b[0m\u001b[0m\n\u001b[0;32m--> 195\u001b[0;31m         \u001b[0mreq\u001b[0m \u001b[0;34m=\u001b[0m \u001b[0m_urlopen\u001b[0m\u001b[0;34m(\u001b[0m\u001b[0mfilepath_or_buffer\u001b[0m\u001b[0;34m)\u001b[0m\u001b[0;34m\u001b[0m\u001b[0;34m\u001b[0m\u001b[0m\n\u001b[0m\u001b[1;32m    196\u001b[0m         \u001b[0mcontent_encoding\u001b[0m \u001b[0;34m=\u001b[0m \u001b[0mreq\u001b[0m\u001b[0;34m.\u001b[0m\u001b[0mheaders\u001b[0m\u001b[0;34m.\u001b[0m\u001b[0mget\u001b[0m\u001b[0;34m(\u001b[0m\u001b[0;34m'Content-Encoding'\u001b[0m\u001b[0;34m,\u001b[0m \u001b[0;32mNone\u001b[0m\u001b[0;34m)\u001b[0m\u001b[0;34m\u001b[0m\u001b[0;34m\u001b[0m\u001b[0m\n\u001b[1;32m    197\u001b[0m         \u001b[0;32mif\u001b[0m \u001b[0mcontent_encoding\u001b[0m \u001b[0;34m==\u001b[0m \u001b[0;34m'gzip'\u001b[0m\u001b[0;34m:\u001b[0m\u001b[0;34m\u001b[0m\u001b[0;34m\u001b[0m\u001b[0m\n",
      "\u001b[0;32m/Applications/anaconda3/lib/python3.6/urllib/request.py\u001b[0m in \u001b[0;36murlopen\u001b[0;34m(url, data, timeout, cafile, capath, cadefault, context)\u001b[0m\n\u001b[1;32m    221\u001b[0m     \u001b[0;32melse\u001b[0m\u001b[0;34m:\u001b[0m\u001b[0;34m\u001b[0m\u001b[0;34m\u001b[0m\u001b[0m\n\u001b[1;32m    222\u001b[0m         \u001b[0mopener\u001b[0m \u001b[0;34m=\u001b[0m \u001b[0m_opener\u001b[0m\u001b[0;34m\u001b[0m\u001b[0;34m\u001b[0m\u001b[0m\n\u001b[0;32m--> 223\u001b[0;31m     \u001b[0;32mreturn\u001b[0m \u001b[0mopener\u001b[0m\u001b[0;34m.\u001b[0m\u001b[0mopen\u001b[0m\u001b[0;34m(\u001b[0m\u001b[0murl\u001b[0m\u001b[0;34m,\u001b[0m \u001b[0mdata\u001b[0m\u001b[0;34m,\u001b[0m \u001b[0mtimeout\u001b[0m\u001b[0;34m)\u001b[0m\u001b[0;34m\u001b[0m\u001b[0;34m\u001b[0m\u001b[0m\n\u001b[0m\u001b[1;32m    224\u001b[0m \u001b[0;34m\u001b[0m\u001b[0m\n\u001b[1;32m    225\u001b[0m \u001b[0;32mdef\u001b[0m \u001b[0minstall_opener\u001b[0m\u001b[0;34m(\u001b[0m\u001b[0mopener\u001b[0m\u001b[0;34m)\u001b[0m\u001b[0;34m:\u001b[0m\u001b[0;34m\u001b[0m\u001b[0;34m\u001b[0m\u001b[0m\n",
      "\u001b[0;32m/Applications/anaconda3/lib/python3.6/urllib/request.py\u001b[0m in \u001b[0;36mopen\u001b[0;34m(self, fullurl, data, timeout)\u001b[0m\n\u001b[1;32m    530\u001b[0m         \u001b[0;32mfor\u001b[0m \u001b[0mprocessor\u001b[0m \u001b[0;32min\u001b[0m \u001b[0mself\u001b[0m\u001b[0;34m.\u001b[0m\u001b[0mprocess_response\u001b[0m\u001b[0;34m.\u001b[0m\u001b[0mget\u001b[0m\u001b[0;34m(\u001b[0m\u001b[0mprotocol\u001b[0m\u001b[0;34m,\u001b[0m \u001b[0;34m[\u001b[0m\u001b[0;34m]\u001b[0m\u001b[0;34m)\u001b[0m\u001b[0;34m:\u001b[0m\u001b[0;34m\u001b[0m\u001b[0;34m\u001b[0m\u001b[0m\n\u001b[1;32m    531\u001b[0m             \u001b[0mmeth\u001b[0m \u001b[0;34m=\u001b[0m \u001b[0mgetattr\u001b[0m\u001b[0;34m(\u001b[0m\u001b[0mprocessor\u001b[0m\u001b[0;34m,\u001b[0m \u001b[0mmeth_name\u001b[0m\u001b[0;34m)\u001b[0m\u001b[0;34m\u001b[0m\u001b[0;34m\u001b[0m\u001b[0m\n\u001b[0;32m--> 532\u001b[0;31m             \u001b[0mresponse\u001b[0m \u001b[0;34m=\u001b[0m \u001b[0mmeth\u001b[0m\u001b[0;34m(\u001b[0m\u001b[0mreq\u001b[0m\u001b[0;34m,\u001b[0m \u001b[0mresponse\u001b[0m\u001b[0;34m)\u001b[0m\u001b[0;34m\u001b[0m\u001b[0;34m\u001b[0m\u001b[0m\n\u001b[0m\u001b[1;32m    533\u001b[0m \u001b[0;34m\u001b[0m\u001b[0m\n\u001b[1;32m    534\u001b[0m         \u001b[0;32mreturn\u001b[0m \u001b[0mresponse\u001b[0m\u001b[0;34m\u001b[0m\u001b[0;34m\u001b[0m\u001b[0m\n",
      "\u001b[0;32m/Applications/anaconda3/lib/python3.6/urllib/request.py\u001b[0m in \u001b[0;36mhttp_response\u001b[0;34m(self, request, response)\u001b[0m\n\u001b[1;32m    640\u001b[0m         \u001b[0;32mif\u001b[0m \u001b[0;32mnot\u001b[0m \u001b[0;34m(\u001b[0m\u001b[0;36m200\u001b[0m \u001b[0;34m<=\u001b[0m \u001b[0mcode\u001b[0m \u001b[0;34m<\u001b[0m \u001b[0;36m300\u001b[0m\u001b[0;34m)\u001b[0m\u001b[0;34m:\u001b[0m\u001b[0;34m\u001b[0m\u001b[0;34m\u001b[0m\u001b[0m\n\u001b[1;32m    641\u001b[0m             response = self.parent.error(\n\u001b[0;32m--> 642\u001b[0;31m                 'http', request, response, code, msg, hdrs)\n\u001b[0m\u001b[1;32m    643\u001b[0m \u001b[0;34m\u001b[0m\u001b[0m\n\u001b[1;32m    644\u001b[0m         \u001b[0;32mreturn\u001b[0m \u001b[0mresponse\u001b[0m\u001b[0;34m\u001b[0m\u001b[0;34m\u001b[0m\u001b[0m\n",
      "\u001b[0;32m/Applications/anaconda3/lib/python3.6/urllib/request.py\u001b[0m in \u001b[0;36merror\u001b[0;34m(self, proto, *args)\u001b[0m\n\u001b[1;32m    568\u001b[0m         \u001b[0;32mif\u001b[0m \u001b[0mhttp_err\u001b[0m\u001b[0;34m:\u001b[0m\u001b[0;34m\u001b[0m\u001b[0;34m\u001b[0m\u001b[0m\n\u001b[1;32m    569\u001b[0m             \u001b[0margs\u001b[0m \u001b[0;34m=\u001b[0m \u001b[0;34m(\u001b[0m\u001b[0mdict\u001b[0m\u001b[0;34m,\u001b[0m \u001b[0;34m'default'\u001b[0m\u001b[0;34m,\u001b[0m \u001b[0;34m'http_error_default'\u001b[0m\u001b[0;34m)\u001b[0m \u001b[0;34m+\u001b[0m \u001b[0morig_args\u001b[0m\u001b[0;34m\u001b[0m\u001b[0;34m\u001b[0m\u001b[0m\n\u001b[0;32m--> 570\u001b[0;31m             \u001b[0;32mreturn\u001b[0m \u001b[0mself\u001b[0m\u001b[0;34m.\u001b[0m\u001b[0m_call_chain\u001b[0m\u001b[0;34m(\u001b[0m\u001b[0;34m*\u001b[0m\u001b[0margs\u001b[0m\u001b[0;34m)\u001b[0m\u001b[0;34m\u001b[0m\u001b[0;34m\u001b[0m\u001b[0m\n\u001b[0m\u001b[1;32m    571\u001b[0m \u001b[0;34m\u001b[0m\u001b[0m\n\u001b[1;32m    572\u001b[0m \u001b[0;31m# XXX probably also want an abstract factory that knows when it makes\u001b[0m\u001b[0;34m\u001b[0m\u001b[0;34m\u001b[0m\u001b[0;34m\u001b[0m\u001b[0m\n",
      "\u001b[0;32m/Applications/anaconda3/lib/python3.6/urllib/request.py\u001b[0m in \u001b[0;36m_call_chain\u001b[0;34m(self, chain, kind, meth_name, *args)\u001b[0m\n\u001b[1;32m    502\u001b[0m         \u001b[0;32mfor\u001b[0m \u001b[0mhandler\u001b[0m \u001b[0;32min\u001b[0m \u001b[0mhandlers\u001b[0m\u001b[0;34m:\u001b[0m\u001b[0;34m\u001b[0m\u001b[0;34m\u001b[0m\u001b[0m\n\u001b[1;32m    503\u001b[0m             \u001b[0mfunc\u001b[0m \u001b[0;34m=\u001b[0m \u001b[0mgetattr\u001b[0m\u001b[0;34m(\u001b[0m\u001b[0mhandler\u001b[0m\u001b[0;34m,\u001b[0m \u001b[0mmeth_name\u001b[0m\u001b[0;34m)\u001b[0m\u001b[0;34m\u001b[0m\u001b[0;34m\u001b[0m\u001b[0m\n\u001b[0;32m--> 504\u001b[0;31m             \u001b[0mresult\u001b[0m \u001b[0;34m=\u001b[0m \u001b[0mfunc\u001b[0m\u001b[0;34m(\u001b[0m\u001b[0;34m*\u001b[0m\u001b[0margs\u001b[0m\u001b[0;34m)\u001b[0m\u001b[0;34m\u001b[0m\u001b[0;34m\u001b[0m\u001b[0m\n\u001b[0m\u001b[1;32m    505\u001b[0m             \u001b[0;32mif\u001b[0m \u001b[0mresult\u001b[0m \u001b[0;32mis\u001b[0m \u001b[0;32mnot\u001b[0m \u001b[0;32mNone\u001b[0m\u001b[0;34m:\u001b[0m\u001b[0;34m\u001b[0m\u001b[0;34m\u001b[0m\u001b[0m\n\u001b[1;32m    506\u001b[0m                 \u001b[0;32mreturn\u001b[0m \u001b[0mresult\u001b[0m\u001b[0;34m\u001b[0m\u001b[0;34m\u001b[0m\u001b[0m\n",
      "\u001b[0;32m/Applications/anaconda3/lib/python3.6/urllib/request.py\u001b[0m in \u001b[0;36mhttp_error_default\u001b[0;34m(self, req, fp, code, msg, hdrs)\u001b[0m\n\u001b[1;32m    648\u001b[0m \u001b[0;32mclass\u001b[0m \u001b[0mHTTPDefaultErrorHandler\u001b[0m\u001b[0;34m(\u001b[0m\u001b[0mBaseHandler\u001b[0m\u001b[0;34m)\u001b[0m\u001b[0;34m:\u001b[0m\u001b[0;34m\u001b[0m\u001b[0;34m\u001b[0m\u001b[0m\n\u001b[1;32m    649\u001b[0m     \u001b[0;32mdef\u001b[0m \u001b[0mhttp_error_default\u001b[0m\u001b[0;34m(\u001b[0m\u001b[0mself\u001b[0m\u001b[0;34m,\u001b[0m \u001b[0mreq\u001b[0m\u001b[0;34m,\u001b[0m \u001b[0mfp\u001b[0m\u001b[0;34m,\u001b[0m \u001b[0mcode\u001b[0m\u001b[0;34m,\u001b[0m \u001b[0mmsg\u001b[0m\u001b[0;34m,\u001b[0m \u001b[0mhdrs\u001b[0m\u001b[0;34m)\u001b[0m\u001b[0;34m:\u001b[0m\u001b[0;34m\u001b[0m\u001b[0;34m\u001b[0m\u001b[0m\n\u001b[0;32m--> 650\u001b[0;31m         \u001b[0;32mraise\u001b[0m \u001b[0mHTTPError\u001b[0m\u001b[0;34m(\u001b[0m\u001b[0mreq\u001b[0m\u001b[0;34m.\u001b[0m\u001b[0mfull_url\u001b[0m\u001b[0;34m,\u001b[0m \u001b[0mcode\u001b[0m\u001b[0;34m,\u001b[0m \u001b[0mmsg\u001b[0m\u001b[0;34m,\u001b[0m \u001b[0mhdrs\u001b[0m\u001b[0;34m,\u001b[0m \u001b[0mfp\u001b[0m\u001b[0;34m)\u001b[0m\u001b[0;34m\u001b[0m\u001b[0;34m\u001b[0m\u001b[0m\n\u001b[0m\u001b[1;32m    651\u001b[0m \u001b[0;34m\u001b[0m\u001b[0m\n\u001b[1;32m    652\u001b[0m \u001b[0;32mclass\u001b[0m \u001b[0mHTTPRedirectHandler\u001b[0m\u001b[0;34m(\u001b[0m\u001b[0mBaseHandler\u001b[0m\u001b[0;34m)\u001b[0m\u001b[0;34m:\u001b[0m\u001b[0;34m\u001b[0m\u001b[0;34m\u001b[0m\u001b[0m\n",
      "\u001b[0;31mHTTPError\u001b[0m: HTTP Error 404: Not Found"
     ]
    }
   ],
   "source": [
    "## I didn't have much luck trying to directly upload this to github, but it will be there at sync\n",
    "\n",
    "output_filename = \"Keepers.csv\"\n",
    "Keepers.to_csv(output_filename,  encoding='utf-8', index=False)\n",
    "\n",
    "\n",
    "## You can see that it is now readable from github\n",
    "\n",
    "output_url = 'https://raw.githubusercontent.com/mutecypher/DataSci-420/master/Keepers.csv'\n",
    "\n",
    "Keepers = pd.read_csv(output_url)\n",
    "print(\"\\n The tail of Keepers looks like\")\n",
    "print(\"\\n\", Keepers.tail())"
   ]
  },
  {
   "cell_type": "code",
   "execution_count": null,
   "metadata": {},
   "outputs": [],
   "source": []
  }
 ],
 "metadata": {
  "kernelspec": {
   "display_name": "Python 3",
   "language": "python",
   "name": "python3"
  },
  "language_info": {
   "codemirror_mode": {
    "name": "ipython",
    "version": 3
   },
   "file_extension": ".py",
   "mimetype": "text/x-python",
   "name": "python",
   "nbconvert_exporter": "python",
   "pygments_lexer": "ipython3",
   "version": "3.6.8"
  }
 },
 "nbformat": 4,
 "nbformat_minor": 2
}

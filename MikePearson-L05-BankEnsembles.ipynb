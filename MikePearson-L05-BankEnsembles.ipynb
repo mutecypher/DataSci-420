{
 "cells": [
  {
   "cell_type": "markdown",
   "metadata": {},
   "source": [
    "# Lesson 5 Assignment - Targeted Marketing Campaign\n",
    "\n",
    "## Author - Mike Pearson"
   ]
  },
  {
   "cell_type": "markdown",
   "metadata": {},
   "source": [
    "In this problem we will use historical data from past customer responses to build a classification model.\n",
    "\n",
    "We will apply the trained model to a new set of prospects to whom we may want extend an offer for a [Personal Equity Plan](https://www.investopedia.com/terms/p/pep.asp). Rather than doing a mass marketing campaign to all new prospects, we would like to target those that are likely to respond positively to our offer (according to our classification model)."
   ]
  },
  {
   "cell_type": "markdown",
   "metadata": {},
   "source": [
    "## Tasks\n",
    "Use the provided Bank Data.csv file: \n",
    "\n",
    "1. Read in, parse and preprocess the data\n",
    "2. Perform a brief exploratory analysis\n",
    "3. Compare the performance between a decision tree and a random forest approach by assessing the accuracy of each model\n",
    "4. Graph the structure of your decision tree\n",
    "5. Graph the confusion matrix of your random forest model\n"
   ]
  },
  {
   "cell_type": "code",
   "execution_count": 1,
   "metadata": {},
   "outputs": [],
   "source": [
    "# Data set contains 600 rows and 11 columns.\n",
    "URL = \"https://library.startlearninglabs.uw.edu/DATASCI420/Datasets/Bank%20Data.csv\"\n"
   ]
  },
  {
   "cell_type": "code",
   "execution_count": 6,
   "metadata": {},
   "outputs": [],
   "source": [
    "# Import libraries\n",
    "import numpy as np\n",
    "import pandas as pd\n",
    "from sklearn.model_selection import train_test_split\n"
   ]
  },
  {
   "cell_type": "code",
   "execution_count": 23,
   "metadata": {},
   "outputs": [
    {
     "data": {
      "text/html": [
       "<div>\n",
       "<style scoped>\n",
       "    .dataframe tbody tr th:only-of-type {\n",
       "        vertical-align: middle;\n",
       "    }\n",
       "\n",
       "    .dataframe tbody tr th {\n",
       "        vertical-align: top;\n",
       "    }\n",
       "\n",
       "    .dataframe thead th {\n",
       "        text-align: right;\n",
       "    }\n",
       "</style>\n",
       "<table border=\"1\" class=\"dataframe\">\n",
       "  <thead>\n",
       "    <tr style=\"text-align: right;\">\n",
       "      <th></th>\n",
       "      <th>age</th>\n",
       "      <th>sex</th>\n",
       "      <th>region</th>\n",
       "      <th>income</th>\n",
       "      <th>married</th>\n",
       "      <th>children</th>\n",
       "      <th>car</th>\n",
       "      <th>save_act</th>\n",
       "      <th>current_act</th>\n",
       "      <th>mortgage</th>\n",
       "      <th>pep</th>\n",
       "    </tr>\n",
       "  </thead>\n",
       "  <tbody>\n",
       "    <tr>\n",
       "      <th>0</th>\n",
       "      <td>48</td>\n",
       "      <td>FEMALE</td>\n",
       "      <td>INNER_CITY</td>\n",
       "      <td>17546.0</td>\n",
       "      <td>NO</td>\n",
       "      <td>1</td>\n",
       "      <td>NO</td>\n",
       "      <td>NO</td>\n",
       "      <td>NO</td>\n",
       "      <td>NO</td>\n",
       "      <td>YES</td>\n",
       "    </tr>\n",
       "    <tr>\n",
       "      <th>1</th>\n",
       "      <td>40</td>\n",
       "      <td>MALE</td>\n",
       "      <td>TOWN</td>\n",
       "      <td>30085.1</td>\n",
       "      <td>YES</td>\n",
       "      <td>3</td>\n",
       "      <td>YES</td>\n",
       "      <td>NO</td>\n",
       "      <td>YES</td>\n",
       "      <td>YES</td>\n",
       "      <td>NO</td>\n",
       "    </tr>\n",
       "    <tr>\n",
       "      <th>2</th>\n",
       "      <td>51</td>\n",
       "      <td>FEMALE</td>\n",
       "      <td>INNER_CITY</td>\n",
       "      <td>16575.4</td>\n",
       "      <td>YES</td>\n",
       "      <td>0</td>\n",
       "      <td>YES</td>\n",
       "      <td>YES</td>\n",
       "      <td>YES</td>\n",
       "      <td>NO</td>\n",
       "      <td>NO</td>\n",
       "    </tr>\n",
       "    <tr>\n",
       "      <th>3</th>\n",
       "      <td>23</td>\n",
       "      <td>FEMALE</td>\n",
       "      <td>TOWN</td>\n",
       "      <td>20375.4</td>\n",
       "      <td>YES</td>\n",
       "      <td>3</td>\n",
       "      <td>NO</td>\n",
       "      <td>NO</td>\n",
       "      <td>YES</td>\n",
       "      <td>NO</td>\n",
       "      <td>NO</td>\n",
       "    </tr>\n",
       "    <tr>\n",
       "      <th>4</th>\n",
       "      <td>57</td>\n",
       "      <td>FEMALE</td>\n",
       "      <td>RURAL</td>\n",
       "      <td>50576.3</td>\n",
       "      <td>YES</td>\n",
       "      <td>0</td>\n",
       "      <td>NO</td>\n",
       "      <td>YES</td>\n",
       "      <td>NO</td>\n",
       "      <td>NO</td>\n",
       "      <td>NO</td>\n",
       "    </tr>\n",
       "  </tbody>\n",
       "</table>\n",
       "</div>"
      ],
      "text/plain": [
       "   age     sex      region   income married  children  car save_act  \\\n",
       "0   48  FEMALE  INNER_CITY  17546.0      NO         1   NO       NO   \n",
       "1   40    MALE        TOWN  30085.1     YES         3  YES       NO   \n",
       "2   51  FEMALE  INNER_CITY  16575.4     YES         0  YES      YES   \n",
       "3   23  FEMALE        TOWN  20375.4     YES         3   NO       NO   \n",
       "4   57  FEMALE       RURAL  50576.3     YES         0   NO      YES   \n",
       "\n",
       "  current_act mortgage  pep  \n",
       "0          NO       NO  YES  \n",
       "1         YES      YES   NO  \n",
       "2         YES       NO   NO  \n",
       "3         YES       NO   NO  \n",
       "4          NO       NO   NO  "
      ]
     },
     "execution_count": 23,
     "metadata": {},
     "output_type": "execute_result"
    }
   ],
   "source": [
    "bank_data = pd.read_csv(URL)\n",
    "bank_data.head()"
   ]
  },
  {
   "cell_type": "code",
   "execution_count": 24,
   "metadata": {},
   "outputs": [
    {
     "name": "stdout",
     "output_type": "stream",
     "text": [
      "              age        income    children\n",
      "count  600.000000    600.000000  600.000000\n",
      "mean    42.395000  27524.031217    1.011667\n",
      "std     14.424947  12899.468246    1.056752\n",
      "min     18.000000   5014.210000    0.000000\n",
      "25%     30.000000  17264.500000    0.000000\n",
      "50%     42.000000  24925.300000    1.000000\n",
      "75%     55.250000  36172.675000    2.000000\n",
      "max     67.000000  63130.100000    3.000000\n",
      "(600, 11)\n",
      "age              int64\n",
      "sex             object\n",
      "region          object\n",
      "income         float64\n",
      "married         object\n",
      "children         int64\n",
      "car             object\n",
      "save_act        object\n",
      "current_act     object\n",
      "mortgage        object\n",
      "pep             object\n",
      "dtype: object\n"
     ]
    }
   ],
   "source": [
    "print(bank_data.describe())\n",
    "print(bank_data.shape)\n",
    "print(bank_data.dtypes)"
   ]
  },
  {
   "cell_type": "code",
   "execution_count": 25,
   "metadata": {},
   "outputs": [
    {
     "name": "stdout",
     "output_type": "stream",
     "text": [
      "INNER_CITY    269\n",
      "TOWN          173\n",
      "RURAL          96\n",
      "SUBURBAN       62\n",
      "Name: region, dtype: int64\n"
     ]
    }
   ],
   "source": [
    "print(bank_data['region'].value_counts())"
   ]
  },
  {
   "cell_type": "markdown",
   "metadata": {},
   "source": [
    "## Let's do some one hot encoding on the data"
   ]
  },
  {
   "cell_type": "code",
   "execution_count": 26,
   "metadata": {},
   "outputs": [
    {
     "name": "stdout",
     "output_type": "stream",
     "text": [
      "   age     sex      region   income married  children  car save_act  \\\n",
      "0   48  FEMALE  INNER_CITY  17546.0      NO         1   NO       NO   \n",
      "1   40    MALE        TOWN  30085.1     YES         3  YES       NO   \n",
      "2   51  FEMALE  INNER_CITY  16575.4     YES         0  YES      YES   \n",
      "3   23  FEMALE        TOWN  20375.4     YES         3   NO       NO   \n",
      "4   57  FEMALE       RURAL  50576.3     YES         0   NO      YES   \n",
      "\n",
      "  current_act mortgage  pep  LESex  LERegion  LEMarried  LECar  LESaving  \\\n",
      "0          NO       NO  YES      0         0          0      0         0   \n",
      "1         YES      YES   NO      1         3          1      1         0   \n",
      "2         YES       NO   NO      0         0          1      1         1   \n",
      "3         YES       NO   NO      0         3          1      0         0   \n",
      "4          NO       NO   NO      0         1          1      0         1   \n",
      "\n",
      "   LECurrAcc  LEMort  LEPep  \n",
      "0          0       0      1  \n",
      "1          1       1      0  \n",
      "2          1       0      0  \n",
      "3          1       0      0  \n",
      "4          0       0      0  \n"
     ]
    }
   ],
   "source": [
    "from sklearn.preprocessing import LabelEncoder\n",
    "from sklearn.preprocessing import LabelEncoder\n",
    "le_sex = LabelEncoder()\n",
    "le_region = LabelEncoder()\n",
    "le_married = LabelEncoder()\n",
    "le_car = LabelEncoder()\n",
    "le_savingacc = LabelEncoder()\n",
    "le_currentacc = LabelEncoder()\n",
    "le_mortgage = LabelEncoder()\n",
    "le_pep = LabelEncoder()\n",
    "bank_data['LESex']= le_sex.fit_transform(bank_data.sex)\n",
    "bank_data['LERegion']= le_region.fit_transform(bank_data.region)\n",
    "bank_data['LEMarried']= le_married.fit_transform(bank_data.married)\n",
    "bank_data['LECar']= le_car.fit_transform(bank_data.car)\n",
    "bank_data['LESaving']= le_savingacc.fit_transform(bank_data.save_act)\n",
    "bank_data['LECurrAcc']= le_currentacc.fit_transform(bank_data.current_act)\n",
    "bank_data['LEMort']= le_mortgage.fit_transform(bank_data.mortgage)\n",
    "bank_data['LEPep']= le_pep.fit_transform(bank_data.pep)\n",
    "print(bank_data.head())"
   ]
  },
  {
   "cell_type": "markdown",
   "metadata": {},
   "source": [
    "## Time to do the decision tree"
   ]
  },
  {
   "cell_type": "code",
   "execution_count": 34,
   "metadata": {},
   "outputs": [],
   "source": [
    "bank_data = bank_data.dropna() \n",
    "results = bank_data['LEPep'].astype(str).astype(int)\n",
    "banksy = bank_data.drop(['sex','region', 'married', 'car', 'save_act', 'current_act', 'mortgage', 'pep','LEPep'], axis = 1)\n",
    "\n",
    "from sklearn.model_selection import train_test_split\n",
    "# Ensure the decision tree is deterministic\n",
    "import numpy as np\n",
    "np.random.seed(101)\n",
    "\n",
    "## split into test and training sets\n",
    "\n",
    "X_train, X_test, y_train, y_test = train_test_split(banksy, results, test_size = 0.25, random_state=1)\n",
    "\n",
    "\n",
    "from sklearn.tree import DecisionTreeClassifier \n",
    "\n",
    "# Use entropy = no limit on samples for split\n",
    "model_ent = DecisionTreeClassifier(criterion='entropy', random_state = 101).fit(X_train, y_train) \n",
    "y_ent_pred = model_ent.predict(X_test)\n",
    "\n",
    "# Use information gain (default) limit min_samples to 2\n",
    "model_gini = DecisionTreeClassifier(min_samples_leaf=2, random_state = 101).fit(X_train, y_train)\n",
    "y_gini_pred = model_gini.predict(X_test)"
   ]
  },
  {
   "cell_type": "markdown",
   "metadata": {},
   "source": [
    "## Time for some accuracy scores"
   ]
  },
  {
   "cell_type": "code",
   "execution_count": 35,
   "metadata": {},
   "outputs": [
    {
     "name": "stdout",
     "output_type": "stream",
     "text": [
      "Variables are\n",
      " ['age', 'income', 'children', 'LESex', 'LERegion', 'LEMarried', 'LECar', 'LESaving', 'LECurrAcc', 'LEMort']\n",
      "Number of mislabeled Entropy points out of a total 150 points : 37\n",
      "Entropy Accuracy = 75.33\n",
      "entropy false positive rate: [0.         0.21686747 1.        ]\n",
      "entropy true positive rate: [0.         0.71641791 1.        ]\n",
      "Entropy AUC = 0.750\n",
      "Number of mislabeled Entropy points out of a total 150 points : 37\n",
      "Gini Accuracy = 78.00\n",
      "Gini false positive rate [0.         0.18072289 1.        ]\n",
      "Gini true positive rate: [0.         0.73134328 1.        ]\n",
      "Gini AUC = 0.775\n"
     ]
    }
   ],
   "source": [
    "# Generate an accuracy Score\n",
    "from sklearn.metrics import accuracy_score\n",
    "from sklearn.metrics import roc_curve, auc\n",
    "misclassified_ent_points = (y_test != y_ent_pred).sum()\n",
    "misclassified_gini_points = (y_test != y_gini_pred).sum()\n",
    "##print(\"Entropy accuracy is : {}%\".format(accuracy_score(y_test, y_ent_pred)*100))\n",
    "##print(\"Gini accuracy is : {}%\".format(accuracy_score(y_test, y_gini_pred)*100))\n",
    "print(\"Variables are\\n\", list(X_train))\n",
    "print(\"Number of mislabeled Entropy points out of a total %d points : %d\"\\\n",
    "      % (X_test.shape[0], misclassified_ent_points))\n",
    "print(\"Entropy Accuracy = %.2f\"%(round((y_test.shape[0] - float(misclassified_ent_points))/y_test.shape[0]*100,2)))\n",
    "fpr, tpr, threshold = roc_curve(y_test, y_ent_pred)\n",
    "print(\"entropy false positive rate:\", fpr)\n",
    "print(\"entropy true positive rate:\", tpr)\n",
    "print(\"Entropy AUC = %.3f\"%(auc(fpr, tpr)))\n",
    "print(\"Number of mislabeled Entropy points out of a total %d points : %d\"\\\n",
    "      % (X_test.shape[0], misclassified_ent_points))\n",
    "print(\"Gini Accuracy = %.2f\"%(round((y_test.shape[0] - float(misclassified_gini_points))/y_test.shape[0]*100,2)))\n",
    "fpr, tpr, threshold = roc_curve(y_test, y_gini_pred)\n",
    "print(\"Gini false positive rate\", fpr)\n",
    "print(\"Gini true positive rate:\", tpr)\n",
    "print(\"Gini AUC = %.3f\"%(auc(fpr, tpr)))"
   ]
  },
  {
   "cell_type": "markdown",
   "metadata": {},
   "source": [
    "## now for the Random Forest"
   ]
  },
  {
   "cell_type": "code",
   "execution_count": 36,
   "metadata": {},
   "outputs": [
    {
     "data": {
      "text/plain": [
       "RandomForestClassifier(bootstrap=True, class_weight=None, criterion='gini',\n",
       "            max_depth=None, max_features='auto', max_leaf_nodes=None,\n",
       "            min_impurity_decrease=0.0, min_impurity_split=None,\n",
       "            min_samples_leaf=1, min_samples_split=2,\n",
       "            min_weight_fraction_leaf=0.0, n_estimators=20, n_jobs=2,\n",
       "            oob_score=False, random_state=0, verbose=0, warm_start=False)"
      ]
     },
     "execution_count": 36,
     "metadata": {},
     "output_type": "execute_result"
    }
   ],
   "source": [
    "from sklearn.ensemble import RandomForestClassifier\n",
    "# Create a random forest Classifier\n",
    "clf = RandomForestClassifier(n_jobs=2, \n",
    "                             random_state=0,\n",
    "                            n_estimators=20)\n",
    "\n",
    "# take the training features and learn how they relate\n",
    "# to the training y (the species)\n",
    "clf.fit(X_train, np.ravel(y_train))"
   ]
  },
  {
   "cell_type": "markdown",
   "metadata": {},
   "source": [
    "## And the accuracy is..."
   ]
  },
  {
   "cell_type": "code",
   "execution_count": 37,
   "metadata": {},
   "outputs": [
    {
     "name": "stdout",
     "output_type": "stream",
     "text": [
      "[0.19218911 0.27070301 0.21334755 0.03036747 0.06412602 0.06886925\n",
      " 0.02845302 0.04230263 0.02909833 0.06054361]\n",
      "   age   income  children  LESex  LERegion  LEMarried  LECar  LESaving  \\\n",
      "0   48  17546.0         1      0         0          0      0         0   \n",
      "1   40  30085.1         3      1         3          1      1         0   \n",
      "2   51  16575.4         0      0         0          1      1         1   \n",
      "3   23  20375.4         3      0         3          1      0         0   \n",
      "4   57  50576.3         0      0         1          1      0         1   \n",
      "\n",
      "   LECurrAcc  LEMort  \n",
      "0          0       0  \n",
      "1          1       1  \n",
      "2          1       0  \n",
      "3          1       0  \n",
      "4          0       0  \n"
     ]
    }
   ],
   "source": [
    "print(clf.feature_importances_)\n",
    "list(zip(banksy, clf.feature_importances_))\n",
    "print(banksy.head())"
   ]
  },
  {
   "cell_type": "code",
   "execution_count": null,
   "metadata": {},
   "outputs": [],
   "source": []
  }
 ],
 "metadata": {
  "kernelspec": {
   "display_name": "Python 3",
   "language": "python",
   "name": "python3"
  },
  "language_info": {
   "codemirror_mode": {
    "name": "ipython",
    "version": 3
   },
   "file_extension": ".py",
   "mimetype": "text/x-python",
   "name": "python",
   "nbconvert_exporter": "python",
   "pygments_lexer": "ipython3",
   "version": "3.6.7"
  }
 },
 "nbformat": 4,
 "nbformat_minor": 2
}

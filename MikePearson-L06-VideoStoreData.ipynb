{
 "cells": [
  {
   "cell_type": "raw",
   "metadata": {},
   "source": []
  },
  {
   "cell_type": "markdown",
   "metadata": {},
   "source": [
    "# Lesson 6 Assignment - Video Store Data Analysis\n",
    "\n",
    "## Author - Mike Pearson\n",
    "\n",
    "### Background\n",
    "Consider the data collected by a hypothetical video store for 50 regular customers.\n",
    "\n",
    "This data consists of a table which, for each customer, records the following attributes:\n",
    "* Gender\n",
    "* Income\n",
    "* Age\n",
    "* Rentals - Total number of video rentals in the past year\n",
    "* Avg. per visit - Average number of video rentals per visit during the past year\n",
    "* Incidentals - Whether the customer tends to buy incidental items such as refreshments when renting a video\n",
    "* Genre - The customer's preferred movie genre"
   ]
  },
  {
   "cell_type": "markdown",
   "metadata": {},
   "source": [
    "## Tasks\n",
    "Use the provided Video_Store.csv file, perform each of the following data preparation tasks and answer the related questions:\n",
    "\n",
    "a) Split the age attribute into bins, using a bin depth of 4.\n",
    "\n",
    "b) Use min-max normalization to transform the values of the Income attribute onto the range [0.0-1.0] and save results in new column. You'll need the income column again. \n",
    "\n",
    "c) Use z-score normalization to standardize the values of the Rentals attribute.\n",
    "\n",
    "d) Discretize the (original) Income attribute based on the following categories: High = 60K+; Mid = 25K-59K; Low = less than $25K and keep in a separate column. Later you will compare which method has better results. \n",
    "\n",
    "e) Create a list of your categorical values so that you can encode them. \n",
    "\n",
    "f) On your categorical values, encode them and then perform basic correlation analysis among the attributes. Discuss your results by indicating any strong correlations (positive or negative) among pairs of attributes. You will need to construct a complete Correlation Matrix (Please read the brief document <a href=\"https://library.startlearninglabs.uw.edu/DATASCI420/PDF/DATASCI%20420%20Basic%20Correlation%20Analysis.pdf\">Basic Correlation Analysis</a> for more detail). *Can you observe any \"significant\" patterns among groups of two or more variables? Explain.*\n",
    "\n",
    "g) Use Pandas dataframe filtering to select all \"good\" customers with a high value for the Rentals attribute (a \"good customer is defined as one with a Rentals value of greater than or equal to 30). From the subset, create a summary using the describe function (e.g., using means, medians, and/or other statistics). *What patterns do you see? Explain.*\n",
    "\n",
    "**Note:** To know whether your observed patterns in the target group are significant, you need to compare them with the general population using the same metrics.\n",
    "\n",
    "h) Suppose that because of the high profit margin, the store would like to increase the sales of incidentals. Based on your observations in previous parts discuss how this could be accomplished? (e.g., Should customers with specific characteristics be targeted? Should certain types of movies be preferred? etc.). Explain your answer based on your analysis of the data.\n"
   ]
  },
  {
   "cell_type": "markdown",
   "metadata": {},
   "source": [
    "**Hints:**\n",
    "\n",
    "- Review basic statistics for different attributes by using the pandas functions you learned about\n",
    "\n",
    "- Consider discretizing the Age attribute.\n",
    "\n",
    "- Make sure numerical variables are on the same scale"
   ]
  },
  {
   "cell_type": "code",
   "execution_count": null,
   "metadata": {},
   "outputs": [],
   "source": [
    "# Data set contains 600 rows and 11 columns.\n",
    "URL = \"https://library.startlearninglabs.uw.edu/DATASCI420/Datasets/Video_Store.csv\"\n"
   ]
  },
  {
   "cell_type": "code",
   "execution_count": null,
   "metadata": {},
   "outputs": [],
   "source": [
    "# Import libraries\n"
   ]
  }
 ],
 "metadata": {
  "kernelspec": {
   "display_name": "Python 3",
   "language": "python",
   "name": "python3"
  },
  "language_info": {
   "codemirror_mode": {
    "name": "ipython",
    "version": 3
   },
   "file_extension": ".py",
   "mimetype": "text/x-python",
   "name": "python",
   "nbconvert_exporter": "python",
   "pygments_lexer": "ipython3",
   "version": "3.6.7"
  }
 },
 "nbformat": 4,
 "nbformat_minor": 2
}
